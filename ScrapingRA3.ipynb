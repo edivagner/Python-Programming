{
 "cells": [
  {
   "cell_type": "code",
   "execution_count": 1,
   "metadata": {
    "collapsed": true
   },
   "outputs": [],
   "source": [
    "# !pip install pandas\n",
    "# !pip install requests\n",
    "# !pip install bs4\n",
    "# !pip install plotly"
   ]
  },
  {
   "cell_type": "code",
   "execution_count": 2,
   "outputs": [],
   "source": [
    "import numpy as np\n",
    "import pandas as pd\n",
    "import requests\n",
    "from bs4 import BeautifulSoup"
   ],
   "metadata": {
    "collapsed": false,
    "pycharm": {
     "name": "#%%\n"
    }
   }
  },
  {
   "cell_type": "code",
   "execution_count": 3,
   "outputs": [],
   "source": [
    "RA_df = pd.DataFrame(columns=[\"CaseID\", \"Date\", \"Time\", \"LocationCity\", \"LocationState\", \"Status\", \"dealAgain\", \"Rate\", \"Links\"])"
   ],
   "metadata": {
    "collapsed": false,
    "pycharm": {
     "name": "#%% dataframe table\n"
    }
   }
  },
  {
   "cell_type": "code",
   "execution_count": 4,
   "outputs": [],
   "source": [
    "def getLinks(urlLink, HEADERS):\n",
    "    html_data = requests.get(urlLink, headers=HEADERS)\n",
    "    beautiful_soup = BeautifulSoup(html_data.content, 'html.parser')\n",
    "    linksList = []\n",
    "    dataLink = beautiful_soup.findAll('div',attrs={'class':'sc-1pe7b5t-0 bJdtis'})\n",
    "    for div in dataLink:\n",
    "        links = div.findAll('a')\n",
    "        # dataTitle = div.find('h4').getText()\n",
    "        # print(dataTitle)\n",
    "        for a in links:\n",
    "            # print(a['href'] )\n",
    "            linksList.append(a['href'])\n",
    "\n",
    "    return linksList"
   ],
   "metadata": {
    "collapsed": false,
    "pycharm": {
     "name": "#%% Function to extract links from webpage\n"
    }
   }
  },
  {
   "cell_type": "code",
   "execution_count": 5,
   "outputs": [],
   "source": [
    "def getDataComplaint(ListOfLinks, HEADERS):\n",
    "\n",
    "    intoURL = \"https://www.reclameaqui.com.br\" + ListOfLinks\n",
    "\n",
    "    html_data_RA = requests.get(intoURL, headers=HEADERS)\n",
    "\n",
    "    beautiful_soup_RA = BeautifulSoup(html_data_RA.content, 'html.parser')\n",
    "    # print(beautiful_soup_RA.title)\n",
    "\n",
    "    complaint = beautiful_soup_RA.find('div',attrs={'class':'lzlu7c-10 fYCrvq'})\n",
    "    # print(complaint)\n",
    "    complaintID = complaint.find('span',attrs={'data-testid':'complaint-id'}).getText()\n",
    "    complaintIDnumber = (complaintID.split())\n",
    "    complaintCreationDate = complaint.find('span',attrs={'data-testid':'complaint-creation-date'}).getText()\n",
    "    complaintCreation = (complaintCreationDate.split())\n",
    "    complaintLocation = complaint.find('span',attrs={'data-testid':'complaint-location'}).getText()\n",
    "    complaintLocation = (complaintLocation.split(\"-\"))\n",
    "\n",
    "    complaintStatus = beautiful_soup_RA.find('div',attrs={'data-testid':'complaint-status'}).getText()\n",
    "    if complaintStatus == \"Respondida\" or \"Em réplica\":\n",
    "        dealAgainStatus = \"NaN\"\n",
    "        valueRate = \"NaN\"\n",
    "    if complaintStatus == \"Resolvido\" :\n",
    "        dealAgainStatus = beautiful_soup_RA.find('div',attrs={'data-testid':'complaint-deal-again'}).getText()\n",
    "        valueRate = beautiful_soup_RA.find('div',attrs={'class':'uh4o7z-3 ceUcTc'}).getText()\n",
    "\n",
    "\n",
    "    dataArray = [complaintIDnumber[1], complaintCreation[0], complaintCreation[2], complaintLocation[0], complaintLocation[1], complaintStatus, dealAgainStatus, valueRate, ListOfLinks]\n",
    "\n",
    "    return dataArray"
   ],
   "metadata": {
    "collapsed": false,
    "pycharm": {
     "name": "#%% Function to extract data from complain\n"
    }
   }
  },
  {
   "cell_type": "code",
   "execution_count": 6,
   "outputs": [
    {
     "name": "stdout",
     "output_type": "stream",
     "text": [
      "https://www.reclameaqui.com.br/empresa/norton/lista-reclamacoes/?pagina=01\n",
      "https://www.reclameaqui.com.br/empresa/norton/lista-reclamacoes/?pagina=11\n",
      "https://www.reclameaqui.com.br/empresa/norton/lista-reclamacoes/?pagina=21\n"
     ]
    },
    {
     "name": "stderr",
     "output_type": "stream",
     "text": [
      "C:\\Users\\ediva\\AppData\\Local\\Temp\\ipykernel_6860\\563384400.py:18: FutureWarning: The frame.append method is deprecated and will be removed from pandas in a future version. Use pandas.concat instead.\n",
      "  RA_df = RA_df.append({\"CaseID\":list[0],\n",
      "C:\\Users\\ediva\\AppData\\Local\\Temp\\ipykernel_6860\\563384400.py:18: FutureWarning: The frame.append method is deprecated and will be removed from pandas in a future version. Use pandas.concat instead.\n",
      "  RA_df = RA_df.append({\"CaseID\":list[0],\n",
      "C:\\Users\\ediva\\AppData\\Local\\Temp\\ipykernel_6860\\563384400.py:18: FutureWarning: The frame.append method is deprecated and will be removed from pandas in a future version. Use pandas.concat instead.\n",
      "  RA_df = RA_df.append({\"CaseID\":list[0],\n",
      "C:\\Users\\ediva\\AppData\\Local\\Temp\\ipykernel_6860\\563384400.py:18: FutureWarning: The frame.append method is deprecated and will be removed from pandas in a future version. Use pandas.concat instead.\n",
      "  RA_df = RA_df.append({\"CaseID\":list[0],\n",
      "C:\\Users\\ediva\\AppData\\Local\\Temp\\ipykernel_6860\\563384400.py:18: FutureWarning: The frame.append method is deprecated and will be removed from pandas in a future version. Use pandas.concat instead.\n",
      "  RA_df = RA_df.append({\"CaseID\":list[0],\n",
      "C:\\Users\\ediva\\AppData\\Local\\Temp\\ipykernel_6860\\563384400.py:18: FutureWarning: The frame.append method is deprecated and will be removed from pandas in a future version. Use pandas.concat instead.\n",
      "  RA_df = RA_df.append({\"CaseID\":list[0],\n",
      "C:\\Users\\ediva\\AppData\\Local\\Temp\\ipykernel_6860\\563384400.py:18: FutureWarning: The frame.append method is deprecated and will be removed from pandas in a future version. Use pandas.concat instead.\n",
      "  RA_df = RA_df.append({\"CaseID\":list[0],\n",
      "C:\\Users\\ediva\\AppData\\Local\\Temp\\ipykernel_6860\\563384400.py:18: FutureWarning: The frame.append method is deprecated and will be removed from pandas in a future version. Use pandas.concat instead.\n",
      "  RA_df = RA_df.append({\"CaseID\":list[0],\n",
      "C:\\Users\\ediva\\AppData\\Local\\Temp\\ipykernel_6860\\563384400.py:18: FutureWarning: The frame.append method is deprecated and will be removed from pandas in a future version. Use pandas.concat instead.\n",
      "  RA_df = RA_df.append({\"CaseID\":list[0],\n",
      "C:\\Users\\ediva\\AppData\\Local\\Temp\\ipykernel_6860\\563384400.py:18: FutureWarning: The frame.append method is deprecated and will be removed from pandas in a future version. Use pandas.concat instead.\n",
      "  RA_df = RA_df.append({\"CaseID\":list[0],\n",
      "C:\\Users\\ediva\\AppData\\Local\\Temp\\ipykernel_6860\\563384400.py:18: FutureWarning: The frame.append method is deprecated and will be removed from pandas in a future version. Use pandas.concat instead.\n",
      "  RA_df = RA_df.append({\"CaseID\":list[0],\n",
      "C:\\Users\\ediva\\AppData\\Local\\Temp\\ipykernel_6860\\563384400.py:18: FutureWarning: The frame.append method is deprecated and will be removed from pandas in a future version. Use pandas.concat instead.\n",
      "  RA_df = RA_df.append({\"CaseID\":list[0],\n",
      "C:\\Users\\ediva\\AppData\\Local\\Temp\\ipykernel_6860\\563384400.py:18: FutureWarning: The frame.append method is deprecated and will be removed from pandas in a future version. Use pandas.concat instead.\n",
      "  RA_df = RA_df.append({\"CaseID\":list[0],\n",
      "C:\\Users\\ediva\\AppData\\Local\\Temp\\ipykernel_6860\\563384400.py:18: FutureWarning: The frame.append method is deprecated and will be removed from pandas in a future version. Use pandas.concat instead.\n",
      "  RA_df = RA_df.append({\"CaseID\":list[0],\n",
      "C:\\Users\\ediva\\AppData\\Local\\Temp\\ipykernel_6860\\563384400.py:18: FutureWarning: The frame.append method is deprecated and will be removed from pandas in a future version. Use pandas.concat instead.\n",
      "  RA_df = RA_df.append({\"CaseID\":list[0],\n",
      "C:\\Users\\ediva\\AppData\\Local\\Temp\\ipykernel_6860\\563384400.py:18: FutureWarning: The frame.append method is deprecated and will be removed from pandas in a future version. Use pandas.concat instead.\n",
      "  RA_df = RA_df.append({\"CaseID\":list[0],\n",
      "C:\\Users\\ediva\\AppData\\Local\\Temp\\ipykernel_6860\\563384400.py:18: FutureWarning: The frame.append method is deprecated and will be removed from pandas in a future version. Use pandas.concat instead.\n",
      "  RA_df = RA_df.append({\"CaseID\":list[0],\n",
      "C:\\Users\\ediva\\AppData\\Local\\Temp\\ipykernel_6860\\563384400.py:18: FutureWarning: The frame.append method is deprecated and will be removed from pandas in a future version. Use pandas.concat instead.\n",
      "  RA_df = RA_df.append({\"CaseID\":list[0],\n",
      "C:\\Users\\ediva\\AppData\\Local\\Temp\\ipykernel_6860\\563384400.py:18: FutureWarning: The frame.append method is deprecated and will be removed from pandas in a future version. Use pandas.concat instead.\n",
      "  RA_df = RA_df.append({\"CaseID\":list[0],\n",
      "C:\\Users\\ediva\\AppData\\Local\\Temp\\ipykernel_6860\\563384400.py:18: FutureWarning: The frame.append method is deprecated and will be removed from pandas in a future version. Use pandas.concat instead.\n",
      "  RA_df = RA_df.append({\"CaseID\":list[0],\n",
      "C:\\Users\\ediva\\AppData\\Local\\Temp\\ipykernel_6860\\563384400.py:18: FutureWarning: The frame.append method is deprecated and will be removed from pandas in a future version. Use pandas.concat instead.\n",
      "  RA_df = RA_df.append({\"CaseID\":list[0],\n",
      "C:\\Users\\ediva\\AppData\\Local\\Temp\\ipykernel_6860\\563384400.py:18: FutureWarning: The frame.append method is deprecated and will be removed from pandas in a future version. Use pandas.concat instead.\n",
      "  RA_df = RA_df.append({\"CaseID\":list[0],\n",
      "C:\\Users\\ediva\\AppData\\Local\\Temp\\ipykernel_6860\\563384400.py:18: FutureWarning: The frame.append method is deprecated and will be removed from pandas in a future version. Use pandas.concat instead.\n",
      "  RA_df = RA_df.append({\"CaseID\":list[0],\n",
      "C:\\Users\\ediva\\AppData\\Local\\Temp\\ipykernel_6860\\563384400.py:18: FutureWarning: The frame.append method is deprecated and will be removed from pandas in a future version. Use pandas.concat instead.\n",
      "  RA_df = RA_df.append({\"CaseID\":list[0],\n",
      "C:\\Users\\ediva\\AppData\\Local\\Temp\\ipykernel_6860\\563384400.py:18: FutureWarning: The frame.append method is deprecated and will be removed from pandas in a future version. Use pandas.concat instead.\n",
      "  RA_df = RA_df.append({\"CaseID\":list[0],\n",
      "C:\\Users\\ediva\\AppData\\Local\\Temp\\ipykernel_6860\\563384400.py:18: FutureWarning: The frame.append method is deprecated and will be removed from pandas in a future version. Use pandas.concat instead.\n",
      "  RA_df = RA_df.append({\"CaseID\":list[0],\n",
      "C:\\Users\\ediva\\AppData\\Local\\Temp\\ipykernel_6860\\563384400.py:18: FutureWarning: The frame.append method is deprecated and will be removed from pandas in a future version. Use pandas.concat instead.\n",
      "  RA_df = RA_df.append({\"CaseID\":list[0],\n",
      "C:\\Users\\ediva\\AppData\\Local\\Temp\\ipykernel_6860\\563384400.py:18: FutureWarning: The frame.append method is deprecated and will be removed from pandas in a future version. Use pandas.concat instead.\n",
      "  RA_df = RA_df.append({\"CaseID\":list[0],\n",
      "C:\\Users\\ediva\\AppData\\Local\\Temp\\ipykernel_6860\\563384400.py:18: FutureWarning: The frame.append method is deprecated and will be removed from pandas in a future version. Use pandas.concat instead.\n",
      "  RA_df = RA_df.append({\"CaseID\":list[0],\n",
      "C:\\Users\\ediva\\AppData\\Local\\Temp\\ipykernel_6860\\563384400.py:18: FutureWarning: The frame.append method is deprecated and will be removed from pandas in a future version. Use pandas.concat instead.\n",
      "  RA_df = RA_df.append({\"CaseID\":list[0],\n"
     ]
    },
    {
     "data": {
      "text/plain": "       CaseID        Date   Time           LocationCity LocationState  \\\n0   149051889  24/08/2022  14:25               Niterói             RJ   \n1   149041885  24/08/2022  12:12        Patos de Minas             MG   \n2   148805443  24/08/2022  08:36        Rio de Janeiro             RJ   \n3   148995635  23/08/2022  16:59          Belford Roxo             RJ   \n4   148936563  22/08/2022  19:28                   Ipu             CE   \n5   148928891  22/08/2022  17:36        Patos de Minas             MG   \n6   148906975  22/08/2022  13:14          Porto Alegre             RS   \n7   148885929  22/08/2022  09:06        Rio de Janeiro             RJ   \n8   148876405  21/08/2022  21:28            Ponta Porã             MS   \n9   148810339  19/08/2022  18:59        Rio de Janeiro             RJ   \n10  148804453  19/08/2022  17:06              Itanhaém             SP   \n11  148803845  19/08/2022  16:55                Macapá             AP   \n12  148773035  19/08/2022  09:55              Salvador             BA   \n13  148760465  18/08/2022  22:44             São Paulo             SP   \n14  148752467  18/08/2022  19:54        Rio de Janeiro             RJ   \n15  148700417  18/08/2022  06:52               Pocrane             MG   \n16  148694505  17/08/2022  22:40  Governador Valadares             MG   \n17  148678919  17/08/2022  18:02              Araruama             RJ   \n18  148672133  17/08/2022  16:26             Cabo Frio             RJ   \n19  148661427  17/08/2022  14:13        Rio de Janeiro             RJ   \n20  148531537  15/08/2022  17:26                Muriaé             MG   \n21  148479525  14/08/2022  21:23                Recife             PE   \n22  148432557  13/08/2022  08:35             São Paulo             SP   \n23  148397439  12/08/2022  13:35                Canoas             RS   \n24  148371065  12/08/2022  02:08              Salvador             BA   \n25  148352505  11/08/2022  18:11             Guarulhos             SP   \n26  148346287  11/08/2022  16:41              Paulista             PE   \n27  148341483  11/08/2022  15:38             São Paulo             SP   \n28  148304335  11/08/2022  02:34             São Paulo             SP   \n29  148244497  10/08/2022  09:50      Feira de Santana             BA   \n\n        Status dealAgain Rate  \\\n0   Respondida       NaN  NaN   \n1    Resolvido       Sim    8   \n2   Em réplica       NaN  NaN   \n3   Respondida       NaN  NaN   \n4   Respondida       NaN  NaN   \n5    Resolvido       Não    3   \n6   Respondida       NaN  NaN   \n7   Respondida       NaN  NaN   \n8   Em réplica       NaN  NaN   \n9   Em réplica       NaN  NaN   \n10   Resolvido       Sim   10   \n11  Respondida       NaN  NaN   \n12   Resolvido       Sim   10   \n13   Resolvido       Sim    9   \n14  Em réplica       NaN  NaN   \n15  Respondida       NaN  NaN   \n16   Resolvido       Sim   10   \n17  Respondida       NaN  NaN   \n18  Respondida       NaN  NaN   \n19  Respondida       NaN  NaN   \n20   Resolvido       Sim    8   \n21   Resolvido       Não   10   \n22  Respondida       NaN  NaN   \n23  Respondida       NaN  NaN   \n24  Respondida       NaN  NaN   \n25  Respondida       NaN  NaN   \n26  Respondida       NaN  NaN   \n27   Resolvido       Sim    5   \n28  Em réplica       NaN  NaN   \n29   Resolvido       Sim    8   \n\n                                                Links  \n0   /norton/valor-abusivo-para-renovacao_yUKJtoGAB...  \n1   /norton/cobranca-de-assinatura-nao-solicitada_...  \n2   /norton/norton-antivirus-renova-protecao-sem-a...  \n3   /norton/solicitei-o-reembolso-e-nao-obtive-res...  \n4   /norton/cancelar-renovacao-cobrada-no-cartao_0...  \n5   /norton/tentativa-de-cobranca-de-renovacao-de-...  \n6   /norton/cobranca-antecipada-e-sem-autorizacao-...  \n7   /norton/app-lock-falhas-no-bloqueio_d81zgNoQVc...  \n8   /norton/nao-autorizei-o-pagamento-automatico-n...  \n9   /norton/renovacao-automatica-acontece-mesmo-el...  \n10   /norton/cobranca-antes-do-prazo_l8I3Zb7Y0gJuFEKf  \n11  /norton/minha-conta-retorna-a-mensagem-de-que-...  \n12           /norton/suporte-pessimo_ig5XD65CRGC2lnFr  \n13  /norton/a-norton-perdeu-minha-conta-e-nao-reso...  \n14  /norton/1-ano-esperando-reembolso_95PWSqOOzxWk...  \n15  /norton/nao-consigo-acessar-minha-conta-mais-p...  \n16  /norton/renovacao-automatica-indevida_7bpb5ATI...  \n17         /norton/cobranca-indevida_4DZpzIDcbcFdEVml  \n18  /norton/nao-consigo-solicitar-reembolso_4z4Dq0...  \n19  /norton/norton-nao-funciona-e-ninguem-resolve-...  \n20  /norton/renovacao-de-anti-virus-sem-comunicaca...  \n21  /norton/renovacao-automatica-sem-consentimento...  \n22                 /norton/reembolso_F27TgN_dm0W7niBJ  \n23         /norton/cobranca-indevida_nYrG21f7K85hvI3x  \n24  /norton/abuso-da-norton-antivirus-nav_5Hc5_rkm...  \n25  /norton/atendete-tatiana-anti-virus-total-desr...  \n26  /norton/fui-desvinculada-depois-que-fiz-uma-co...  \n27        /norton/software-em-ingles_7fmdDyhlnpjh5Lsj  \n28  /norton/cancelamento-e-reembolso-do-cartao-de-...  \n29  /norton/renovacao-automatica-indevida-e-abusiv...  ",
      "text/html": "<div>\n<style scoped>\n    .dataframe tbody tr th:only-of-type {\n        vertical-align: middle;\n    }\n\n    .dataframe tbody tr th {\n        vertical-align: top;\n    }\n\n    .dataframe thead th {\n        text-align: right;\n    }\n</style>\n<table border=\"1\" class=\"dataframe\">\n  <thead>\n    <tr style=\"text-align: right;\">\n      <th></th>\n      <th>CaseID</th>\n      <th>Date</th>\n      <th>Time</th>\n      <th>LocationCity</th>\n      <th>LocationState</th>\n      <th>Status</th>\n      <th>dealAgain</th>\n      <th>Rate</th>\n      <th>Links</th>\n    </tr>\n  </thead>\n  <tbody>\n    <tr>\n      <th>0</th>\n      <td>149051889</td>\n      <td>24/08/2022</td>\n      <td>14:25</td>\n      <td>Niterói</td>\n      <td>RJ</td>\n      <td>Respondida</td>\n      <td>NaN</td>\n      <td>NaN</td>\n      <td>/norton/valor-abusivo-para-renovacao_yUKJtoGAB...</td>\n    </tr>\n    <tr>\n      <th>1</th>\n      <td>149041885</td>\n      <td>24/08/2022</td>\n      <td>12:12</td>\n      <td>Patos de Minas</td>\n      <td>MG</td>\n      <td>Resolvido</td>\n      <td>Sim</td>\n      <td>8</td>\n      <td>/norton/cobranca-de-assinatura-nao-solicitada_...</td>\n    </tr>\n    <tr>\n      <th>2</th>\n      <td>148805443</td>\n      <td>24/08/2022</td>\n      <td>08:36</td>\n      <td>Rio de Janeiro</td>\n      <td>RJ</td>\n      <td>Em réplica</td>\n      <td>NaN</td>\n      <td>NaN</td>\n      <td>/norton/norton-antivirus-renova-protecao-sem-a...</td>\n    </tr>\n    <tr>\n      <th>3</th>\n      <td>148995635</td>\n      <td>23/08/2022</td>\n      <td>16:59</td>\n      <td>Belford Roxo</td>\n      <td>RJ</td>\n      <td>Respondida</td>\n      <td>NaN</td>\n      <td>NaN</td>\n      <td>/norton/solicitei-o-reembolso-e-nao-obtive-res...</td>\n    </tr>\n    <tr>\n      <th>4</th>\n      <td>148936563</td>\n      <td>22/08/2022</td>\n      <td>19:28</td>\n      <td>Ipu</td>\n      <td>CE</td>\n      <td>Respondida</td>\n      <td>NaN</td>\n      <td>NaN</td>\n      <td>/norton/cancelar-renovacao-cobrada-no-cartao_0...</td>\n    </tr>\n    <tr>\n      <th>5</th>\n      <td>148928891</td>\n      <td>22/08/2022</td>\n      <td>17:36</td>\n      <td>Patos de Minas</td>\n      <td>MG</td>\n      <td>Resolvido</td>\n      <td>Não</td>\n      <td>3</td>\n      <td>/norton/tentativa-de-cobranca-de-renovacao-de-...</td>\n    </tr>\n    <tr>\n      <th>6</th>\n      <td>148906975</td>\n      <td>22/08/2022</td>\n      <td>13:14</td>\n      <td>Porto Alegre</td>\n      <td>RS</td>\n      <td>Respondida</td>\n      <td>NaN</td>\n      <td>NaN</td>\n      <td>/norton/cobranca-antecipada-e-sem-autorizacao-...</td>\n    </tr>\n    <tr>\n      <th>7</th>\n      <td>148885929</td>\n      <td>22/08/2022</td>\n      <td>09:06</td>\n      <td>Rio de Janeiro</td>\n      <td>RJ</td>\n      <td>Respondida</td>\n      <td>NaN</td>\n      <td>NaN</td>\n      <td>/norton/app-lock-falhas-no-bloqueio_d81zgNoQVc...</td>\n    </tr>\n    <tr>\n      <th>8</th>\n      <td>148876405</td>\n      <td>21/08/2022</td>\n      <td>21:28</td>\n      <td>Ponta Porã</td>\n      <td>MS</td>\n      <td>Em réplica</td>\n      <td>NaN</td>\n      <td>NaN</td>\n      <td>/norton/nao-autorizei-o-pagamento-automatico-n...</td>\n    </tr>\n    <tr>\n      <th>9</th>\n      <td>148810339</td>\n      <td>19/08/2022</td>\n      <td>18:59</td>\n      <td>Rio de Janeiro</td>\n      <td>RJ</td>\n      <td>Em réplica</td>\n      <td>NaN</td>\n      <td>NaN</td>\n      <td>/norton/renovacao-automatica-acontece-mesmo-el...</td>\n    </tr>\n    <tr>\n      <th>10</th>\n      <td>148804453</td>\n      <td>19/08/2022</td>\n      <td>17:06</td>\n      <td>Itanhaém</td>\n      <td>SP</td>\n      <td>Resolvido</td>\n      <td>Sim</td>\n      <td>10</td>\n      <td>/norton/cobranca-antes-do-prazo_l8I3Zb7Y0gJuFEKf</td>\n    </tr>\n    <tr>\n      <th>11</th>\n      <td>148803845</td>\n      <td>19/08/2022</td>\n      <td>16:55</td>\n      <td>Macapá</td>\n      <td>AP</td>\n      <td>Respondida</td>\n      <td>NaN</td>\n      <td>NaN</td>\n      <td>/norton/minha-conta-retorna-a-mensagem-de-que-...</td>\n    </tr>\n    <tr>\n      <th>12</th>\n      <td>148773035</td>\n      <td>19/08/2022</td>\n      <td>09:55</td>\n      <td>Salvador</td>\n      <td>BA</td>\n      <td>Resolvido</td>\n      <td>Sim</td>\n      <td>10</td>\n      <td>/norton/suporte-pessimo_ig5XD65CRGC2lnFr</td>\n    </tr>\n    <tr>\n      <th>13</th>\n      <td>148760465</td>\n      <td>18/08/2022</td>\n      <td>22:44</td>\n      <td>São Paulo</td>\n      <td>SP</td>\n      <td>Resolvido</td>\n      <td>Sim</td>\n      <td>9</td>\n      <td>/norton/a-norton-perdeu-minha-conta-e-nao-reso...</td>\n    </tr>\n    <tr>\n      <th>14</th>\n      <td>148752467</td>\n      <td>18/08/2022</td>\n      <td>19:54</td>\n      <td>Rio de Janeiro</td>\n      <td>RJ</td>\n      <td>Em réplica</td>\n      <td>NaN</td>\n      <td>NaN</td>\n      <td>/norton/1-ano-esperando-reembolso_95PWSqOOzxWk...</td>\n    </tr>\n    <tr>\n      <th>15</th>\n      <td>148700417</td>\n      <td>18/08/2022</td>\n      <td>06:52</td>\n      <td>Pocrane</td>\n      <td>MG</td>\n      <td>Respondida</td>\n      <td>NaN</td>\n      <td>NaN</td>\n      <td>/norton/nao-consigo-acessar-minha-conta-mais-p...</td>\n    </tr>\n    <tr>\n      <th>16</th>\n      <td>148694505</td>\n      <td>17/08/2022</td>\n      <td>22:40</td>\n      <td>Governador Valadares</td>\n      <td>MG</td>\n      <td>Resolvido</td>\n      <td>Sim</td>\n      <td>10</td>\n      <td>/norton/renovacao-automatica-indevida_7bpb5ATI...</td>\n    </tr>\n    <tr>\n      <th>17</th>\n      <td>148678919</td>\n      <td>17/08/2022</td>\n      <td>18:02</td>\n      <td>Araruama</td>\n      <td>RJ</td>\n      <td>Respondida</td>\n      <td>NaN</td>\n      <td>NaN</td>\n      <td>/norton/cobranca-indevida_4DZpzIDcbcFdEVml</td>\n    </tr>\n    <tr>\n      <th>18</th>\n      <td>148672133</td>\n      <td>17/08/2022</td>\n      <td>16:26</td>\n      <td>Cabo Frio</td>\n      <td>RJ</td>\n      <td>Respondida</td>\n      <td>NaN</td>\n      <td>NaN</td>\n      <td>/norton/nao-consigo-solicitar-reembolso_4z4Dq0...</td>\n    </tr>\n    <tr>\n      <th>19</th>\n      <td>148661427</td>\n      <td>17/08/2022</td>\n      <td>14:13</td>\n      <td>Rio de Janeiro</td>\n      <td>RJ</td>\n      <td>Respondida</td>\n      <td>NaN</td>\n      <td>NaN</td>\n      <td>/norton/norton-nao-funciona-e-ninguem-resolve-...</td>\n    </tr>\n    <tr>\n      <th>20</th>\n      <td>148531537</td>\n      <td>15/08/2022</td>\n      <td>17:26</td>\n      <td>Muriaé</td>\n      <td>MG</td>\n      <td>Resolvido</td>\n      <td>Sim</td>\n      <td>8</td>\n      <td>/norton/renovacao-de-anti-virus-sem-comunicaca...</td>\n    </tr>\n    <tr>\n      <th>21</th>\n      <td>148479525</td>\n      <td>14/08/2022</td>\n      <td>21:23</td>\n      <td>Recife</td>\n      <td>PE</td>\n      <td>Resolvido</td>\n      <td>Não</td>\n      <td>10</td>\n      <td>/norton/renovacao-automatica-sem-consentimento...</td>\n    </tr>\n    <tr>\n      <th>22</th>\n      <td>148432557</td>\n      <td>13/08/2022</td>\n      <td>08:35</td>\n      <td>São Paulo</td>\n      <td>SP</td>\n      <td>Respondida</td>\n      <td>NaN</td>\n      <td>NaN</td>\n      <td>/norton/reembolso_F27TgN_dm0W7niBJ</td>\n    </tr>\n    <tr>\n      <th>23</th>\n      <td>148397439</td>\n      <td>12/08/2022</td>\n      <td>13:35</td>\n      <td>Canoas</td>\n      <td>RS</td>\n      <td>Respondida</td>\n      <td>NaN</td>\n      <td>NaN</td>\n      <td>/norton/cobranca-indevida_nYrG21f7K85hvI3x</td>\n    </tr>\n    <tr>\n      <th>24</th>\n      <td>148371065</td>\n      <td>12/08/2022</td>\n      <td>02:08</td>\n      <td>Salvador</td>\n      <td>BA</td>\n      <td>Respondida</td>\n      <td>NaN</td>\n      <td>NaN</td>\n      <td>/norton/abuso-da-norton-antivirus-nav_5Hc5_rkm...</td>\n    </tr>\n    <tr>\n      <th>25</th>\n      <td>148352505</td>\n      <td>11/08/2022</td>\n      <td>18:11</td>\n      <td>Guarulhos</td>\n      <td>SP</td>\n      <td>Respondida</td>\n      <td>NaN</td>\n      <td>NaN</td>\n      <td>/norton/atendete-tatiana-anti-virus-total-desr...</td>\n    </tr>\n    <tr>\n      <th>26</th>\n      <td>148346287</td>\n      <td>11/08/2022</td>\n      <td>16:41</td>\n      <td>Paulista</td>\n      <td>PE</td>\n      <td>Respondida</td>\n      <td>NaN</td>\n      <td>NaN</td>\n      <td>/norton/fui-desvinculada-depois-que-fiz-uma-co...</td>\n    </tr>\n    <tr>\n      <th>27</th>\n      <td>148341483</td>\n      <td>11/08/2022</td>\n      <td>15:38</td>\n      <td>São Paulo</td>\n      <td>SP</td>\n      <td>Resolvido</td>\n      <td>Sim</td>\n      <td>5</td>\n      <td>/norton/software-em-ingles_7fmdDyhlnpjh5Lsj</td>\n    </tr>\n    <tr>\n      <th>28</th>\n      <td>148304335</td>\n      <td>11/08/2022</td>\n      <td>02:34</td>\n      <td>São Paulo</td>\n      <td>SP</td>\n      <td>Em réplica</td>\n      <td>NaN</td>\n      <td>NaN</td>\n      <td>/norton/cancelamento-e-reembolso-do-cartao-de-...</td>\n    </tr>\n    <tr>\n      <th>29</th>\n      <td>148244497</td>\n      <td>10/08/2022</td>\n      <td>09:50</td>\n      <td>Feira de Santana</td>\n      <td>BA</td>\n      <td>Resolvido</td>\n      <td>Sim</td>\n      <td>8</td>\n      <td>/norton/renovacao-automatica-indevida-e-abusiv...</td>\n    </tr>\n  </tbody>\n</table>\n</div>"
     },
     "execution_count": 6,
     "metadata": {},
     "output_type": "execute_result"
    }
   ],
   "source": [
    "HEADERS = ({'User-Agent':\n",
    "            'Mozilla/5.0 (X11; Linux x86_64) AppleWebKit/537.36 (KHTML, like Gecko) Chrome/44.0.2403.157 Safari/537.36',\n",
    "            'Accept-Language': 'en-US, en;q=0.5'})\n",
    "\n",
    "# URL = \"https://www.reclameaqui.com.br/empresa/norton/lista-reclamacoes/?pagina=01\"\n",
    "\n",
    "for page in range(3):\n",
    "\n",
    "    URL = \"https://www.reclameaqui.com.br/empresa/norton/lista-reclamacoes/?pagina=\"+str(page)+\"1\"\n",
    "\n",
    "    print(URL)\n",
    "\n",
    "    links = getLinks(URL, HEADERS)\n",
    "\n",
    "    for i  in range(len(links)):\n",
    "        list = (getDataComplaint(links[i], HEADERS))\n",
    "\n",
    "        RA_df = RA_df.append({\"CaseID\":list[0],\n",
    "                              \"Date\":list[1],\n",
    "                              \"Time\":list[2],\n",
    "                              \"LocationCity\":list[3],\n",
    "                              \"LocationState\":list[4],\n",
    "                              \"Status\":list[5],\n",
    "                              \"dealAgain\":list[6],\n",
    "                              \"Rate\":list[7],\n",
    "                              \"Links\":list[8]}, ignore_index=True)\n",
    "\n",
    "RA_df.head(len(RA_df.index))"
   ],
   "metadata": {
    "collapsed": false,
    "pycharm": {
     "name": "#%% Using Webscraping to Extract  Data Use the requests library to download the webpage\n"
    }
   }
  },
  {
   "cell_type": "code",
   "execution_count": 7,
   "outputs": [
    {
     "name": "stdout",
     "output_type": "stream",
     "text": [
      "       CaseID        Date   Time           LocationCity LocationState  \\\n",
      "0   149051889  24/08/2022  14:25               Niterói             RJ   \n",
      "1   149041885  24/08/2022  12:12        Patos de Minas             MG   \n",
      "2   148805443  24/08/2022  08:36        Rio de Janeiro             RJ   \n",
      "3   148995635  23/08/2022  16:59          Belford Roxo             RJ   \n",
      "4   148936563  22/08/2022  19:28                   Ipu             CE   \n",
      "5   148928891  22/08/2022  17:36        Patos de Minas             MG   \n",
      "6   148906975  22/08/2022  13:14          Porto Alegre             RS   \n",
      "7   148885929  22/08/2022  09:06        Rio de Janeiro             RJ   \n",
      "8   148876405  21/08/2022  21:28            Ponta Porã             MS   \n",
      "9   148810339  19/08/2022  18:59        Rio de Janeiro             RJ   \n",
      "10  148804453  19/08/2022  17:06              Itanhaém             SP   \n",
      "11  148803845  19/08/2022  16:55                Macapá             AP   \n",
      "12  148773035  19/08/2022  09:55              Salvador             BA   \n",
      "13  148760465  18/08/2022  22:44             São Paulo             SP   \n",
      "14  148752467  18/08/2022  19:54        Rio de Janeiro             RJ   \n",
      "15  148700417  18/08/2022  06:52               Pocrane             MG   \n",
      "16  148694505  17/08/2022  22:40  Governador Valadares             MG   \n",
      "17  148678919  17/08/2022  18:02              Araruama             RJ   \n",
      "18  148672133  17/08/2022  16:26             Cabo Frio             RJ   \n",
      "19  148661427  17/08/2022  14:13        Rio de Janeiro             RJ   \n",
      "20  148531537  15/08/2022  17:26                Muriaé             MG   \n",
      "21  148479525  14/08/2022  21:23                Recife             PE   \n",
      "22  148432557  13/08/2022  08:35             São Paulo             SP   \n",
      "23  148397439  12/08/2022  13:35                Canoas             RS   \n",
      "24  148371065  12/08/2022  02:08              Salvador             BA   \n",
      "25  148352505  11/08/2022  18:11             Guarulhos             SP   \n",
      "26  148346287  11/08/2022  16:41              Paulista             PE   \n",
      "27  148341483  11/08/2022  15:38             São Paulo             SP   \n",
      "28  148304335  11/08/2022  02:34             São Paulo             SP   \n",
      "29  148244497  10/08/2022  09:50      Feira de Santana             BA   \n",
      "\n",
      "        Status dealAgain Rate  \\\n",
      "0   Respondida       NaN  NaN   \n",
      "1    Resolvido       Sim    8   \n",
      "2   Em réplica       NaN  NaN   \n",
      "3   Respondida       NaN  NaN   \n",
      "4   Respondida       NaN  NaN   \n",
      "5    Resolvido       Não    3   \n",
      "6   Respondida       NaN  NaN   \n",
      "7   Respondida       NaN  NaN   \n",
      "8   Em réplica       NaN  NaN   \n",
      "9   Em réplica       NaN  NaN   \n",
      "10   Resolvido       Sim   10   \n",
      "11  Respondida       NaN  NaN   \n",
      "12   Resolvido       Sim   10   \n",
      "13   Resolvido       Sim    9   \n",
      "14  Em réplica       NaN  NaN   \n",
      "15  Respondida       NaN  NaN   \n",
      "16   Resolvido       Sim   10   \n",
      "17  Respondida       NaN  NaN   \n",
      "18  Respondida       NaN  NaN   \n",
      "19  Respondida       NaN  NaN   \n",
      "20   Resolvido       Sim    8   \n",
      "21   Resolvido       Não   10   \n",
      "22  Respondida       NaN  NaN   \n",
      "23  Respondida       NaN  NaN   \n",
      "24  Respondida       NaN  NaN   \n",
      "25  Respondida       NaN  NaN   \n",
      "26  Respondida       NaN  NaN   \n",
      "27   Resolvido       Sim    5   \n",
      "28  Em réplica       NaN  NaN   \n",
      "29   Resolvido       Sim    8   \n",
      "\n",
      "                                                Links  \n",
      "0   /norton/valor-abusivo-para-renovacao_yUKJtoGAB...  \n",
      "1   /norton/cobranca-de-assinatura-nao-solicitada_...  \n",
      "2   /norton/norton-antivirus-renova-protecao-sem-a...  \n",
      "3   /norton/solicitei-o-reembolso-e-nao-obtive-res...  \n",
      "4   /norton/cancelar-renovacao-cobrada-no-cartao_0...  \n",
      "5   /norton/tentativa-de-cobranca-de-renovacao-de-...  \n",
      "6   /norton/cobranca-antecipada-e-sem-autorizacao-...  \n",
      "7   /norton/app-lock-falhas-no-bloqueio_d81zgNoQVc...  \n",
      "8   /norton/nao-autorizei-o-pagamento-automatico-n...  \n",
      "9   /norton/renovacao-automatica-acontece-mesmo-el...  \n",
      "10   /norton/cobranca-antes-do-prazo_l8I3Zb7Y0gJuFEKf  \n",
      "11  /norton/minha-conta-retorna-a-mensagem-de-que-...  \n",
      "12           /norton/suporte-pessimo_ig5XD65CRGC2lnFr  \n",
      "13  /norton/a-norton-perdeu-minha-conta-e-nao-reso...  \n",
      "14  /norton/1-ano-esperando-reembolso_95PWSqOOzxWk...  \n",
      "15  /norton/nao-consigo-acessar-minha-conta-mais-p...  \n",
      "16  /norton/renovacao-automatica-indevida_7bpb5ATI...  \n",
      "17         /norton/cobranca-indevida_4DZpzIDcbcFdEVml  \n",
      "18  /norton/nao-consigo-solicitar-reembolso_4z4Dq0...  \n",
      "19  /norton/norton-nao-funciona-e-ninguem-resolve-...  \n",
      "20  /norton/renovacao-de-anti-virus-sem-comunicaca...  \n",
      "21  /norton/renovacao-automatica-sem-consentimento...  \n",
      "22                 /norton/reembolso_F27TgN_dm0W7niBJ  \n",
      "23         /norton/cobranca-indevida_nYrG21f7K85hvI3x  \n",
      "24  /norton/abuso-da-norton-antivirus-nav_5Hc5_rkm...  \n",
      "25  /norton/atendete-tatiana-anti-virus-total-desr...  \n",
      "26  /norton/fui-desvinculada-depois-que-fiz-uma-co...  \n",
      "27        /norton/software-em-ingles_7fmdDyhlnpjh5Lsj  \n",
      "28  /norton/cancelamento-e-reembolso-do-cartao-de-...  \n",
      "29  /norton/renovacao-automatica-indevida-e-abusiv...  \n"
     ]
    }
   ],
   "source": [
    "print(RA_df)\n"
   ],
   "metadata": {
    "collapsed": false,
    "pycharm": {
     "name": "#%%\n"
    }
   }
  }
 ],
 "metadata": {
  "kernelspec": {
   "display_name": "Python 3",
   "language": "python",
   "name": "python3"
  },
  "language_info": {
   "codemirror_mode": {
    "name": "ipython",
    "version": 2
   },
   "file_extension": ".py",
   "mimetype": "text/x-python",
   "name": "python",
   "nbconvert_exporter": "python",
   "pygments_lexer": "ipython2",
   "version": "2.7.6"
  }
 },
 "nbformat": 4,
 "nbformat_minor": 0
}