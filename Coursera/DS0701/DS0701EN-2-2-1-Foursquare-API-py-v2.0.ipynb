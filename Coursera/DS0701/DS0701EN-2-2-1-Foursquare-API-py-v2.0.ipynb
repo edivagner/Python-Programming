{
 "cells": [
  {
   "cell_type": "markdown",
   "metadata": {
    "button": false,
    "new_sheet": false,
    "run_control": {
     "read_only": false
    }
   },
   "source": [
    "<a href=\"https://cognitiveclass.ai\"><img src = \"https://ibm.box.com/shared/static/9gegpsmnsoo25ikkbl4qzlvlyjbgxs5x.png\" width = 400> </a>\n",
    "\n",
    "<h1 align=center><font size = 5>Learning FourSquare API with Python</font></h1>\n"
   ]
  },
  {
   "cell_type": "markdown",
   "metadata": {
    "button": false,
    "new_sheet": false,
    "run_control": {
     "read_only": false
    }
   },
   "source": [
    "\n"
   ]
  },
  {
   "cell_type": "markdown",
   "metadata": {
    "button": false,
    "new_sheet": false,
    "run_control": {
     "read_only": false
    }
   },
   "source": [
    "## Introduction\n",
    "\n",
    "In this lab, you will learn in details how to make calls to the Foursquare API for different purposes. You will learn how to construct a URL to send a request to the API to search for a specific type of venues, to explore a particular venue, to explore a Foursquare user, to explore a geographical location, and to get trending venues around a location. Also, you will learn how to use the visualization library, Folium, to visualize the results.\n"
   ]
  },
  {
   "cell_type": "markdown",
   "metadata": {
    "button": false,
    "new_sheet": false,
    "run_control": {
     "read_only": false
    }
   },
   "source": [
    "## Table of Contents\n",
    "\n",
    "1.  <a href=\"#item1\">Foursquare API Search Function</a>\n",
    "2.  <a href=\"#item2\">Explore a Given Venue</a>  \n",
    "3.  <a href=\"#item3\">Explore a User</a>  \n",
    "4.  <a href=\"#item4\">Foursquare API Explore Function</a>  \n",
    "5.  <a href=\"#item5\">Get Trending Venues</a>  \n"
   ]
  },
  {
   "cell_type": "markdown",
   "metadata": {
    "button": false,
    "new_sheet": false,
    "run_control": {
     "read_only": false
    }
   },
   "source": [
    "### Import necessary Libraries\n"
   ]
  },
  {
   "cell_type": "code",
   "execution_count": 1,
   "metadata": {
    "button": false,
    "collapsed": false,
    "jupyter": {
     "outputs_hidden": false
    },
    "new_sheet": false,
    "run_control": {
     "read_only": false
    }
   },
   "outputs": [
    {
     "name": "stdout",
     "output_type": "stream",
     "text": [
      "Requirement already satisfied: geopy in /home/jupyterlab/conda/envs/python/lib/python3.6/site-packages (2.1.0)\n",
      "Requirement already satisfied: geographiclib<2,>=1.49 in /home/jupyterlab/conda/envs/python/lib/python3.6/site-packages (from geopy) (1.50)\n",
      "Requirement already satisfied: folium==0.5.0 in /home/jupyterlab/conda/envs/python/lib/python3.6/site-packages (0.5.0)\n",
      "Requirement already satisfied: requests in /home/jupyterlab/conda/envs/python/lib/python3.6/site-packages (from folium==0.5.0) (2.25.0)\n",
      "Requirement already satisfied: six in /home/jupyterlab/conda/envs/python/lib/python3.6/site-packages (from folium==0.5.0) (1.15.0)\n",
      "Requirement already satisfied: branca in /home/jupyterlab/conda/envs/python/lib/python3.6/site-packages (from folium==0.5.0) (0.4.1)\n",
      "Requirement already satisfied: jinja2 in /home/jupyterlab/conda/envs/python/lib/python3.6/site-packages (from folium==0.5.0) (2.11.2)\n",
      "Requirement already satisfied: chardet<4,>=3.0.2 in /home/jupyterlab/conda/envs/python/lib/python3.6/site-packages (from requests->folium==0.5.0) (3.0.4)\n",
      "Requirement already satisfied: urllib3<1.27,>=1.21.1 in /home/jupyterlab/conda/envs/python/lib/python3.6/site-packages (from requests->folium==0.5.0) (1.25.11)\n",
      "Requirement already satisfied: certifi>=2017.4.17 in /home/jupyterlab/conda/envs/python/lib/python3.6/site-packages (from requests->folium==0.5.0) (2020.12.5)\n",
      "Requirement already satisfied: idna<3,>=2.5 in /home/jupyterlab/conda/envs/python/lib/python3.6/site-packages (from requests->folium==0.5.0) (2.10)\n",
      "Requirement already satisfied: MarkupSafe>=0.23 in /home/jupyterlab/conda/envs/python/lib/python3.6/site-packages (from jinja2->folium==0.5.0) (1.1.1)\n",
      "Folium installed\n",
      "Libraries imported.\n"
     ]
    }
   ],
   "source": [
    "import requests # library to handle requests\n",
    "import pandas as pd # library for data analsysis\n",
    "import numpy as np # library to handle data in a vectorized manner\n",
    "import random # library for random number generation\n",
    "\n",
    "\n",
    "!pip install geopy\n",
    "from geopy.geocoders import Nominatim # module to convert an address into latitude and longitude values\n",
    "\n",
    "# libraries for displaying images\n",
    "from IPython.display import Image \n",
    "from IPython.core.display import HTML \n",
    "    \n",
    "# tranforming json file into a pandas dataframe library\n",
    "from pandas.io.json import json_normalize\n",
    "\n",
    "\n",
    "! pip install folium==0.5.0\n",
    "import folium # plotting library\n",
    "\n",
    "print('Folium installed')\n",
    "print('Libraries imported.')"
   ]
  },
  {
   "cell_type": "markdown",
   "metadata": {
    "button": false,
    "new_sheet": false,
    "run_control": {
     "read_only": false
    }
   },
   "source": [
    "### Define Foursquare Credentials and Version\n"
   ]
  },
  {
   "cell_type": "markdown",
   "metadata": {
    "button": false,
    "new_sheet": false,
    "run_control": {
     "read_only": false
    }
   },
   "source": [
    "##### Make sure that you have created a Foursquare developer account and have your credentials handy\n"
   ]
  },
  {
   "cell_type": "markdown",
   "metadata": {},
   "source": [
    "##### To obtain access token follow these steps.\n",
    "\n",
    "<br>\n",
    "\n",
    "1.  Go to your **\"App Settings\"** page on the developer console of Foursquare.com   \n",
    "2.  Set the **\"Redirect URL\"** under **\"Web Addresses\"** to [https://www.google.com](https://www.google.com?cm_mmc=Email_Newsletter-_-Developer_Ed%2BTech-_-WW_WW-_-SkillsNetwork-Courses-IBMDeveloperSkillsNetwork-DS0701EN-SkillsNetwork-21253531&cm_mmca1=000026UJ&cm_mmca2=10006555&cm_mmca3=M12345678&cvosrc=email.Newsletter.M12345678&cvo_campaign=000026UJ&cm_mmc=Email_Newsletter-_-Developer_Ed%2BTech-_-WW_WW-_-SkillsNetwork-Courses-IBMDeveloperSkillsNetwork-DS0701EN-SkillsNetwork-21253531&cm_mmca1=000026UJ&cm_mmca2=10006555&cm_mmca3=M12345678&cvosrc=email.Newsletter.M12345678&cvo_campaign=000026UJ&cm_mmc=Email_Newsletter-_-Developer_Ed%2BTech-_-WW_WW-_-SkillsNetwork-Courses-IBMDeveloperSkillsNetwork-DS0701EN-SkillsNetwork-21253531&cm_mmca1=000026UJ&cm_mmca2=10006555&cm_mmca3=M12345678&cvosrc=email.Newsletter.M12345678&cvo_campaign=000026UJ&cm_mmc=Email_Newsletter-_-Developer_Ed%2BTech-_-WW_WW-_-SkillsNetwork-Courses-IBMDeveloperSkillsNetwork-DS0701EN-SkillsNetwork-21253531&cm_mmca1=000026UJ&cm_mmca2=10006555&cm_mmca3=M12345678&cvosrc=email.Newsletter.M12345678&cvo_campaign=000026UJ&cm_mmc=Email_Newsletter-_-Developer_Ed%2BTech-_-WW_WW-_-SkillsNetwork-Courses-IBMDeveloperSkillsNetwork-DS0701EN-SkillsNetwork-21253531&cm_mmca1=000026UJ&cm_mmca2=10006555&cm_mmca3=M12345678&cvosrc=email.Newsletter.M12345678&cvo_campaign=000026UJ&cm_mmc=Email_Newsletter-_-Developer_Ed%2BTech-_-WW_WW-_-SkillsNetwork-Courses-IBMDeveloperSkillsNetwork-DS0701EN-SkillsNetwork-21253531&cm_mmca1=000026UJ&cm_mmca2=10006555&cm_mmca3=M12345678&cvosrc=email.Newsletter.M12345678&cvo_campaign=000026UJ)  \n",
    "\n",
    "\n",
    "3.  Paste and enter the following url in your web browser **(replace YOUR_CLIENT_ID with your actual client id)**:  \n",
    "    [https://foursquare.com/oauth2/authenticate?client_id=YOUR_CLIENT_ID&response_type=code&redirect_uri=https://www.google.com](https://foursquare.com/oauth2/authenticate?client_id=YOUR_CLIENT_ID&response_type=code&redirect_uri=https://www.google.com&cm_mmc=Email_Newsletter-_-Developer_Ed%2BTech-_-WW_WW-_-SkillsNetwork-Courses-IBMDeveloperSkillsNetwork-DS0701EN-SkillsNetwork-21253531&cm_mmca1=000026UJ&cm_mmca2=10006555&cm_mmca3=M12345678&cvosrc=email.Newsletter.M12345678&cvo_campaign=000026UJ) \n",
    "\n",
    "    This should redirect you to a google page requesting permission to make the connection. \n",
    "4.  Accept and then look at the url of your web browser **(take note at the CODE part of the url to use in step 5)**  \n",
    "    It should look like [https://www.google.com/?code=CODE](https://www.google.com?code=CODE&cm_mmc=Email_Newsletter-_-Developer_Ed%2BTech-_-WW_WW-_-SkillsNetwork-Courses-IBMDeveloperSkillsNetwork-DS0701EN-SkillsNetwork-21253531&cm_mmca1=000026UJ&cm_mmca2=10006555&cm_mmca3=M12345678&cvosrc=email.Newsletter.M12345678&cvo_campaign=000026UJ)  \n",
    "5.  Copy the code value from the previous step.  \n",
    "       Paste and enter the following into your web browser **(replace placeholders with actual values)**:  \n",
    "    [https://foursquare.com/oauth2/access_token?client_id=YOUR_CLIENT_ID&client_secret=YOUR_CLIENT_SECRET&grant_type=authorization_code&redirect_uri=https://www.google.com&code=CODE](https://foursquare.com/oauth2/access_token?client_id=YOUR_CLIENT_ID&client_secret=YOUR_CLIENT_SECRET&grant_type=authorization_code&redirect_uri=https://www.google.com&code=CODE&cm_mmc=Email_Newsletter-_-Developer_Ed%2BTech-_-WW_WW-_-SkillsNetwork-Courses-IBMDeveloperSkillsNetwork-DS0701EN-SkillsNetwork-21253531&cm_mmca1=000026UJ&cm_mmca2=10006555&cm_mmca3=M12345678&cvosrc=email.Newsletter.M12345678&cvo_campaign=000026UJ).  \n",
    "6.  When you paste the link , This should lead you to a page that gives you your **access token**.\n"
   ]
  },
  {
   "cell_type": "markdown",
   "metadata": {},
   "source": [
    "https://foursquare.com/oauth2/authenticate?client_id=K0YJE53R5XLTTURZJO2NLV3EXWMPXBMCHXSTIBFRQ4D2VGQR&response_type=code&redirect_uri=https://www.google.com"
   ]
  },
  {
   "cell_type": "code",
   "execution_count": 2,
   "metadata": {
    "button": false,
    "collapsed": false,
    "jupyter": {
     "outputs_hidden": false
    },
    "new_sheet": false,
    "run_control": {
     "read_only": false
    }
   },
   "outputs": [
    {
     "name": "stdout",
     "output_type": "stream",
     "text": [
      "Your credentails:\n",
      "CLIENT_ID: K0YJE53R5XLTTURZJO2NLV3EXWMPXBMCHXSTIBFRQ4D2VGQR\n",
      "CLIENT_SECRET:ZQLNWJXXYOHS1OYZAEFAEZDZFNS12WQ0NUWJL4B2HV5BRZFO\n"
     ]
    }
   ],
   "source": [
    "CLIENT_ID = 'K0YJE53R5XLTTURZJO2NLV3EXWMPXBMCHXSTIBFRQ4D2VGQR' # your Foursquare ID\n",
    "CLIENT_SECRET = 'ZQLNWJXXYOHS1OYZAEFAEZDZFNS12WQ0NUWJL4B2HV5BRZFO' # your Foursquare Secret\n",
    "ACCESS_TOKEN = '5PDSDEMUOKYJ32RR1OIVDF4PZ5KHFQGWJALLZB4WA0HESSUO' # your FourSquare Access Token\n",
    "VERSION = '20180604'\n",
    "LIMIT = 30\n",
    "print('Your credentails:')\n",
    "print('CLIENT_ID: ' + CLIENT_ID)\n",
    "print('CLIENT_SECRET:' + CLIENT_SECRET)"
   ]
  },
  {
   "cell_type": "markdown",
   "metadata": {
    "button": false,
    "new_sheet": false,
    "run_control": {
     "read_only": false
    }
   },
   "source": [
    "\n"
   ]
  },
  {
   "cell_type": "markdown",
   "metadata": {
    "button": false,
    "new_sheet": false,
    "run_control": {
     "read_only": false
    }
   },
   "source": [
    "#### Let's again assume that you are staying at the Conrad hotel. So let's start by converting the Contrad Hotel's address to its latitude and longitude coordinates.\n"
   ]
  },
  {
   "cell_type": "markdown",
   "metadata": {},
   "source": [
    "In order to define an instance of the geocoder, we need to define a user_agent. We will name our agent <em>foursquare_agent</em>, as shown below.\n"
   ]
  },
  {
   "cell_type": "code",
   "execution_count": 3,
   "metadata": {
    "button": false,
    "collapsed": false,
    "jupyter": {
     "outputs_hidden": false
    },
    "new_sheet": false,
    "run_control": {
     "read_only": false
    }
   },
   "outputs": [
    {
     "name": "stdout",
     "output_type": "stream",
     "text": [
      "40.7149555 -74.0153365\n"
     ]
    }
   ],
   "source": [
    "address = '102 North End Ave, New York, NY'\n",
    "\n",
    "geolocator = Nominatim(user_agent=\"foursquare_agent\")\n",
    "location = geolocator.geocode(address)\n",
    "latitude = location.latitude\n",
    "longitude = location.longitude\n",
    "print(latitude, longitude)"
   ]
  },
  {
   "cell_type": "markdown",
   "metadata": {
    "button": false,
    "new_sheet": false,
    "run_control": {
     "read_only": false
    }
   },
   "source": [
    "\n"
   ]
  },
  {
   "cell_type": "markdown",
   "metadata": {
    "button": false,
    "new_sheet": false,
    "run_control": {
     "read_only": false
    }
   },
   "source": [
    "<a id=\"item1\"></a>\n"
   ]
  },
  {
   "cell_type": "markdown",
   "metadata": {
    "button": false,
    "new_sheet": false,
    "run_control": {
     "read_only": false
    }
   },
   "source": [
    "## 1. Search for a specific venue category\n",
    "\n",
    "> `https://api.foursquare.com/v2/venues/`**search**`?client_id=`**CLIENT_ID**`&client_secret=`**CLIENT_SECRET**`&ll=`**LATITUDE**`,`**LONGITUDE**`&v=`**VERSION**`&query=`**QUERY**`&radius=`**RADIUS**`&limit=`**LIMIT**\n"
   ]
  },
  {
   "cell_type": "markdown",
   "metadata": {
    "button": false,
    "new_sheet": false,
    "run_control": {
     "read_only": false
    }
   },
   "source": [
    "#### Now, let's assume that it is lunch time, and you are craving Italian food. So, let's define a query to search for Italian food that is within 500 metres from the Conrad Hotel.\n"
   ]
  },
  {
   "cell_type": "code",
   "execution_count": 4,
   "metadata": {
    "button": false,
    "collapsed": false,
    "jupyter": {
     "outputs_hidden": false
    },
    "new_sheet": false,
    "run_control": {
     "read_only": false
    },
    "scrolled": true
   },
   "outputs": [
    {
     "name": "stdout",
     "output_type": "stream",
     "text": [
      "Italian .... OK!\n"
     ]
    }
   ],
   "source": [
    "search_query = 'Italian'\n",
    "radius = 5000\n",
    "print(search_query + ' .... OK!')"
   ]
  },
  {
   "cell_type": "markdown",
   "metadata": {
    "button": false,
    "new_sheet": false,
    "run_control": {
     "read_only": false
    }
   },
   "source": [
    "#### Define the corresponding URL\n"
   ]
  },
  {
   "cell_type": "code",
   "execution_count": 5,
   "metadata": {
    "button": false,
    "collapsed": false,
    "jupyter": {
     "outputs_hidden": false
    },
    "new_sheet": false,
    "run_control": {
     "read_only": false
    }
   },
   "outputs": [
    {
     "data": {
      "text/plain": [
       "'https://api.foursquare.com/v2/venues/search?client_id=K0YJE53R5XLTTURZJO2NLV3EXWMPXBMCHXSTIBFRQ4D2VGQR&client_secret=ZQLNWJXXYOHS1OYZAEFAEZDZFNS12WQ0NUWJL4B2HV5BRZFO&ll=40.7149555,-74.0153365&oauth_token=5PDSDEMUOKYJ32RR1OIVDF4PZ5KHFQGWJALLZB4WA0HESSUO&v=20180604&query=Italian&radius=5000&limit=30'"
      ]
     },
     "execution_count": 5,
     "metadata": {},
     "output_type": "execute_result"
    }
   ],
   "source": [
    "url = 'https://api.foursquare.com/v2/venues/search?client_id={}&client_secret={}&ll={},{}&oauth_token={}&v={}&query={}&radius={}&limit={}'.format(CLIENT_ID, CLIENT_SECRET, latitude, longitude,ACCESS_TOKEN, VERSION, search_query, radius, LIMIT)\n",
    "url"
   ]
  },
  {
   "cell_type": "markdown",
   "metadata": {
    "button": false,
    "new_sheet": false,
    "run_control": {
     "read_only": false
    }
   },
   "source": [
    "#### Send the GET Request and examine the results\n"
   ]
  },
  {
   "cell_type": "code",
   "execution_count": 6,
   "metadata": {
    "button": false,
    "collapsed": false,
    "jupyter": {
     "outputs_hidden": false
    },
    "new_sheet": false,
    "run_control": {
     "read_only": false
    },
    "scrolled": true
   },
   "outputs": [
    {
     "data": {
      "text/plain": [
       "{'meta': {'code': 200, 'requestId': '606b387765a9ba14fbb77c78'},\n",
       " 'notifications': [{'type': 'notificationTray', 'item': {'unreadCount': 0}}],\n",
       " 'response': {'venues': [{'id': '528bf16711d2b7722da6b51c',\n",
       "    'name': 'Pisillo Italian Panini',\n",
       "    'location': {'address': '97 Nassau St',\n",
       "     'crossStreet': 'at Ann St',\n",
       "     'lat': 40.710530084460785,\n",
       "     'lng': -74.00752571804911,\n",
       "     'labeledLatLngs': [{'label': 'display',\n",
       "       'lat': 40.710530084460785,\n",
       "       'lng': -74.00752571804911}],\n",
       "     'distance': 822,\n",
       "     'postalCode': '10038',\n",
       "     'cc': 'US',\n",
       "     'city': 'New York',\n",
       "     'state': 'NY',\n",
       "     'country': 'United States',\n",
       "     'formattedAddress': ['97 Nassau St (at Ann St)',\n",
       "      'New York, NY 10038',\n",
       "      'United States']},\n",
       "    'categories': [{'id': '4bf58dd8d48988d1c5941735',\n",
       "      'name': 'Sandwich Place',\n",
       "      'pluralName': 'Sandwich Places',\n",
       "      'shortName': 'Sandwiches',\n",
       "      'icon': {'prefix': 'https://ss3.4sqi.net/img/categories_v2/food/deli_',\n",
       "       'suffix': '.png'},\n",
       "      'primary': True}],\n",
       "    'delivery': {'id': '286355',\n",
       "     'url': 'https://www.seamless.com/menu/pisillo-97-nassau-st-new-york/286355?affiliate=1131&utm_source=foursquare-affiliate-network&utm_medium=affiliate&utm_campaign=1131&utm_content=286355',\n",
       "     'provider': {'name': 'seamless',\n",
       "      'icon': {'prefix': 'https://fastly.4sqi.net/img/general/cap/',\n",
       "       'sizes': [40, 50],\n",
       "       'name': '/delivery_provider_seamless_20180129.png'}}},\n",
       "    'venuePage': {'id': '105457747'},\n",
       "    'referralId': 'v-1617639543',\n",
       "    'hasPerk': False},\n",
       "   {'id': '4a4560a7f964a5201aa81fe3',\n",
       "    'name': \"Harry's Italian Pizza Bar\",\n",
       "    'location': {'address': '2 Gold St',\n",
       "     'crossStreet': 'at Maiden Ln.',\n",
       "     'lat': 40.7076335455641,\n",
       "     'lng': -74.00699585960496,\n",
       "     'labeledLatLngs': [{'label': 'display',\n",
       "       'lat': 40.7076335455641,\n",
       "       'lng': -74.00699585960496}],\n",
       "     'distance': 1076,\n",
       "     'postalCode': '10038',\n",
       "     'cc': 'US',\n",
       "     'city': 'New York',\n",
       "     'state': 'NY',\n",
       "     'country': 'United States',\n",
       "     'formattedAddress': ['2 Gold St (at Maiden Ln.)',\n",
       "      'New York, NY 10038',\n",
       "      'United States']},\n",
       "    'categories': [{'id': '4bf58dd8d48988d110941735',\n",
       "      'name': 'Italian Restaurant',\n",
       "      'pluralName': 'Italian Restaurants',\n",
       "      'shortName': 'Italian',\n",
       "      'icon': {'prefix': 'https://ss3.4sqi.net/img/categories_v2/food/italian_',\n",
       "       'suffix': '.png'},\n",
       "      'primary': True}],\n",
       "    'venuePage': {'id': '77559825'},\n",
       "    'referralId': 'v-1617639543',\n",
       "    'hasPerk': False},\n",
       "   {'id': '4a74a36af964a520fede1fe3',\n",
       "    'name': \"Faicco's Italian Specialties\",\n",
       "    'location': {'address': '260 Bleecker St',\n",
       "     'crossStreet': 'at Cornelia St',\n",
       "     'lat': 40.73111661087598,\n",
       "     'lng': -74.0030425786972,\n",
       "     'labeledLatLngs': [{'label': 'display',\n",
       "       'lat': 40.73111661087598,\n",
       "       'lng': -74.0030425786972}],\n",
       "     'distance': 2076,\n",
       "     'postalCode': '10014',\n",
       "     'cc': 'US',\n",
       "     'city': 'New York',\n",
       "     'state': 'NY',\n",
       "     'country': 'United States',\n",
       "     'formattedAddress': ['260 Bleecker St (at Cornelia St)',\n",
       "      'New York, NY 10014',\n",
       "      'United States']},\n",
       "    'categories': [{'id': '4bf58dd8d48988d1c5941735',\n",
       "      'name': 'Sandwich Place',\n",
       "      'pluralName': 'Sandwich Places',\n",
       "      'shortName': 'Sandwiches',\n",
       "      'icon': {'prefix': 'https://ss3.4sqi.net/img/categories_v2/food/deli_',\n",
       "       'suffix': '.png'},\n",
       "      'primary': True}],\n",
       "    'delivery': {'id': '2088184',\n",
       "     'url': 'https://www.seamless.com/menu/faiccos-260-bleecker-street-new-york/2088184?affiliate=1131&utm_source=foursquare-affiliate-network&utm_medium=affiliate&utm_campaign=1131&utm_content=2088184',\n",
       "     'provider': {'name': 'seamless',\n",
       "      'icon': {'prefix': 'https://fastly.4sqi.net/img/general/cap/',\n",
       "       'sizes': [40, 50],\n",
       "       'name': '/delivery_provider_seamless_20180129.png'}}},\n",
       "    'referralId': 'v-1617639543',\n",
       "    'hasPerk': False},\n",
       "   {'id': '4fa862b3e4b0ebff2f749f06',\n",
       "    'name': \"Harry's Italian Pizza Bar\",\n",
       "    'location': {'address': '225 Murray St',\n",
       "     'lat': 40.71521779064671,\n",
       "     'lng': -74.01473940209351,\n",
       "     'labeledLatLngs': [{'label': 'display',\n",
       "       'lat': 40.71521779064671,\n",
       "       'lng': -74.01473940209351},\n",
       "      {'label': 'entrance', 'lat': 40.715361, 'lng': -74.014975}],\n",
       "     'distance': 58,\n",
       "     'postalCode': '10282',\n",
       "     'cc': 'US',\n",
       "     'city': 'New York',\n",
       "     'state': 'NY',\n",
       "     'country': 'United States',\n",
       "     'formattedAddress': ['225 Murray St',\n",
       "      'New York, NY 10282',\n",
       "      'United States']},\n",
       "    'categories': [{'id': '4bf58dd8d48988d1ca941735',\n",
       "      'name': 'Pizza Place',\n",
       "      'pluralName': 'Pizza Places',\n",
       "      'shortName': 'Pizza',\n",
       "      'icon': {'prefix': 'https://ss3.4sqi.net/img/categories_v2/food/pizza_',\n",
       "       'suffix': '.png'},\n",
       "      'primary': True}],\n",
       "    'referralId': 'v-1617639543',\n",
       "    'hasPerk': False},\n",
       "   {'id': '4b9d4c67f964a5206ca136e3',\n",
       "    'name': 'Italian American Museum Of New York',\n",
       "    'location': {'address': '155 Mulberry St',\n",
       "     'crossStreet': 'at Grand St',\n",
       "     'lat': 40.71919065572268,\n",
       "     'lng': -73.99737599769244,\n",
       "     'labeledLatLngs': [{'label': 'display',\n",
       "       'lat': 40.71919065572268,\n",
       "       'lng': -73.99737599769244}],\n",
       "     'distance': 1587,\n",
       "     'postalCode': '10013',\n",
       "     'cc': 'US',\n",
       "     'city': 'New York',\n",
       "     'state': 'NY',\n",
       "     'country': 'United States',\n",
       "     'formattedAddress': ['155 Mulberry St (at Grand St)',\n",
       "      'New York, NY 10013',\n",
       "      'United States']},\n",
       "    'categories': [{'id': '4bf58dd8d48988d190941735',\n",
       "      'name': 'History Museum',\n",
       "      'pluralName': 'History Museums',\n",
       "      'shortName': 'History Museum',\n",
       "      'icon': {'prefix': 'https://ss3.4sqi.net/img/categories_v2/arts_entertainment/museum_history_',\n",
       "       'suffix': '.png'},\n",
       "      'primary': True}],\n",
       "    'venuePage': {'id': '66342615'},\n",
       "    'referralId': 'v-1617639543',\n",
       "    'hasPerk': False},\n",
       "   {'id': '4e4c4e62bd413c4cc6686059',\n",
       "    'name': \"Carmela's Italian Specialties\",\n",
       "    'location': {'address': '30 Water St',\n",
       "     'lat': 40.70329284667969,\n",
       "     'lng': -74.01101684570312,\n",
       "     'labeledLatLngs': [{'label': 'display',\n",
       "       'lat': 40.70329284667969,\n",
       "       'lng': -74.01101684570312}],\n",
       "     'distance': 1348,\n",
       "     'postalCode': '10004',\n",
       "     'cc': 'US',\n",
       "     'city': 'New York',\n",
       "     'state': 'NJ',\n",
       "     'country': 'United States',\n",
       "     'formattedAddress': ['30 Water St',\n",
       "      'New York, NJ 10004',\n",
       "      'United States']},\n",
       "    'categories': [{'id': '4bf58dd8d48988d1ca941735',\n",
       "      'name': 'Pizza Place',\n",
       "      'pluralName': 'Pizza Places',\n",
       "      'shortName': 'Pizza',\n",
       "      'icon': {'prefix': 'https://ss3.4sqi.net/img/categories_v2/food/pizza_',\n",
       "       'suffix': '.png'},\n",
       "      'primary': True}],\n",
       "    'referralId': 'v-1617639543',\n",
       "    'hasPerk': False},\n",
       "   {'id': '4b269f5af964a520817e24e3',\n",
       "    'name': \"Losurdo Brothers / Tony's Italian Bakery & Deli\",\n",
       "    'location': {'address': '410 2nd St',\n",
       "     'crossStreet': 'btw Grand St & Adams St',\n",
       "     'lat': 40.74012586093679,\n",
       "     'lng': -74.0369639338283,\n",
       "     'labeledLatLngs': [{'label': 'display',\n",
       "       'lat': 40.74012586093679,\n",
       "       'lng': -74.0369639338283}],\n",
       "     'distance': 3343,\n",
       "     'postalCode': '07030',\n",
       "     'cc': 'US',\n",
       "     'city': 'Hoboken',\n",
       "     'state': 'NJ',\n",
       "     'country': 'United States',\n",
       "     'formattedAddress': ['410 2nd St (btw Grand St & Adams St)',\n",
       "      'Hoboken, NJ 07030',\n",
       "      'United States']},\n",
       "    'categories': [{'id': '4bf58dd8d48988d16a941735',\n",
       "      'name': 'Bakery',\n",
       "      'pluralName': 'Bakeries',\n",
       "      'shortName': 'Bakery',\n",
       "      'icon': {'prefix': 'https://ss3.4sqi.net/img/categories_v2/food/bakery_',\n",
       "       'suffix': '.png'},\n",
       "      'primary': True}],\n",
       "    'referralId': 'v-1617639543',\n",
       "    'hasPerk': False},\n",
       "   {'id': '4f3feae2e4b0ac9416a72118',\n",
       "    'name': 'Benvenuti Italian Specialties',\n",
       "    'location': {'address': '235 S End Ave',\n",
       "     'lat': 40.70968105555279,\n",
       "     'lng': -74.01652043988257,\n",
       "     'labeledLatLngs': [{'label': 'display',\n",
       "       'lat': 40.70968105555279,\n",
       "       'lng': -74.01652043988257}],\n",
       "     'distance': 595,\n",
       "     'postalCode': '10280',\n",
       "     'cc': 'US',\n",
       "     'city': 'New York',\n",
       "     'state': 'NY',\n",
       "     'country': 'United States',\n",
       "     'formattedAddress': ['235 S End Ave',\n",
       "      'New York, NY 10280',\n",
       "      'United States']},\n",
       "    'categories': [{'id': '4bf58dd8d48988d1f5941735',\n",
       "      'name': 'Gourmet Shop',\n",
       "      'pluralName': 'Gourmet Shops',\n",
       "      'shortName': 'Gourmet',\n",
       "      'icon': {'prefix': 'https://ss3.4sqi.net/img/categories_v2/shops/food_gourmet_',\n",
       "       'suffix': '.png'},\n",
       "      'primary': True}],\n",
       "    'delivery': {'id': '285069',\n",
       "     'url': 'https://www.seamless.com/menu/benvenuti-235-s-end-ave-new-york/285069?affiliate=1131&utm_source=foursquare-affiliate-network&utm_medium=affiliate&utm_campaign=1131&utm_content=285069',\n",
       "     'provider': {'name': 'seamless',\n",
       "      'icon': {'prefix': 'https://fastly.4sqi.net/img/general/cap/',\n",
       "       'sizes': [40, 50],\n",
       "       'name': '/delivery_provider_seamless_20180129.png'}}},\n",
       "    'referralId': 'v-1617639543',\n",
       "    'hasPerk': False},\n",
       "   {'id': '58dd8ac3a8b75966fda9a547',\n",
       "    'name': 'Tableside Italian Cook Shoppe',\n",
       "    'location': {'address': '345 E 6th St',\n",
       "     'crossStreet': '1st and 2nd Ave',\n",
       "     'lat': 40.726556174383305,\n",
       "     'lng': -73.98651414092868,\n",
       "     'labeledLatLngs': [{'label': 'display',\n",
       "       'lat': 40.726556174383305,\n",
       "       'lng': -73.98651414092868}],\n",
       "     'distance': 2753,\n",
       "     'postalCode': '10003',\n",
       "     'cc': 'US',\n",
       "     'city': 'New York',\n",
       "     'state': 'NY',\n",
       "     'country': 'United States',\n",
       "     'formattedAddress': ['345 E 6th St (1st and 2nd Ave)',\n",
       "      'New York, NY 10003',\n",
       "      'United States']},\n",
       "    'categories': [{'id': '4bf58dd8d48988d110941735',\n",
       "      'name': 'Italian Restaurant',\n",
       "      'pluralName': 'Italian Restaurants',\n",
       "      'shortName': 'Italian',\n",
       "      'icon': {'prefix': 'https://ss3.4sqi.net/img/categories_v2/food/italian_',\n",
       "       'suffix': '.png'},\n",
       "      'primary': True}],\n",
       "    'delivery': {'id': '1700675',\n",
       "     'url': 'https://www.seamless.com/menu/tableside-italian-cook-shoppe-345-e-6th-st-new-york/1700675?affiliate=1131&utm_source=foursquare-affiliate-network&utm_medium=affiliate&utm_campaign=1131&utm_content=1700675',\n",
       "     'provider': {'name': 'seamless',\n",
       "      'icon': {'prefix': 'https://fastly.4sqi.net/img/general/cap/',\n",
       "       'sizes': [40, 50],\n",
       "       'name': '/delivery_provider_seamless_20180129.png'}}},\n",
       "    'venuePage': {'id': '427907002'},\n",
       "    'referralId': 'v-1617639543',\n",
       "    'hasPerk': False},\n",
       "   {'id': '5c893ef0d8096e0039e7363b',\n",
       "    'name': 'Pisillo Italian Panini',\n",
       "    'location': {'address': '124 W 25th St',\n",
       "     'crossStreet': 'btwn 6th & 7th Ave',\n",
       "     'lat': 40.744566,\n",
       "     'lng': -73.992868,\n",
       "     'labeledLatLngs': [{'label': 'display',\n",
       "       'lat': 40.744566,\n",
       "       'lng': -73.992868},\n",
       "      {'label': 'entrance', 'lat': 40.744568, 'lng': -73.992984}],\n",
       "     'distance': 3802,\n",
       "     'postalCode': '10001',\n",
       "     'cc': 'US',\n",
       "     'neighborhood': 'Chelsea',\n",
       "     'city': 'New York',\n",
       "     'state': 'NY',\n",
       "     'country': 'United States',\n",
       "     'formattedAddress': ['124 W 25th St (btwn 6th & 7th Ave)',\n",
       "      'New York, NY 10001',\n",
       "      'United States']},\n",
       "    'categories': [{'id': '4bf58dd8d48988d1c5941735',\n",
       "      'name': 'Sandwich Place',\n",
       "      'pluralName': 'Sandwich Places',\n",
       "      'shortName': 'Sandwiches',\n",
       "      'icon': {'prefix': 'https://ss3.4sqi.net/img/categories_v2/food/deli_',\n",
       "       'suffix': '.png'},\n",
       "      'primary': True}],\n",
       "    'delivery': {'id': '1108715',\n",
       "     'url': 'https://www.seamless.com/menu/pisillo-124-w-25th-st-new-york/1108715?affiliate=1131&utm_source=foursquare-affiliate-network&utm_medium=affiliate&utm_campaign=1131&utm_content=1108715',\n",
       "     'provider': {'name': 'seamless',\n",
       "      'icon': {'prefix': 'https://fastly.4sqi.net/img/general/cap/',\n",
       "       'sizes': [40, 50],\n",
       "       'name': '/delivery_provider_seamless_20180129.png'}}},\n",
       "    'referralId': 'v-1617639543',\n",
       "    'hasPerk': False},\n",
       "   {'id': '4f3232e219836c91c7bfde94',\n",
       "    'name': 'Conca Cucina Italian Restaurant',\n",
       "    'location': {'address': '63 W Broadway',\n",
       "     'lat': 40.714484000000006,\n",
       "     'lng': -74.00980600000001,\n",
       "     'labeledLatLngs': [{'label': 'display',\n",
       "       'lat': 40.714484000000006,\n",
       "       'lng': -74.00980600000001}],\n",
       "     'distance': 469,\n",
       "     'postalCode': '10007',\n",
       "     'cc': 'US',\n",
       "     'city': 'New York',\n",
       "     'state': 'NY',\n",
       "     'country': 'United States',\n",
       "     'formattedAddress': ['63 W Broadway',\n",
       "      'New York, NY 10007',\n",
       "      'United States']},\n",
       "    'categories': [{'id': '4d4b7105d754a06374d81259',\n",
       "      'name': 'Food',\n",
       "      'pluralName': 'Food',\n",
       "      'shortName': 'Food',\n",
       "      'icon': {'prefix': 'https://ss3.4sqi.net/img/categories_v2/food/default_',\n",
       "       'suffix': '.png'},\n",
       "      'primary': True}],\n",
       "    'referralId': 'v-1617639543',\n",
       "    'hasPerk': False},\n",
       "   {'id': '5400c682498e3831aaada9fc',\n",
       "    'name': \"Alex's Italian Restaurant & Brick Oven Pizza\",\n",
       "    'location': {'address': '346 Grove St',\n",
       "     'lat': 40.72058470693942,\n",
       "     'lng': -74.04275196874856,\n",
       "     'labeledLatLngs': [{'label': 'display',\n",
       "       'lat': 40.72058470693942,\n",
       "       'lng': -74.04275196874856}],\n",
       "     'distance': 2396,\n",
       "     'postalCode': '07302',\n",
       "     'cc': 'US',\n",
       "     'city': 'Jersey City',\n",
       "     'state': 'NJ',\n",
       "     'country': 'United States',\n",
       "     'formattedAddress': ['346 Grove St',\n",
       "      'Jersey City, NJ 07302',\n",
       "      'United States']},\n",
       "    'categories': [{'id': '4bf58dd8d48988d110941735',\n",
       "      'name': 'Italian Restaurant',\n",
       "      'pluralName': 'Italian Restaurants',\n",
       "      'shortName': 'Italian',\n",
       "      'icon': {'prefix': 'https://ss3.4sqi.net/img/categories_v2/food/italian_',\n",
       "       'suffix': '.png'},\n",
       "      'primary': True}],\n",
       "    'referralId': 'v-1617639543',\n",
       "    'hasPerk': False},\n",
       "   {'id': '4e4c4d28bd413c4cc66857a5',\n",
       "    'name': \"Caruso's Italian Restaurant\",\n",
       "    'location': {'address': '42 Broadway',\n",
       "     'lat': 40.710509099999996,\n",
       "     'lng': -74.00827615,\n",
       "     'labeledLatLngs': [{'label': 'display',\n",
       "       'lat': 40.710509099999996,\n",
       "       'lng': -74.00827615}],\n",
       "     'distance': 774,\n",
       "     'postalCode': '10004',\n",
       "     'cc': 'US',\n",
       "     'city': 'New York',\n",
       "     'state': 'NY',\n",
       "     'country': 'United States',\n",
       "     'formattedAddress': ['42 Broadway',\n",
       "      'New York, NY 10004',\n",
       "      'United States']},\n",
       "    'categories': [{'id': '4bf58dd8d48988d110941735',\n",
       "      'name': 'Italian Restaurant',\n",
       "      'pluralName': 'Italian Restaurants',\n",
       "      'shortName': 'Italian',\n",
       "      'icon': {'prefix': 'https://ss3.4sqi.net/img/categories_v2/food/italian_',\n",
       "       'suffix': '.png'},\n",
       "      'primary': True}],\n",
       "    'referralId': 'v-1617639543',\n",
       "    'hasPerk': False},\n",
       "   {'id': '4cf7d538dc40a35d26894f54',\n",
       "    'name': 'Italian Culinary Academy',\n",
       "    'location': {'address': '462 Broadway',\n",
       "     'crossStreet': 'Grand St.',\n",
       "     'lat': 40.7208251953125,\n",
       "     'lng': -74.00006866455078,\n",
       "     'labeledLatLngs': [{'label': 'display',\n",
       "       'lat': 40.7208251953125,\n",
       "       'lng': -74.00006866455078}],\n",
       "     'distance': 1444,\n",
       "     'postalCode': '10013',\n",
       "     'cc': 'US',\n",
       "     'city': 'New York',\n",
       "     'state': 'NY',\n",
       "     'country': 'United States',\n",
       "     'formattedAddress': ['462 Broadway (Grand St.)',\n",
       "      'New York, NY 10013',\n",
       "      'United States']},\n",
       "    'categories': [{'id': '4bf58dd8d48988d199941735',\n",
       "      'name': 'College Arts Building',\n",
       "      'pluralName': 'College Arts Buildings',\n",
       "      'shortName': 'Arts',\n",
       "      'icon': {'prefix': 'https://ss3.4sqi.net/img/categories_v2/arts_entertainment/default_',\n",
       "       'suffix': '.png'},\n",
       "      'primary': True}],\n",
       "    'referralId': 'v-1617639543',\n",
       "    'hasPerk': False},\n",
       "   {'id': '6065ecdcc85e724bffef8c08',\n",
       "    'name': 'Pisillo Italian Cafe',\n",
       "    'location': {'address': '99 Nassau St',\n",
       "     'lat': 40.710458,\n",
       "     'lng': -74.007693,\n",
       "     'labeledLatLngs': [{'label': 'display',\n",
       "       'lat': 40.710458,\n",
       "       'lng': -74.007693}],\n",
       "     'distance': 816,\n",
       "     'postalCode': '10038',\n",
       "     'cc': 'US',\n",
       "     'city': 'New York',\n",
       "     'state': 'NY',\n",
       "     'country': 'United States',\n",
       "     'formattedAddress': ['99 Nassau St',\n",
       "      'New York, NY 10038',\n",
       "      'United States']},\n",
       "    'categories': [{'id': '4bf58dd8d48988d16d941735',\n",
       "      'name': 'Café',\n",
       "      'pluralName': 'Cafés',\n",
       "      'shortName': 'Café',\n",
       "      'icon': {'prefix': 'https://ss3.4sqi.net/img/categories_v2/food/cafe_',\n",
       "       'suffix': '.png'},\n",
       "      'primary': True}],\n",
       "    'referralId': 'v-1617639543',\n",
       "    'hasPerk': False},\n",
       "   {'id': '51a63ef7498e9eedb94e0c5f',\n",
       "    'name': 'Italian Food Center',\n",
       "    'location': {'address': '161 Mulberry St',\n",
       "     'crossStreet': 'at Grand St.',\n",
       "     'lat': 40.719589,\n",
       "     'lng': -73.997339,\n",
       "     'labeledLatLngs': [{'label': 'display',\n",
       "       'lat': 40.719589,\n",
       "       'lng': -73.997339},\n",
       "      {'label': 'entrance', 'lat': 40.719579, 'lng': -73.997296}],\n",
       "     'distance': 1603,\n",
       "     'postalCode': '10013',\n",
       "     'cc': 'US',\n",
       "     'city': 'New York',\n",
       "     'state': 'NY',\n",
       "     'country': 'United States',\n",
       "     'formattedAddress': ['161 Mulberry St (at Grand St.)',\n",
       "      'New York, NY 10013',\n",
       "      'United States']},\n",
       "    'categories': [{'id': '4bf58dd8d48988d110941735',\n",
       "      'name': 'Italian Restaurant',\n",
       "      'pluralName': 'Italian Restaurants',\n",
       "      'shortName': 'Italian',\n",
       "      'icon': {'prefix': 'https://ss3.4sqi.net/img/categories_v2/food/italian_',\n",
       "       'suffix': '.png'},\n",
       "      'primary': True}],\n",
       "    'referralId': 'v-1617639543',\n",
       "    'hasPerk': False},\n",
       "   {'id': '4c3b8244def90f478f0ffe2d',\n",
       "    'name': 'Barber Italian Shop',\n",
       "    'location': {'address': '120 Broadway',\n",
       "     'crossStreet': 'btw Cedar & Pine',\n",
       "     'lat': 40.70796968555732,\n",
       "     'lng': -74.00994920143108,\n",
       "     'labeledLatLngs': [{'label': 'display',\n",
       "       'lat': 40.70796968555732,\n",
       "       'lng': -74.00994920143108}],\n",
       "     'distance': 900,\n",
       "     'postalCode': '10271',\n",
       "     'cc': 'US',\n",
       "     'city': 'New York',\n",
       "     'state': 'NY',\n",
       "     'country': 'United States',\n",
       "     'formattedAddress': ['120 Broadway (btw Cedar & Pine)',\n",
       "      'New York, NY 10271',\n",
       "      'United States']},\n",
       "    'categories': [{'id': '4bf58dd8d48988d103951735',\n",
       "      'name': 'Clothing Store',\n",
       "      'pluralName': 'Clothing Stores',\n",
       "      'shortName': 'Apparel',\n",
       "      'icon': {'prefix': 'https://ss3.4sqi.net/img/categories_v2/shops/apparel_',\n",
       "       'suffix': '.png'},\n",
       "      'primary': True}],\n",
       "    'referralId': 'v-1617639543',\n",
       "    'hasPerk': False},\n",
       "   {'id': '50de11fde4b0a94f4e13d7cd',\n",
       "    'name': 'Italian Bakery 160 Prince',\n",
       "    'location': {'lat': 40.725955,\n",
       "     'lng': -74.001161,\n",
       "     'labeledLatLngs': [{'label': 'display',\n",
       "       'lat': 40.725955,\n",
       "       'lng': -74.001161}],\n",
       "     'distance': 1711,\n",
       "     'postalCode': '10012',\n",
       "     'cc': 'US',\n",
       "     'city': 'New York',\n",
       "     'state': 'NY',\n",
       "     'country': 'United States',\n",
       "     'formattedAddress': ['New York, NY 10012', 'United States']},\n",
       "    'categories': [{'id': '4bf58dd8d48988d16a941735',\n",
       "      'name': 'Bakery',\n",
       "      'pluralName': 'Bakeries',\n",
       "      'shortName': 'Bakery',\n",
       "      'icon': {'prefix': 'https://ss3.4sqi.net/img/categories_v2/food/bakery_',\n",
       "       'suffix': '.png'},\n",
       "      'primary': True}],\n",
       "    'referralId': 'v-1617639543',\n",
       "    'hasPerk': False},\n",
       "   {'id': '4f44a2bd19836ed0019571be',\n",
       "    'name': 'Mama Mia 44sw Italian Cuisine',\n",
       "    'location': {'address': '621 9th Ave',\n",
       "     'lat': 40.75971578462592,\n",
       "     'lng': -73.9918286373273,\n",
       "     'labeledLatLngs': [{'label': 'display',\n",
       "       'lat': 40.75971578462592,\n",
       "       'lng': -73.9918286373273}],\n",
       "     'distance': 5362,\n",
       "     'postalCode': '10036',\n",
       "     'cc': 'US',\n",
       "     'city': 'New York',\n",
       "     'state': 'NY',\n",
       "     'country': 'United States',\n",
       "     'formattedAddress': ['621 9th Ave',\n",
       "      'New York, NY 10036',\n",
       "      'United States']},\n",
       "    'categories': [{'id': '4bf58dd8d48988d110941735',\n",
       "      'name': 'Italian Restaurant',\n",
       "      'pluralName': 'Italian Restaurants',\n",
       "      'shortName': 'Italian',\n",
       "      'icon': {'prefix': 'https://ss3.4sqi.net/img/categories_v2/food/italian_',\n",
       "       'suffix': '.png'},\n",
       "      'primary': True}],\n",
       "    'delivery': {'id': '320951',\n",
       "     'url': 'https://www.seamless.com/menu/mama-mia-44-sw-621-9th-ave-new-york/320951?affiliate=1131&utm_source=foursquare-affiliate-network&utm_medium=affiliate&utm_campaign=1131&utm_content=320951',\n",
       "     'provider': {'name': 'seamless',\n",
       "      'icon': {'prefix': 'https://fastly.4sqi.net/img/general/cap/',\n",
       "       'sizes': [40, 50],\n",
       "       'name': '/delivery_provider_seamless_20180129.png'}}},\n",
       "    'referralId': 'v-1617639543',\n",
       "    'hasPerk': False},\n",
       "   {'id': '49fa194ff964a520bb6d1fe3',\n",
       "    'name': \"Rita's Italian Ice & Frozen Custard\",\n",
       "    'location': {'address': '121 Washington St',\n",
       "     'crossStreet': 'by 1st',\n",
       "     'lat': 40.73812700733951,\n",
       "     'lng': -74.03067773279936,\n",
       "     'labeledLatLngs': [{'label': 'display',\n",
       "       'lat': 40.73812700733951,\n",
       "       'lng': -74.03067773279936}],\n",
       "     'distance': 2885,\n",
       "     'postalCode': '07030',\n",
       "     'cc': 'US',\n",
       "     'city': 'Hoboken',\n",
       "     'state': 'NJ',\n",
       "     'country': 'United States',\n",
       "     'formattedAddress': ['121 Washington St (by 1st)',\n",
       "      'Hoboken, NJ 07030',\n",
       "      'United States']},\n",
       "    'categories': [{'id': '4bf58dd8d48988d1c9941735',\n",
       "      'name': 'Ice Cream Shop',\n",
       "      'pluralName': 'Ice Cream Shops',\n",
       "      'shortName': 'Ice Cream',\n",
       "      'icon': {'prefix': 'https://ss3.4sqi.net/img/categories_v2/food/icecream_',\n",
       "       'suffix': '.png'},\n",
       "      'primary': True}],\n",
       "    'referralId': 'v-1617639543',\n",
       "    'hasPerk': False},\n",
       "   {'id': '525d7bde498e3a406f590b1d',\n",
       "    'name': \"Davio's North Italian Steakhouse\",\n",
       "    'location': {'address': '447 Lexington Ave',\n",
       "     'crossStreet': '45th Street',\n",
       "     'lat': 40.753233339315564,\n",
       "     'lng': -73.97477368607031,\n",
       "     'labeledLatLngs': [{'label': 'display',\n",
       "       'lat': 40.753233339315564,\n",
       "       'lng': -73.97477368607031}],\n",
       "     'distance': 5464,\n",
       "     'postalCode': '10017',\n",
       "     'cc': 'US',\n",
       "     'city': 'New York',\n",
       "     'state': 'NY',\n",
       "     'country': 'United States',\n",
       "     'formattedAddress': ['447 Lexington Ave (45th Street)',\n",
       "      'New York, NY 10017',\n",
       "      'United States']},\n",
       "    'categories': [{'id': '4bf58dd8d48988d110941735',\n",
       "      'name': 'Italian Restaurant',\n",
       "      'pluralName': 'Italian Restaurants',\n",
       "      'shortName': 'Italian',\n",
       "      'icon': {'prefix': 'https://ss3.4sqi.net/img/categories_v2/food/italian_',\n",
       "       'suffix': '.png'},\n",
       "      'primary': True}],\n",
       "    'venuePage': {'id': '74919433'},\n",
       "    'referralId': 'v-1617639543',\n",
       "    'hasPerk': False},\n",
       "   {'id': '51e245e8498eb19e2e908b76',\n",
       "    'name': \"Di So's Italian Food Truck\",\n",
       "    'location': {'lat': 40.70397251406873,\n",
       "     'lng': -74.00862679659664,\n",
       "     'labeledLatLngs': [{'label': 'display',\n",
       "       'lat': 40.70397251406873,\n",
       "       'lng': -74.00862679659664}],\n",
       "     'distance': 1347,\n",
       "     'cc': 'US',\n",
       "     'neighborhood': 'Financial District',\n",
       "     'city': 'New York',\n",
       "     'state': 'NY',\n",
       "     'country': 'United States',\n",
       "     'formattedAddress': ['New York, NY', 'United States']},\n",
       "    'categories': [{'id': '4bf58dd8d48988d110941735',\n",
       "      'name': 'Italian Restaurant',\n",
       "      'pluralName': 'Italian Restaurants',\n",
       "      'shortName': 'Italian',\n",
       "      'icon': {'prefix': 'https://ss3.4sqi.net/img/categories_v2/food/italian_',\n",
       "       'suffix': '.png'},\n",
       "      'primary': True}],\n",
       "    'referralId': 'v-1617639543',\n",
       "    'hasPerk': False},\n",
       "   {'id': '4b047a7bf964a5207f5422e3',\n",
       "    'name': 'Italian Wine Merchants',\n",
       "    'location': {'address': '108 E 16th St',\n",
       "     'crossStreet': 'btwn Union Square E & Irving Pl',\n",
       "     'lat': 40.735738131682105,\n",
       "     'lng': -73.98885840547041,\n",
       "     'labeledLatLngs': [{'label': 'display',\n",
       "       'lat': 40.735738131682105,\n",
       "       'lng': -73.98885840547041},\n",
       "      {'label': 'entrance', 'lat': 40.735563, 'lng': -73.988752}],\n",
       "     'distance': 3215,\n",
       "     'postalCode': '10003',\n",
       "     'cc': 'US',\n",
       "     'city': 'New York',\n",
       "     'state': 'NY',\n",
       "     'country': 'United States',\n",
       "     'formattedAddress': ['108 E 16th St (btwn Union Square E & Irving Pl)',\n",
       "      'New York, NY 10003',\n",
       "      'United States']},\n",
       "    'categories': [{'id': '4bf58dd8d48988d119951735',\n",
       "      'name': 'Wine Shop',\n",
       "      'pluralName': 'Wine Shops',\n",
       "      'shortName': 'Wine Shop',\n",
       "      'icon': {'prefix': 'https://ss3.4sqi.net/img/categories_v2/shops/food_wineshop_',\n",
       "       'suffix': '.png'},\n",
       "      'primary': True}],\n",
       "    'referralId': 'v-1617639543',\n",
       "    'hasPerk': False},\n",
       "   {'id': '4bd78b4809ecb7138732477c',\n",
       "    'name': 'Italian Rifle Club',\n",
       "    'location': {'lat': 40.72858856840826,\n",
       "     'lng': -74.00174320053318,\n",
       "     'labeledLatLngs': [{'label': 'display',\n",
       "       'lat': 40.72858856840826,\n",
       "       'lng': -74.00174320053318}],\n",
       "     'distance': 1902,\n",
       "     'postalCode': '10012',\n",
       "     'cc': 'US',\n",
       "     'city': 'New York',\n",
       "     'state': 'NY',\n",
       "     'country': 'United States',\n",
       "     'formattedAddress': ['New York, NY 10012', 'United States']},\n",
       "    'categories': [{'id': '4bf58dd8d48988d110941735',\n",
       "      'name': 'Italian Restaurant',\n",
       "      'pluralName': 'Italian Restaurants',\n",
       "      'shortName': 'Italian',\n",
       "      'icon': {'prefix': 'https://ss3.4sqi.net/img/categories_v2/food/italian_',\n",
       "       'suffix': '.png'},\n",
       "      'primary': True}],\n",
       "    'referralId': 'v-1617639543',\n",
       "    'hasPerk': False},\n",
       "   {'id': '6043fb2abc35590bd3a32d27',\n",
       "    'name': 'Rita’s Italian Ice',\n",
       "    'location': {'address': '4 South St',\n",
       "     'lat': 40.701008,\n",
       "     'lng': -74.01325,\n",
       "     'labeledLatLngs': [{'label': 'display',\n",
       "       'lat': 40.701008,\n",
       "       'lng': -74.01325}],\n",
       "     'distance': 1562,\n",
       "     'postalCode': '10004',\n",
       "     'cc': 'US',\n",
       "     'city': 'New York',\n",
       "     'state': 'NY',\n",
       "     'country': 'United States',\n",
       "     'formattedAddress': ['4 South St',\n",
       "      'New York, NY 10004',\n",
       "      'United States']},\n",
       "    'categories': [{'id': '4bf58dd8d48988d1c9941735',\n",
       "      'name': 'Ice Cream Shop',\n",
       "      'pluralName': 'Ice Cream Shops',\n",
       "      'shortName': 'Ice Cream',\n",
       "      'icon': {'prefix': 'https://ss3.4sqi.net/img/categories_v2/food/icecream_',\n",
       "       'suffix': '.png'},\n",
       "      'primary': True}],\n",
       "    'referralId': 'v-1617639543',\n",
       "    'hasPerk': False},\n",
       "   {'id': '3fd66200f964a5209ee81ee3',\n",
       "    'name': 'Carmine’s Italian Restaurant',\n",
       "    'location': {'address': '200 W 44th St',\n",
       "     'crossStreet': 'btwn Broadway & 8th Ave',\n",
       "     'lat': 40.7574973,\n",
       "     'lng': -73.9867788,\n",
       "     'labeledLatLngs': [{'label': 'display',\n",
       "       'lat': 40.7574973,\n",
       "       'lng': -73.9867788}],\n",
       "     'distance': 5313,\n",
       "     'postalCode': '10036',\n",
       "     'cc': 'US',\n",
       "     'city': 'New York',\n",
       "     'state': 'NY',\n",
       "     'country': 'United States',\n",
       "     'formattedAddress': ['200 W 44th St (btwn Broadway & 8th Ave)',\n",
       "      'New York, NY 10036',\n",
       "      'United States']},\n",
       "    'categories': [{'id': '4bf58dd8d48988d110941735',\n",
       "      'name': 'Italian Restaurant',\n",
       "      'pluralName': 'Italian Restaurants',\n",
       "      'shortName': 'Italian',\n",
       "      'icon': {'prefix': 'https://ss3.4sqi.net/img/categories_v2/food/italian_',\n",
       "       'suffix': '.png'},\n",
       "      'primary': True}],\n",
       "    'referralId': 'v-1617639543',\n",
       "    'hasPerk': False},\n",
       "   {'id': '51fbf7a3498e86b46099a568',\n",
       "    'name': 'Dominics Italian Sausage Truck',\n",
       "    'location': {'lat': 40.70349917092183,\n",
       "     'lng': -74.01285277894489,\n",
       "     'labeledLatLngs': [{'label': 'display',\n",
       "       'lat': 40.70349917092183,\n",
       "       'lng': -74.01285277894489}],\n",
       "     'distance': 1292,\n",
       "     'cc': 'US',\n",
       "     'neighborhood': 'Financial District',\n",
       "     'city': 'New York',\n",
       "     'state': 'NY',\n",
       "     'country': 'United States',\n",
       "     'formattedAddress': ['New York, NY', 'United States']},\n",
       "    'categories': [{'id': '4bf58dd8d48988d1cb941735',\n",
       "      'name': 'Food Truck',\n",
       "      'pluralName': 'Food Trucks',\n",
       "      'shortName': 'Food Truck',\n",
       "      'icon': {'prefix': 'https://ss3.4sqi.net/img/categories_v2/food/streetfood_',\n",
       "       'suffix': '.png'},\n",
       "      'primary': True}],\n",
       "    'referralId': 'v-1617639543',\n",
       "    'hasPerk': False},\n",
       "   {'id': '4b6c4ebaf964a520612f2ce3',\n",
       "    'name': 'Olive Tree Italian',\n",
       "    'location': {'address': '182 Lexington Ave',\n",
       "     'crossStreet': 'btw 31st & 32nd',\n",
       "     'lat': 40.74473571777344,\n",
       "     'lng': -73.98121643066406,\n",
       "     'labeledLatLngs': [{'label': 'display',\n",
       "       'lat': 40.74473571777344,\n",
       "       'lng': -73.98121643066406}],\n",
       "     'distance': 4390,\n",
       "     'postalCode': '10016',\n",
       "     'cc': 'US',\n",
       "     'city': 'New York',\n",
       "     'state': 'NY',\n",
       "     'country': 'United States',\n",
       "     'formattedAddress': ['182 Lexington Ave (btw 31st & 32nd)',\n",
       "      'New York, NY 10016',\n",
       "      'United States']},\n",
       "    'categories': [{'id': '4bf58dd8d48988d110941735',\n",
       "      'name': 'Italian Restaurant',\n",
       "      'pluralName': 'Italian Restaurants',\n",
       "      'shortName': 'Italian',\n",
       "      'icon': {'prefix': 'https://ss3.4sqi.net/img/categories_v2/food/italian_',\n",
       "       'suffix': '.png'},\n",
       "      'primary': True}],\n",
       "    'referralId': 'v-1617639543',\n",
       "    'hasPerk': False},\n",
       "   {'id': '4f779e12e4b08e5a67d80bb4',\n",
       "    'name': 'Diva italian resturant',\n",
       "    'location': {'address': '341 W Broadway',\n",
       "     'crossStreet': 'None',\n",
       "     'lat': 40.72251510620117,\n",
       "     'lng': -74.00334930419922,\n",
       "     'labeledLatLngs': [{'label': 'entrance',\n",
       "       'lat': 40.722538,\n",
       "       'lng': -74.003473},\n",
       "      {'label': 'display',\n",
       "       'lat': 40.72251510620117,\n",
       "       'lng': -74.00334930419922}],\n",
       "     'distance': 1315,\n",
       "     'postalCode': '10013',\n",
       "     'cc': 'US',\n",
       "     'city': 'New York',\n",
       "     'state': 'NY',\n",
       "     'country': 'United States',\n",
       "     'formattedAddress': ['341 W Broadway (None)',\n",
       "      'New York, NY 10013',\n",
       "      'United States']},\n",
       "    'categories': [{'id': '4bf58dd8d48988d110941735',\n",
       "      'name': 'Italian Restaurant',\n",
       "      'pluralName': 'Italian Restaurants',\n",
       "      'shortName': 'Italian',\n",
       "      'icon': {'prefix': 'https://ss3.4sqi.net/img/categories_v2/food/italian_',\n",
       "       'suffix': '.png'},\n",
       "      'primary': True}],\n",
       "    'referralId': 'v-1617639543',\n",
       "    'hasPerk': False},\n",
       "   {'id': '4bbf6b6430c99c74302a5511',\n",
       "    'name': 'PJ Charlton Italian Restaurant',\n",
       "    'location': {'address': '549 Greenwich St',\n",
       "     'lat': 40.72744633153894,\n",
       "     'lng': -74.00865622880806,\n",
       "     'labeledLatLngs': [{'label': 'display',\n",
       "       'lat': 40.72744633153894,\n",
       "       'lng': -74.00865622880806},\n",
       "      {'label': 'entrance', 'lat': 40.727328, 'lng': -74.008749}],\n",
       "     'distance': 1500,\n",
       "     'postalCode': '10013',\n",
       "     'cc': 'US',\n",
       "     'city': 'New York',\n",
       "     'state': 'NY',\n",
       "     'country': 'United States',\n",
       "     'formattedAddress': ['549 Greenwich St',\n",
       "      'New York, NY 10013',\n",
       "      'United States']},\n",
       "    'categories': [{'id': '4bf58dd8d48988d110941735',\n",
       "      'name': 'Italian Restaurant',\n",
       "      'pluralName': 'Italian Restaurants',\n",
       "      'shortName': 'Italian',\n",
       "      'icon': {'prefix': 'https://ss3.4sqi.net/img/categories_v2/food/italian_',\n",
       "       'suffix': '.png'},\n",
       "      'primary': True}],\n",
       "    'referralId': 'v-1617639543',\n",
       "    'hasPerk': False}]}}"
      ]
     },
     "execution_count": 6,
     "metadata": {},
     "output_type": "execute_result"
    }
   ],
   "source": [
    "results = requests.get(url).json()\n",
    "results"
   ]
  },
  {
   "cell_type": "markdown",
   "metadata": {
    "button": false,
    "new_sheet": false,
    "run_control": {
     "read_only": false
    }
   },
   "source": [
    "#### Get relevant part of JSON and transform it into a _pandas_ dataframe\n"
   ]
  },
  {
   "cell_type": "code",
   "execution_count": 7,
   "metadata": {
    "button": false,
    "collapsed": false,
    "jupyter": {
     "outputs_hidden": false
    },
    "new_sheet": false,
    "run_control": {
     "read_only": false
    }
   },
   "outputs": [
    {
     "name": "stderr",
     "output_type": "stream",
     "text": [
      "/home/jupyterlab/conda/envs/python/lib/python3.6/site-packages/ipykernel_launcher.py:5: FutureWarning: pandas.io.json.json_normalize is deprecated, use pandas.json_normalize instead\n",
      "  \"\"\"\n"
     ]
    },
    {
     "data": {
      "text/html": [
       "<div>\n",
       "<style scoped>\n",
       "    .dataframe tbody tr th:only-of-type {\n",
       "        vertical-align: middle;\n",
       "    }\n",
       "\n",
       "    .dataframe tbody tr th {\n",
       "        vertical-align: top;\n",
       "    }\n",
       "\n",
       "    .dataframe thead th {\n",
       "        text-align: right;\n",
       "    }\n",
       "</style>\n",
       "<table border=\"1\" class=\"dataframe\">\n",
       "  <thead>\n",
       "    <tr style=\"text-align: right;\">\n",
       "      <th></th>\n",
       "      <th>id</th>\n",
       "      <th>name</th>\n",
       "      <th>categories</th>\n",
       "      <th>referralId</th>\n",
       "      <th>hasPerk</th>\n",
       "      <th>location.address</th>\n",
       "      <th>location.crossStreet</th>\n",
       "      <th>location.lat</th>\n",
       "      <th>location.lng</th>\n",
       "      <th>location.labeledLatLngs</th>\n",
       "      <th>...</th>\n",
       "      <th>location.country</th>\n",
       "      <th>location.formattedAddress</th>\n",
       "      <th>delivery.id</th>\n",
       "      <th>delivery.url</th>\n",
       "      <th>delivery.provider.name</th>\n",
       "      <th>delivery.provider.icon.prefix</th>\n",
       "      <th>delivery.provider.icon.sizes</th>\n",
       "      <th>delivery.provider.icon.name</th>\n",
       "      <th>venuePage.id</th>\n",
       "      <th>location.neighborhood</th>\n",
       "    </tr>\n",
       "  </thead>\n",
       "  <tbody>\n",
       "    <tr>\n",
       "      <th>0</th>\n",
       "      <td>528bf16711d2b7722da6b51c</td>\n",
       "      <td>Pisillo Italian Panini</td>\n",
       "      <td>[{'id': '4bf58dd8d48988d1c5941735', 'name': 'S...</td>\n",
       "      <td>v-1617639543</td>\n",
       "      <td>False</td>\n",
       "      <td>97 Nassau St</td>\n",
       "      <td>at Ann St</td>\n",
       "      <td>40.710530</td>\n",
       "      <td>-74.007526</td>\n",
       "      <td>[{'label': 'display', 'lat': 40.71053008446078...</td>\n",
       "      <td>...</td>\n",
       "      <td>United States</td>\n",
       "      <td>[97 Nassau St (at Ann St), New York, NY 10038,...</td>\n",
       "      <td>286355</td>\n",
       "      <td>https://www.seamless.com/menu/pisillo-97-nassa...</td>\n",
       "      <td>seamless</td>\n",
       "      <td>https://fastly.4sqi.net/img/general/cap/</td>\n",
       "      <td>[40, 50]</td>\n",
       "      <td>/delivery_provider_seamless_20180129.png</td>\n",
       "      <td>105457747</td>\n",
       "      <td>NaN</td>\n",
       "    </tr>\n",
       "    <tr>\n",
       "      <th>1</th>\n",
       "      <td>4a4560a7f964a5201aa81fe3</td>\n",
       "      <td>Harry's Italian Pizza Bar</td>\n",
       "      <td>[{'id': '4bf58dd8d48988d110941735', 'name': 'I...</td>\n",
       "      <td>v-1617639543</td>\n",
       "      <td>False</td>\n",
       "      <td>2 Gold St</td>\n",
       "      <td>at Maiden Ln.</td>\n",
       "      <td>40.707634</td>\n",
       "      <td>-74.006996</td>\n",
       "      <td>[{'label': 'display', 'lat': 40.7076335455641,...</td>\n",
       "      <td>...</td>\n",
       "      <td>United States</td>\n",
       "      <td>[2 Gold St (at Maiden Ln.), New York, NY 10038...</td>\n",
       "      <td>NaN</td>\n",
       "      <td>NaN</td>\n",
       "      <td>NaN</td>\n",
       "      <td>NaN</td>\n",
       "      <td>NaN</td>\n",
       "      <td>NaN</td>\n",
       "      <td>77559825</td>\n",
       "      <td>NaN</td>\n",
       "    </tr>\n",
       "    <tr>\n",
       "      <th>2</th>\n",
       "      <td>4a74a36af964a520fede1fe3</td>\n",
       "      <td>Faicco's Italian Specialties</td>\n",
       "      <td>[{'id': '4bf58dd8d48988d1c5941735', 'name': 'S...</td>\n",
       "      <td>v-1617639543</td>\n",
       "      <td>False</td>\n",
       "      <td>260 Bleecker St</td>\n",
       "      <td>at Cornelia St</td>\n",
       "      <td>40.731117</td>\n",
       "      <td>-74.003043</td>\n",
       "      <td>[{'label': 'display', 'lat': 40.73111661087598...</td>\n",
       "      <td>...</td>\n",
       "      <td>United States</td>\n",
       "      <td>[260 Bleecker St (at Cornelia St), New York, N...</td>\n",
       "      <td>2088184</td>\n",
       "      <td>https://www.seamless.com/menu/faiccos-260-blee...</td>\n",
       "      <td>seamless</td>\n",
       "      <td>https://fastly.4sqi.net/img/general/cap/</td>\n",
       "      <td>[40, 50]</td>\n",
       "      <td>/delivery_provider_seamless_20180129.png</td>\n",
       "      <td>NaN</td>\n",
       "      <td>NaN</td>\n",
       "    </tr>\n",
       "    <tr>\n",
       "      <th>3</th>\n",
       "      <td>4fa862b3e4b0ebff2f749f06</td>\n",
       "      <td>Harry's Italian Pizza Bar</td>\n",
       "      <td>[{'id': '4bf58dd8d48988d1ca941735', 'name': 'P...</td>\n",
       "      <td>v-1617639543</td>\n",
       "      <td>False</td>\n",
       "      <td>225 Murray St</td>\n",
       "      <td>NaN</td>\n",
       "      <td>40.715218</td>\n",
       "      <td>-74.014739</td>\n",
       "      <td>[{'label': 'display', 'lat': 40.71521779064671...</td>\n",
       "      <td>...</td>\n",
       "      <td>United States</td>\n",
       "      <td>[225 Murray St, New York, NY 10282, United Sta...</td>\n",
       "      <td>NaN</td>\n",
       "      <td>NaN</td>\n",
       "      <td>NaN</td>\n",
       "      <td>NaN</td>\n",
       "      <td>NaN</td>\n",
       "      <td>NaN</td>\n",
       "      <td>NaN</td>\n",
       "      <td>NaN</td>\n",
       "    </tr>\n",
       "    <tr>\n",
       "      <th>4</th>\n",
       "      <td>4b9d4c67f964a5206ca136e3</td>\n",
       "      <td>Italian American Museum Of New York</td>\n",
       "      <td>[{'id': '4bf58dd8d48988d190941735', 'name': 'H...</td>\n",
       "      <td>v-1617639543</td>\n",
       "      <td>False</td>\n",
       "      <td>155 Mulberry St</td>\n",
       "      <td>at Grand St</td>\n",
       "      <td>40.719191</td>\n",
       "      <td>-73.997376</td>\n",
       "      <td>[{'label': 'display', 'lat': 40.71919065572268...</td>\n",
       "      <td>...</td>\n",
       "      <td>United States</td>\n",
       "      <td>[155 Mulberry St (at Grand St), New York, NY 1...</td>\n",
       "      <td>NaN</td>\n",
       "      <td>NaN</td>\n",
       "      <td>NaN</td>\n",
       "      <td>NaN</td>\n",
       "      <td>NaN</td>\n",
       "      <td>NaN</td>\n",
       "      <td>66342615</td>\n",
       "      <td>NaN</td>\n",
       "    </tr>\n",
       "  </tbody>\n",
       "</table>\n",
       "<p>5 rows × 25 columns</p>\n",
       "</div>"
      ],
      "text/plain": [
       "                         id                                 name  \\\n",
       "0  528bf16711d2b7722da6b51c               Pisillo Italian Panini   \n",
       "1  4a4560a7f964a5201aa81fe3            Harry's Italian Pizza Bar   \n",
       "2  4a74a36af964a520fede1fe3         Faicco's Italian Specialties   \n",
       "3  4fa862b3e4b0ebff2f749f06            Harry's Italian Pizza Bar   \n",
       "4  4b9d4c67f964a5206ca136e3  Italian American Museum Of New York   \n",
       "\n",
       "                                          categories    referralId  hasPerk  \\\n",
       "0  [{'id': '4bf58dd8d48988d1c5941735', 'name': 'S...  v-1617639543    False   \n",
       "1  [{'id': '4bf58dd8d48988d110941735', 'name': 'I...  v-1617639543    False   \n",
       "2  [{'id': '4bf58dd8d48988d1c5941735', 'name': 'S...  v-1617639543    False   \n",
       "3  [{'id': '4bf58dd8d48988d1ca941735', 'name': 'P...  v-1617639543    False   \n",
       "4  [{'id': '4bf58dd8d48988d190941735', 'name': 'H...  v-1617639543    False   \n",
       "\n",
       "  location.address location.crossStreet  location.lat  location.lng  \\\n",
       "0     97 Nassau St            at Ann St     40.710530    -74.007526   \n",
       "1        2 Gold St        at Maiden Ln.     40.707634    -74.006996   \n",
       "2  260 Bleecker St       at Cornelia St     40.731117    -74.003043   \n",
       "3    225 Murray St                  NaN     40.715218    -74.014739   \n",
       "4  155 Mulberry St          at Grand St     40.719191    -73.997376   \n",
       "\n",
       "                             location.labeledLatLngs  ...  location.country  \\\n",
       "0  [{'label': 'display', 'lat': 40.71053008446078...  ...     United States   \n",
       "1  [{'label': 'display', 'lat': 40.7076335455641,...  ...     United States   \n",
       "2  [{'label': 'display', 'lat': 40.73111661087598...  ...     United States   \n",
       "3  [{'label': 'display', 'lat': 40.71521779064671...  ...     United States   \n",
       "4  [{'label': 'display', 'lat': 40.71919065572268...  ...     United States   \n",
       "\n",
       "                           location.formattedAddress delivery.id  \\\n",
       "0  [97 Nassau St (at Ann St), New York, NY 10038,...      286355   \n",
       "1  [2 Gold St (at Maiden Ln.), New York, NY 10038...         NaN   \n",
       "2  [260 Bleecker St (at Cornelia St), New York, N...     2088184   \n",
       "3  [225 Murray St, New York, NY 10282, United Sta...         NaN   \n",
       "4  [155 Mulberry St (at Grand St), New York, NY 1...         NaN   \n",
       "\n",
       "                                        delivery.url delivery.provider.name  \\\n",
       "0  https://www.seamless.com/menu/pisillo-97-nassa...               seamless   \n",
       "1                                                NaN                    NaN   \n",
       "2  https://www.seamless.com/menu/faiccos-260-blee...               seamless   \n",
       "3                                                NaN                    NaN   \n",
       "4                                                NaN                    NaN   \n",
       "\n",
       "              delivery.provider.icon.prefix delivery.provider.icon.sizes  \\\n",
       "0  https://fastly.4sqi.net/img/general/cap/                     [40, 50]   \n",
       "1                                       NaN                          NaN   \n",
       "2  https://fastly.4sqi.net/img/general/cap/                     [40, 50]   \n",
       "3                                       NaN                          NaN   \n",
       "4                                       NaN                          NaN   \n",
       "\n",
       "                delivery.provider.icon.name venuePage.id location.neighborhood  \n",
       "0  /delivery_provider_seamless_20180129.png    105457747                   NaN  \n",
       "1                                       NaN     77559825                   NaN  \n",
       "2  /delivery_provider_seamless_20180129.png          NaN                   NaN  \n",
       "3                                       NaN          NaN                   NaN  \n",
       "4                                       NaN     66342615                   NaN  \n",
       "\n",
       "[5 rows x 25 columns]"
      ]
     },
     "execution_count": 7,
     "metadata": {},
     "output_type": "execute_result"
    }
   ],
   "source": [
    "# assign relevant part of JSON to venues\n",
    "venues = results['response']['venues']\n",
    "\n",
    "# tranform venues into a dataframe\n",
    "dataframe = json_normalize(venues)\n",
    "dataframe.head()"
   ]
  },
  {
   "cell_type": "markdown",
   "metadata": {
    "button": false,
    "new_sheet": false,
    "run_control": {
     "read_only": false
    }
   },
   "source": [
    "#### Define information of interest and filter dataframe\n"
   ]
  },
  {
   "cell_type": "code",
   "execution_count": 8,
   "metadata": {
    "button": false,
    "collapsed": false,
    "jupyter": {
     "outputs_hidden": false
    },
    "new_sheet": false,
    "run_control": {
     "read_only": false
    },
    "scrolled": true
   },
   "outputs": [
    {
     "data": {
      "text/html": [
       "<div>\n",
       "<style scoped>\n",
       "    .dataframe tbody tr th:only-of-type {\n",
       "        vertical-align: middle;\n",
       "    }\n",
       "\n",
       "    .dataframe tbody tr th {\n",
       "        vertical-align: top;\n",
       "    }\n",
       "\n",
       "    .dataframe thead th {\n",
       "        text-align: right;\n",
       "    }\n",
       "</style>\n",
       "<table border=\"1\" class=\"dataframe\">\n",
       "  <thead>\n",
       "    <tr style=\"text-align: right;\">\n",
       "      <th></th>\n",
       "      <th>name</th>\n",
       "      <th>categories</th>\n",
       "      <th>address</th>\n",
       "      <th>crossStreet</th>\n",
       "      <th>lat</th>\n",
       "      <th>lng</th>\n",
       "      <th>labeledLatLngs</th>\n",
       "      <th>distance</th>\n",
       "      <th>postalCode</th>\n",
       "      <th>cc</th>\n",
       "      <th>city</th>\n",
       "      <th>state</th>\n",
       "      <th>country</th>\n",
       "      <th>formattedAddress</th>\n",
       "      <th>neighborhood</th>\n",
       "      <th>id</th>\n",
       "    </tr>\n",
       "  </thead>\n",
       "  <tbody>\n",
       "    <tr>\n",
       "      <th>0</th>\n",
       "      <td>Pisillo Italian Panini</td>\n",
       "      <td>Sandwich Place</td>\n",
       "      <td>97 Nassau St</td>\n",
       "      <td>at Ann St</td>\n",
       "      <td>40.710530</td>\n",
       "      <td>-74.007526</td>\n",
       "      <td>[{'label': 'display', 'lat': 40.71053008446078...</td>\n",
       "      <td>822</td>\n",
       "      <td>10038</td>\n",
       "      <td>US</td>\n",
       "      <td>New York</td>\n",
       "      <td>NY</td>\n",
       "      <td>United States</td>\n",
       "      <td>[97 Nassau St (at Ann St), New York, NY 10038,...</td>\n",
       "      <td>NaN</td>\n",
       "      <td>528bf16711d2b7722da6b51c</td>\n",
       "    </tr>\n",
       "    <tr>\n",
       "      <th>1</th>\n",
       "      <td>Harry's Italian Pizza Bar</td>\n",
       "      <td>Italian Restaurant</td>\n",
       "      <td>2 Gold St</td>\n",
       "      <td>at Maiden Ln.</td>\n",
       "      <td>40.707634</td>\n",
       "      <td>-74.006996</td>\n",
       "      <td>[{'label': 'display', 'lat': 40.7076335455641,...</td>\n",
       "      <td>1076</td>\n",
       "      <td>10038</td>\n",
       "      <td>US</td>\n",
       "      <td>New York</td>\n",
       "      <td>NY</td>\n",
       "      <td>United States</td>\n",
       "      <td>[2 Gold St (at Maiden Ln.), New York, NY 10038...</td>\n",
       "      <td>NaN</td>\n",
       "      <td>4a4560a7f964a5201aa81fe3</td>\n",
       "    </tr>\n",
       "    <tr>\n",
       "      <th>2</th>\n",
       "      <td>Faicco's Italian Specialties</td>\n",
       "      <td>Sandwich Place</td>\n",
       "      <td>260 Bleecker St</td>\n",
       "      <td>at Cornelia St</td>\n",
       "      <td>40.731117</td>\n",
       "      <td>-74.003043</td>\n",
       "      <td>[{'label': 'display', 'lat': 40.73111661087598...</td>\n",
       "      <td>2076</td>\n",
       "      <td>10014</td>\n",
       "      <td>US</td>\n",
       "      <td>New York</td>\n",
       "      <td>NY</td>\n",
       "      <td>United States</td>\n",
       "      <td>[260 Bleecker St (at Cornelia St), New York, N...</td>\n",
       "      <td>NaN</td>\n",
       "      <td>4a74a36af964a520fede1fe3</td>\n",
       "    </tr>\n",
       "    <tr>\n",
       "      <th>3</th>\n",
       "      <td>Harry's Italian Pizza Bar</td>\n",
       "      <td>Pizza Place</td>\n",
       "      <td>225 Murray St</td>\n",
       "      <td>NaN</td>\n",
       "      <td>40.715218</td>\n",
       "      <td>-74.014739</td>\n",
       "      <td>[{'label': 'display', 'lat': 40.71521779064671...</td>\n",
       "      <td>58</td>\n",
       "      <td>10282</td>\n",
       "      <td>US</td>\n",
       "      <td>New York</td>\n",
       "      <td>NY</td>\n",
       "      <td>United States</td>\n",
       "      <td>[225 Murray St, New York, NY 10282, United Sta...</td>\n",
       "      <td>NaN</td>\n",
       "      <td>4fa862b3e4b0ebff2f749f06</td>\n",
       "    </tr>\n",
       "    <tr>\n",
       "      <th>4</th>\n",
       "      <td>Italian American Museum Of New York</td>\n",
       "      <td>History Museum</td>\n",
       "      <td>155 Mulberry St</td>\n",
       "      <td>at Grand St</td>\n",
       "      <td>40.719191</td>\n",
       "      <td>-73.997376</td>\n",
       "      <td>[{'label': 'display', 'lat': 40.71919065572268...</td>\n",
       "      <td>1587</td>\n",
       "      <td>10013</td>\n",
       "      <td>US</td>\n",
       "      <td>New York</td>\n",
       "      <td>NY</td>\n",
       "      <td>United States</td>\n",
       "      <td>[155 Mulberry St (at Grand St), New York, NY 1...</td>\n",
       "      <td>NaN</td>\n",
       "      <td>4b9d4c67f964a5206ca136e3</td>\n",
       "    </tr>\n",
       "    <tr>\n",
       "      <th>5</th>\n",
       "      <td>Carmela's Italian Specialties</td>\n",
       "      <td>Pizza Place</td>\n",
       "      <td>30 Water St</td>\n",
       "      <td>NaN</td>\n",
       "      <td>40.703293</td>\n",
       "      <td>-74.011017</td>\n",
       "      <td>[{'label': 'display', 'lat': 40.70329284667969...</td>\n",
       "      <td>1348</td>\n",
       "      <td>10004</td>\n",
       "      <td>US</td>\n",
       "      <td>New York</td>\n",
       "      <td>NJ</td>\n",
       "      <td>United States</td>\n",
       "      <td>[30 Water St, New York, NJ 10004, United States]</td>\n",
       "      <td>NaN</td>\n",
       "      <td>4e4c4e62bd413c4cc6686059</td>\n",
       "    </tr>\n",
       "    <tr>\n",
       "      <th>6</th>\n",
       "      <td>Losurdo Brothers / Tony's Italian Bakery &amp; Deli</td>\n",
       "      <td>Bakery</td>\n",
       "      <td>410 2nd St</td>\n",
       "      <td>btw Grand St &amp; Adams St</td>\n",
       "      <td>40.740126</td>\n",
       "      <td>-74.036964</td>\n",
       "      <td>[{'label': 'display', 'lat': 40.74012586093679...</td>\n",
       "      <td>3343</td>\n",
       "      <td>07030</td>\n",
       "      <td>US</td>\n",
       "      <td>Hoboken</td>\n",
       "      <td>NJ</td>\n",
       "      <td>United States</td>\n",
       "      <td>[410 2nd St (btw Grand St &amp; Adams St), Hoboken...</td>\n",
       "      <td>NaN</td>\n",
       "      <td>4b269f5af964a520817e24e3</td>\n",
       "    </tr>\n",
       "    <tr>\n",
       "      <th>7</th>\n",
       "      <td>Benvenuti Italian Specialties</td>\n",
       "      <td>Gourmet Shop</td>\n",
       "      <td>235 S End Ave</td>\n",
       "      <td>NaN</td>\n",
       "      <td>40.709681</td>\n",
       "      <td>-74.016520</td>\n",
       "      <td>[{'label': 'display', 'lat': 40.70968105555279...</td>\n",
       "      <td>595</td>\n",
       "      <td>10280</td>\n",
       "      <td>US</td>\n",
       "      <td>New York</td>\n",
       "      <td>NY</td>\n",
       "      <td>United States</td>\n",
       "      <td>[235 S End Ave, New York, NY 10280, United Sta...</td>\n",
       "      <td>NaN</td>\n",
       "      <td>4f3feae2e4b0ac9416a72118</td>\n",
       "    </tr>\n",
       "    <tr>\n",
       "      <th>8</th>\n",
       "      <td>Tableside Italian Cook Shoppe</td>\n",
       "      <td>Italian Restaurant</td>\n",
       "      <td>345 E 6th St</td>\n",
       "      <td>1st and 2nd Ave</td>\n",
       "      <td>40.726556</td>\n",
       "      <td>-73.986514</td>\n",
       "      <td>[{'label': 'display', 'lat': 40.72655617438330...</td>\n",
       "      <td>2753</td>\n",
       "      <td>10003</td>\n",
       "      <td>US</td>\n",
       "      <td>New York</td>\n",
       "      <td>NY</td>\n",
       "      <td>United States</td>\n",
       "      <td>[345 E 6th St (1st and 2nd Ave), New York, NY ...</td>\n",
       "      <td>NaN</td>\n",
       "      <td>58dd8ac3a8b75966fda9a547</td>\n",
       "    </tr>\n",
       "    <tr>\n",
       "      <th>9</th>\n",
       "      <td>Pisillo Italian Panini</td>\n",
       "      <td>Sandwich Place</td>\n",
       "      <td>124 W 25th St</td>\n",
       "      <td>btwn 6th &amp; 7th Ave</td>\n",
       "      <td>40.744566</td>\n",
       "      <td>-73.992868</td>\n",
       "      <td>[{'label': 'display', 'lat': 40.744566, 'lng':...</td>\n",
       "      <td>3802</td>\n",
       "      <td>10001</td>\n",
       "      <td>US</td>\n",
       "      <td>New York</td>\n",
       "      <td>NY</td>\n",
       "      <td>United States</td>\n",
       "      <td>[124 W 25th St (btwn 6th &amp; 7th Ave), New York,...</td>\n",
       "      <td>Chelsea</td>\n",
       "      <td>5c893ef0d8096e0039e7363b</td>\n",
       "    </tr>\n",
       "    <tr>\n",
       "      <th>10</th>\n",
       "      <td>Conca Cucina Italian Restaurant</td>\n",
       "      <td>Food</td>\n",
       "      <td>63 W Broadway</td>\n",
       "      <td>NaN</td>\n",
       "      <td>40.714484</td>\n",
       "      <td>-74.009806</td>\n",
       "      <td>[{'label': 'display', 'lat': 40.71448400000000...</td>\n",
       "      <td>469</td>\n",
       "      <td>10007</td>\n",
       "      <td>US</td>\n",
       "      <td>New York</td>\n",
       "      <td>NY</td>\n",
       "      <td>United States</td>\n",
       "      <td>[63 W Broadway, New York, NY 10007, United Sta...</td>\n",
       "      <td>NaN</td>\n",
       "      <td>4f3232e219836c91c7bfde94</td>\n",
       "    </tr>\n",
       "    <tr>\n",
       "      <th>11</th>\n",
       "      <td>Alex's Italian Restaurant &amp; Brick Oven Pizza</td>\n",
       "      <td>Italian Restaurant</td>\n",
       "      <td>346 Grove St</td>\n",
       "      <td>NaN</td>\n",
       "      <td>40.720585</td>\n",
       "      <td>-74.042752</td>\n",
       "      <td>[{'label': 'display', 'lat': 40.72058470693942...</td>\n",
       "      <td>2396</td>\n",
       "      <td>07302</td>\n",
       "      <td>US</td>\n",
       "      <td>Jersey City</td>\n",
       "      <td>NJ</td>\n",
       "      <td>United States</td>\n",
       "      <td>[346 Grove St, Jersey City, NJ 07302, United S...</td>\n",
       "      <td>NaN</td>\n",
       "      <td>5400c682498e3831aaada9fc</td>\n",
       "    </tr>\n",
       "    <tr>\n",
       "      <th>12</th>\n",
       "      <td>Caruso's Italian Restaurant</td>\n",
       "      <td>Italian Restaurant</td>\n",
       "      <td>42 Broadway</td>\n",
       "      <td>NaN</td>\n",
       "      <td>40.710509</td>\n",
       "      <td>-74.008276</td>\n",
       "      <td>[{'label': 'display', 'lat': 40.71050909999999...</td>\n",
       "      <td>774</td>\n",
       "      <td>10004</td>\n",
       "      <td>US</td>\n",
       "      <td>New York</td>\n",
       "      <td>NY</td>\n",
       "      <td>United States</td>\n",
       "      <td>[42 Broadway, New York, NY 10004, United States]</td>\n",
       "      <td>NaN</td>\n",
       "      <td>4e4c4d28bd413c4cc66857a5</td>\n",
       "    </tr>\n",
       "    <tr>\n",
       "      <th>13</th>\n",
       "      <td>Italian Culinary Academy</td>\n",
       "      <td>College Arts Building</td>\n",
       "      <td>462 Broadway</td>\n",
       "      <td>Grand St.</td>\n",
       "      <td>40.720825</td>\n",
       "      <td>-74.000069</td>\n",
       "      <td>[{'label': 'display', 'lat': 40.7208251953125,...</td>\n",
       "      <td>1444</td>\n",
       "      <td>10013</td>\n",
       "      <td>US</td>\n",
       "      <td>New York</td>\n",
       "      <td>NY</td>\n",
       "      <td>United States</td>\n",
       "      <td>[462 Broadway (Grand St.), New York, NY 10013,...</td>\n",
       "      <td>NaN</td>\n",
       "      <td>4cf7d538dc40a35d26894f54</td>\n",
       "    </tr>\n",
       "    <tr>\n",
       "      <th>14</th>\n",
       "      <td>Pisillo Italian Cafe</td>\n",
       "      <td>Café</td>\n",
       "      <td>99 Nassau St</td>\n",
       "      <td>NaN</td>\n",
       "      <td>40.710458</td>\n",
       "      <td>-74.007693</td>\n",
       "      <td>[{'label': 'display', 'lat': 40.710458, 'lng':...</td>\n",
       "      <td>816</td>\n",
       "      <td>10038</td>\n",
       "      <td>US</td>\n",
       "      <td>New York</td>\n",
       "      <td>NY</td>\n",
       "      <td>United States</td>\n",
       "      <td>[99 Nassau St, New York, NY 10038, United States]</td>\n",
       "      <td>NaN</td>\n",
       "      <td>6065ecdcc85e724bffef8c08</td>\n",
       "    </tr>\n",
       "    <tr>\n",
       "      <th>15</th>\n",
       "      <td>Italian Food Center</td>\n",
       "      <td>Italian Restaurant</td>\n",
       "      <td>161 Mulberry St</td>\n",
       "      <td>at Grand St.</td>\n",
       "      <td>40.719589</td>\n",
       "      <td>-73.997339</td>\n",
       "      <td>[{'label': 'display', 'lat': 40.719589, 'lng':...</td>\n",
       "      <td>1603</td>\n",
       "      <td>10013</td>\n",
       "      <td>US</td>\n",
       "      <td>New York</td>\n",
       "      <td>NY</td>\n",
       "      <td>United States</td>\n",
       "      <td>[161 Mulberry St (at Grand St.), New York, NY ...</td>\n",
       "      <td>NaN</td>\n",
       "      <td>51a63ef7498e9eedb94e0c5f</td>\n",
       "    </tr>\n",
       "    <tr>\n",
       "      <th>16</th>\n",
       "      <td>Barber Italian Shop</td>\n",
       "      <td>Clothing Store</td>\n",
       "      <td>120 Broadway</td>\n",
       "      <td>btw Cedar &amp; Pine</td>\n",
       "      <td>40.707970</td>\n",
       "      <td>-74.009949</td>\n",
       "      <td>[{'label': 'display', 'lat': 40.70796968555732...</td>\n",
       "      <td>900</td>\n",
       "      <td>10271</td>\n",
       "      <td>US</td>\n",
       "      <td>New York</td>\n",
       "      <td>NY</td>\n",
       "      <td>United States</td>\n",
       "      <td>[120 Broadway (btw Cedar &amp; Pine), New York, NY...</td>\n",
       "      <td>NaN</td>\n",
       "      <td>4c3b8244def90f478f0ffe2d</td>\n",
       "    </tr>\n",
       "    <tr>\n",
       "      <th>17</th>\n",
       "      <td>Italian Bakery 160 Prince</td>\n",
       "      <td>Bakery</td>\n",
       "      <td>NaN</td>\n",
       "      <td>NaN</td>\n",
       "      <td>40.725955</td>\n",
       "      <td>-74.001161</td>\n",
       "      <td>[{'label': 'display', 'lat': 40.725955, 'lng':...</td>\n",
       "      <td>1711</td>\n",
       "      <td>10012</td>\n",
       "      <td>US</td>\n",
       "      <td>New York</td>\n",
       "      <td>NY</td>\n",
       "      <td>United States</td>\n",
       "      <td>[New York, NY 10012, United States]</td>\n",
       "      <td>NaN</td>\n",
       "      <td>50de11fde4b0a94f4e13d7cd</td>\n",
       "    </tr>\n",
       "    <tr>\n",
       "      <th>18</th>\n",
       "      <td>Mama Mia 44sw Italian Cuisine</td>\n",
       "      <td>Italian Restaurant</td>\n",
       "      <td>621 9th Ave</td>\n",
       "      <td>NaN</td>\n",
       "      <td>40.759716</td>\n",
       "      <td>-73.991829</td>\n",
       "      <td>[{'label': 'display', 'lat': 40.75971578462592...</td>\n",
       "      <td>5362</td>\n",
       "      <td>10036</td>\n",
       "      <td>US</td>\n",
       "      <td>New York</td>\n",
       "      <td>NY</td>\n",
       "      <td>United States</td>\n",
       "      <td>[621 9th Ave, New York, NY 10036, United States]</td>\n",
       "      <td>NaN</td>\n",
       "      <td>4f44a2bd19836ed0019571be</td>\n",
       "    </tr>\n",
       "    <tr>\n",
       "      <th>19</th>\n",
       "      <td>Rita's Italian Ice &amp; Frozen Custard</td>\n",
       "      <td>Ice Cream Shop</td>\n",
       "      <td>121 Washington St</td>\n",
       "      <td>by 1st</td>\n",
       "      <td>40.738127</td>\n",
       "      <td>-74.030678</td>\n",
       "      <td>[{'label': 'display', 'lat': 40.73812700733951...</td>\n",
       "      <td>2885</td>\n",
       "      <td>07030</td>\n",
       "      <td>US</td>\n",
       "      <td>Hoboken</td>\n",
       "      <td>NJ</td>\n",
       "      <td>United States</td>\n",
       "      <td>[121 Washington St (by 1st), Hoboken, NJ 07030...</td>\n",
       "      <td>NaN</td>\n",
       "      <td>49fa194ff964a520bb6d1fe3</td>\n",
       "    </tr>\n",
       "    <tr>\n",
       "      <th>20</th>\n",
       "      <td>Davio's North Italian Steakhouse</td>\n",
       "      <td>Italian Restaurant</td>\n",
       "      <td>447 Lexington Ave</td>\n",
       "      <td>45th Street</td>\n",
       "      <td>40.753233</td>\n",
       "      <td>-73.974774</td>\n",
       "      <td>[{'label': 'display', 'lat': 40.75323333931556...</td>\n",
       "      <td>5464</td>\n",
       "      <td>10017</td>\n",
       "      <td>US</td>\n",
       "      <td>New York</td>\n",
       "      <td>NY</td>\n",
       "      <td>United States</td>\n",
       "      <td>[447 Lexington Ave (45th Street), New York, NY...</td>\n",
       "      <td>NaN</td>\n",
       "      <td>525d7bde498e3a406f590b1d</td>\n",
       "    </tr>\n",
       "    <tr>\n",
       "      <th>21</th>\n",
       "      <td>Di So's Italian Food Truck</td>\n",
       "      <td>Italian Restaurant</td>\n",
       "      <td>NaN</td>\n",
       "      <td>NaN</td>\n",
       "      <td>40.703973</td>\n",
       "      <td>-74.008627</td>\n",
       "      <td>[{'label': 'display', 'lat': 40.70397251406873...</td>\n",
       "      <td>1347</td>\n",
       "      <td>NaN</td>\n",
       "      <td>US</td>\n",
       "      <td>New York</td>\n",
       "      <td>NY</td>\n",
       "      <td>United States</td>\n",
       "      <td>[New York, NY, United States]</td>\n",
       "      <td>Financial District</td>\n",
       "      <td>51e245e8498eb19e2e908b76</td>\n",
       "    </tr>\n",
       "    <tr>\n",
       "      <th>22</th>\n",
       "      <td>Italian Wine Merchants</td>\n",
       "      <td>Wine Shop</td>\n",
       "      <td>108 E 16th St</td>\n",
       "      <td>btwn Union Square E &amp; Irving Pl</td>\n",
       "      <td>40.735738</td>\n",
       "      <td>-73.988858</td>\n",
       "      <td>[{'label': 'display', 'lat': 40.73573813168210...</td>\n",
       "      <td>3215</td>\n",
       "      <td>10003</td>\n",
       "      <td>US</td>\n",
       "      <td>New York</td>\n",
       "      <td>NY</td>\n",
       "      <td>United States</td>\n",
       "      <td>[108 E 16th St (btwn Union Square E &amp; Irving P...</td>\n",
       "      <td>NaN</td>\n",
       "      <td>4b047a7bf964a5207f5422e3</td>\n",
       "    </tr>\n",
       "    <tr>\n",
       "      <th>23</th>\n",
       "      <td>Italian Rifle Club</td>\n",
       "      <td>Italian Restaurant</td>\n",
       "      <td>NaN</td>\n",
       "      <td>NaN</td>\n",
       "      <td>40.728589</td>\n",
       "      <td>-74.001743</td>\n",
       "      <td>[{'label': 'display', 'lat': 40.72858856840826...</td>\n",
       "      <td>1902</td>\n",
       "      <td>10012</td>\n",
       "      <td>US</td>\n",
       "      <td>New York</td>\n",
       "      <td>NY</td>\n",
       "      <td>United States</td>\n",
       "      <td>[New York, NY 10012, United States]</td>\n",
       "      <td>NaN</td>\n",
       "      <td>4bd78b4809ecb7138732477c</td>\n",
       "    </tr>\n",
       "    <tr>\n",
       "      <th>24</th>\n",
       "      <td>Rita’s Italian Ice</td>\n",
       "      <td>Ice Cream Shop</td>\n",
       "      <td>4 South St</td>\n",
       "      <td>NaN</td>\n",
       "      <td>40.701008</td>\n",
       "      <td>-74.013250</td>\n",
       "      <td>[{'label': 'display', 'lat': 40.701008, 'lng':...</td>\n",
       "      <td>1562</td>\n",
       "      <td>10004</td>\n",
       "      <td>US</td>\n",
       "      <td>New York</td>\n",
       "      <td>NY</td>\n",
       "      <td>United States</td>\n",
       "      <td>[4 South St, New York, NY 10004, United States]</td>\n",
       "      <td>NaN</td>\n",
       "      <td>6043fb2abc35590bd3a32d27</td>\n",
       "    </tr>\n",
       "    <tr>\n",
       "      <th>25</th>\n",
       "      <td>Carmine’s Italian Restaurant</td>\n",
       "      <td>Italian Restaurant</td>\n",
       "      <td>200 W 44th St</td>\n",
       "      <td>btwn Broadway &amp; 8th Ave</td>\n",
       "      <td>40.757497</td>\n",
       "      <td>-73.986779</td>\n",
       "      <td>[{'label': 'display', 'lat': 40.7574973, 'lng'...</td>\n",
       "      <td>5313</td>\n",
       "      <td>10036</td>\n",
       "      <td>US</td>\n",
       "      <td>New York</td>\n",
       "      <td>NY</td>\n",
       "      <td>United States</td>\n",
       "      <td>[200 W 44th St (btwn Broadway &amp; 8th Ave), New ...</td>\n",
       "      <td>NaN</td>\n",
       "      <td>3fd66200f964a5209ee81ee3</td>\n",
       "    </tr>\n",
       "    <tr>\n",
       "      <th>26</th>\n",
       "      <td>Dominics Italian Sausage Truck</td>\n",
       "      <td>Food Truck</td>\n",
       "      <td>NaN</td>\n",
       "      <td>NaN</td>\n",
       "      <td>40.703499</td>\n",
       "      <td>-74.012853</td>\n",
       "      <td>[{'label': 'display', 'lat': 40.70349917092183...</td>\n",
       "      <td>1292</td>\n",
       "      <td>NaN</td>\n",
       "      <td>US</td>\n",
       "      <td>New York</td>\n",
       "      <td>NY</td>\n",
       "      <td>United States</td>\n",
       "      <td>[New York, NY, United States]</td>\n",
       "      <td>Financial District</td>\n",
       "      <td>51fbf7a3498e86b46099a568</td>\n",
       "    </tr>\n",
       "    <tr>\n",
       "      <th>27</th>\n",
       "      <td>Olive Tree Italian</td>\n",
       "      <td>Italian Restaurant</td>\n",
       "      <td>182 Lexington Ave</td>\n",
       "      <td>btw 31st &amp; 32nd</td>\n",
       "      <td>40.744736</td>\n",
       "      <td>-73.981216</td>\n",
       "      <td>[{'label': 'display', 'lat': 40.74473571777344...</td>\n",
       "      <td>4390</td>\n",
       "      <td>10016</td>\n",
       "      <td>US</td>\n",
       "      <td>New York</td>\n",
       "      <td>NY</td>\n",
       "      <td>United States</td>\n",
       "      <td>[182 Lexington Ave (btw 31st &amp; 32nd), New York...</td>\n",
       "      <td>NaN</td>\n",
       "      <td>4b6c4ebaf964a520612f2ce3</td>\n",
       "    </tr>\n",
       "    <tr>\n",
       "      <th>28</th>\n",
       "      <td>Diva italian resturant</td>\n",
       "      <td>Italian Restaurant</td>\n",
       "      <td>341 W Broadway</td>\n",
       "      <td>None</td>\n",
       "      <td>40.722515</td>\n",
       "      <td>-74.003349</td>\n",
       "      <td>[{'label': 'entrance', 'lat': 40.722538, 'lng'...</td>\n",
       "      <td>1315</td>\n",
       "      <td>10013</td>\n",
       "      <td>US</td>\n",
       "      <td>New York</td>\n",
       "      <td>NY</td>\n",
       "      <td>United States</td>\n",
       "      <td>[341 W Broadway (None), New York, NY 10013, Un...</td>\n",
       "      <td>NaN</td>\n",
       "      <td>4f779e12e4b08e5a67d80bb4</td>\n",
       "    </tr>\n",
       "    <tr>\n",
       "      <th>29</th>\n",
       "      <td>PJ Charlton Italian Restaurant</td>\n",
       "      <td>Italian Restaurant</td>\n",
       "      <td>549 Greenwich St</td>\n",
       "      <td>NaN</td>\n",
       "      <td>40.727446</td>\n",
       "      <td>-74.008656</td>\n",
       "      <td>[{'label': 'display', 'lat': 40.72744633153894...</td>\n",
       "      <td>1500</td>\n",
       "      <td>10013</td>\n",
       "      <td>US</td>\n",
       "      <td>New York</td>\n",
       "      <td>NY</td>\n",
       "      <td>United States</td>\n",
       "      <td>[549 Greenwich St, New York, NY 10013, United ...</td>\n",
       "      <td>NaN</td>\n",
       "      <td>4bbf6b6430c99c74302a5511</td>\n",
       "    </tr>\n",
       "  </tbody>\n",
       "</table>\n",
       "</div>"
      ],
      "text/plain": [
       "                                               name             categories  \\\n",
       "0                            Pisillo Italian Panini         Sandwich Place   \n",
       "1                         Harry's Italian Pizza Bar     Italian Restaurant   \n",
       "2                      Faicco's Italian Specialties         Sandwich Place   \n",
       "3                         Harry's Italian Pizza Bar            Pizza Place   \n",
       "4               Italian American Museum Of New York         History Museum   \n",
       "5                     Carmela's Italian Specialties            Pizza Place   \n",
       "6   Losurdo Brothers / Tony's Italian Bakery & Deli                 Bakery   \n",
       "7                     Benvenuti Italian Specialties           Gourmet Shop   \n",
       "8                     Tableside Italian Cook Shoppe     Italian Restaurant   \n",
       "9                            Pisillo Italian Panini         Sandwich Place   \n",
       "10                  Conca Cucina Italian Restaurant                   Food   \n",
       "11     Alex's Italian Restaurant & Brick Oven Pizza     Italian Restaurant   \n",
       "12                      Caruso's Italian Restaurant     Italian Restaurant   \n",
       "13                         Italian Culinary Academy  College Arts Building   \n",
       "14                             Pisillo Italian Cafe                   Café   \n",
       "15                              Italian Food Center     Italian Restaurant   \n",
       "16                              Barber Italian Shop         Clothing Store   \n",
       "17                        Italian Bakery 160 Prince                 Bakery   \n",
       "18                    Mama Mia 44sw Italian Cuisine     Italian Restaurant   \n",
       "19              Rita's Italian Ice & Frozen Custard         Ice Cream Shop   \n",
       "20                 Davio's North Italian Steakhouse     Italian Restaurant   \n",
       "21                       Di So's Italian Food Truck     Italian Restaurant   \n",
       "22                           Italian Wine Merchants              Wine Shop   \n",
       "23                               Italian Rifle Club     Italian Restaurant   \n",
       "24                               Rita’s Italian Ice         Ice Cream Shop   \n",
       "25                     Carmine’s Italian Restaurant     Italian Restaurant   \n",
       "26                   Dominics Italian Sausage Truck             Food Truck   \n",
       "27                               Olive Tree Italian     Italian Restaurant   \n",
       "28                           Diva italian resturant     Italian Restaurant   \n",
       "29                   PJ Charlton Italian Restaurant     Italian Restaurant   \n",
       "\n",
       "              address                      crossStreet        lat        lng  \\\n",
       "0        97 Nassau St                        at Ann St  40.710530 -74.007526   \n",
       "1           2 Gold St                    at Maiden Ln.  40.707634 -74.006996   \n",
       "2     260 Bleecker St                   at Cornelia St  40.731117 -74.003043   \n",
       "3       225 Murray St                              NaN  40.715218 -74.014739   \n",
       "4     155 Mulberry St                      at Grand St  40.719191 -73.997376   \n",
       "5         30 Water St                              NaN  40.703293 -74.011017   \n",
       "6          410 2nd St          btw Grand St & Adams St  40.740126 -74.036964   \n",
       "7       235 S End Ave                              NaN  40.709681 -74.016520   \n",
       "8        345 E 6th St                  1st and 2nd Ave  40.726556 -73.986514   \n",
       "9       124 W 25th St               btwn 6th & 7th Ave  40.744566 -73.992868   \n",
       "10      63 W Broadway                              NaN  40.714484 -74.009806   \n",
       "11       346 Grove St                              NaN  40.720585 -74.042752   \n",
       "12        42 Broadway                              NaN  40.710509 -74.008276   \n",
       "13       462 Broadway                        Grand St.  40.720825 -74.000069   \n",
       "14       99 Nassau St                              NaN  40.710458 -74.007693   \n",
       "15    161 Mulberry St                     at Grand St.  40.719589 -73.997339   \n",
       "16       120 Broadway                 btw Cedar & Pine  40.707970 -74.009949   \n",
       "17                NaN                              NaN  40.725955 -74.001161   \n",
       "18        621 9th Ave                              NaN  40.759716 -73.991829   \n",
       "19  121 Washington St                           by 1st  40.738127 -74.030678   \n",
       "20  447 Lexington Ave                      45th Street  40.753233 -73.974774   \n",
       "21                NaN                              NaN  40.703973 -74.008627   \n",
       "22      108 E 16th St  btwn Union Square E & Irving Pl  40.735738 -73.988858   \n",
       "23                NaN                              NaN  40.728589 -74.001743   \n",
       "24         4 South St                              NaN  40.701008 -74.013250   \n",
       "25      200 W 44th St          btwn Broadway & 8th Ave  40.757497 -73.986779   \n",
       "26                NaN                              NaN  40.703499 -74.012853   \n",
       "27  182 Lexington Ave                  btw 31st & 32nd  40.744736 -73.981216   \n",
       "28     341 W Broadway                             None  40.722515 -74.003349   \n",
       "29   549 Greenwich St                              NaN  40.727446 -74.008656   \n",
       "\n",
       "                                       labeledLatLngs  distance postalCode  \\\n",
       "0   [{'label': 'display', 'lat': 40.71053008446078...       822      10038   \n",
       "1   [{'label': 'display', 'lat': 40.7076335455641,...      1076      10038   \n",
       "2   [{'label': 'display', 'lat': 40.73111661087598...      2076      10014   \n",
       "3   [{'label': 'display', 'lat': 40.71521779064671...        58      10282   \n",
       "4   [{'label': 'display', 'lat': 40.71919065572268...      1587      10013   \n",
       "5   [{'label': 'display', 'lat': 40.70329284667969...      1348      10004   \n",
       "6   [{'label': 'display', 'lat': 40.74012586093679...      3343      07030   \n",
       "7   [{'label': 'display', 'lat': 40.70968105555279...       595      10280   \n",
       "8   [{'label': 'display', 'lat': 40.72655617438330...      2753      10003   \n",
       "9   [{'label': 'display', 'lat': 40.744566, 'lng':...      3802      10001   \n",
       "10  [{'label': 'display', 'lat': 40.71448400000000...       469      10007   \n",
       "11  [{'label': 'display', 'lat': 40.72058470693942...      2396      07302   \n",
       "12  [{'label': 'display', 'lat': 40.71050909999999...       774      10004   \n",
       "13  [{'label': 'display', 'lat': 40.7208251953125,...      1444      10013   \n",
       "14  [{'label': 'display', 'lat': 40.710458, 'lng':...       816      10038   \n",
       "15  [{'label': 'display', 'lat': 40.719589, 'lng':...      1603      10013   \n",
       "16  [{'label': 'display', 'lat': 40.70796968555732...       900      10271   \n",
       "17  [{'label': 'display', 'lat': 40.725955, 'lng':...      1711      10012   \n",
       "18  [{'label': 'display', 'lat': 40.75971578462592...      5362      10036   \n",
       "19  [{'label': 'display', 'lat': 40.73812700733951...      2885      07030   \n",
       "20  [{'label': 'display', 'lat': 40.75323333931556...      5464      10017   \n",
       "21  [{'label': 'display', 'lat': 40.70397251406873...      1347        NaN   \n",
       "22  [{'label': 'display', 'lat': 40.73573813168210...      3215      10003   \n",
       "23  [{'label': 'display', 'lat': 40.72858856840826...      1902      10012   \n",
       "24  [{'label': 'display', 'lat': 40.701008, 'lng':...      1562      10004   \n",
       "25  [{'label': 'display', 'lat': 40.7574973, 'lng'...      5313      10036   \n",
       "26  [{'label': 'display', 'lat': 40.70349917092183...      1292        NaN   \n",
       "27  [{'label': 'display', 'lat': 40.74473571777344...      4390      10016   \n",
       "28  [{'label': 'entrance', 'lat': 40.722538, 'lng'...      1315      10013   \n",
       "29  [{'label': 'display', 'lat': 40.72744633153894...      1500      10013   \n",
       "\n",
       "    cc         city state        country  \\\n",
       "0   US     New York    NY  United States   \n",
       "1   US     New York    NY  United States   \n",
       "2   US     New York    NY  United States   \n",
       "3   US     New York    NY  United States   \n",
       "4   US     New York    NY  United States   \n",
       "5   US     New York    NJ  United States   \n",
       "6   US      Hoboken    NJ  United States   \n",
       "7   US     New York    NY  United States   \n",
       "8   US     New York    NY  United States   \n",
       "9   US     New York    NY  United States   \n",
       "10  US     New York    NY  United States   \n",
       "11  US  Jersey City    NJ  United States   \n",
       "12  US     New York    NY  United States   \n",
       "13  US     New York    NY  United States   \n",
       "14  US     New York    NY  United States   \n",
       "15  US     New York    NY  United States   \n",
       "16  US     New York    NY  United States   \n",
       "17  US     New York    NY  United States   \n",
       "18  US     New York    NY  United States   \n",
       "19  US      Hoboken    NJ  United States   \n",
       "20  US     New York    NY  United States   \n",
       "21  US     New York    NY  United States   \n",
       "22  US     New York    NY  United States   \n",
       "23  US     New York    NY  United States   \n",
       "24  US     New York    NY  United States   \n",
       "25  US     New York    NY  United States   \n",
       "26  US     New York    NY  United States   \n",
       "27  US     New York    NY  United States   \n",
       "28  US     New York    NY  United States   \n",
       "29  US     New York    NY  United States   \n",
       "\n",
       "                                     formattedAddress        neighborhood  \\\n",
       "0   [97 Nassau St (at Ann St), New York, NY 10038,...                 NaN   \n",
       "1   [2 Gold St (at Maiden Ln.), New York, NY 10038...                 NaN   \n",
       "2   [260 Bleecker St (at Cornelia St), New York, N...                 NaN   \n",
       "3   [225 Murray St, New York, NY 10282, United Sta...                 NaN   \n",
       "4   [155 Mulberry St (at Grand St), New York, NY 1...                 NaN   \n",
       "5    [30 Water St, New York, NJ 10004, United States]                 NaN   \n",
       "6   [410 2nd St (btw Grand St & Adams St), Hoboken...                 NaN   \n",
       "7   [235 S End Ave, New York, NY 10280, United Sta...                 NaN   \n",
       "8   [345 E 6th St (1st and 2nd Ave), New York, NY ...                 NaN   \n",
       "9   [124 W 25th St (btwn 6th & 7th Ave), New York,...             Chelsea   \n",
       "10  [63 W Broadway, New York, NY 10007, United Sta...                 NaN   \n",
       "11  [346 Grove St, Jersey City, NJ 07302, United S...                 NaN   \n",
       "12   [42 Broadway, New York, NY 10004, United States]                 NaN   \n",
       "13  [462 Broadway (Grand St.), New York, NY 10013,...                 NaN   \n",
       "14  [99 Nassau St, New York, NY 10038, United States]                 NaN   \n",
       "15  [161 Mulberry St (at Grand St.), New York, NY ...                 NaN   \n",
       "16  [120 Broadway (btw Cedar & Pine), New York, NY...                 NaN   \n",
       "17                [New York, NY 10012, United States]                 NaN   \n",
       "18   [621 9th Ave, New York, NY 10036, United States]                 NaN   \n",
       "19  [121 Washington St (by 1st), Hoboken, NJ 07030...                 NaN   \n",
       "20  [447 Lexington Ave (45th Street), New York, NY...                 NaN   \n",
       "21                      [New York, NY, United States]  Financial District   \n",
       "22  [108 E 16th St (btwn Union Square E & Irving P...                 NaN   \n",
       "23                [New York, NY 10012, United States]                 NaN   \n",
       "24    [4 South St, New York, NY 10004, United States]                 NaN   \n",
       "25  [200 W 44th St (btwn Broadway & 8th Ave), New ...                 NaN   \n",
       "26                      [New York, NY, United States]  Financial District   \n",
       "27  [182 Lexington Ave (btw 31st & 32nd), New York...                 NaN   \n",
       "28  [341 W Broadway (None), New York, NY 10013, Un...                 NaN   \n",
       "29  [549 Greenwich St, New York, NY 10013, United ...                 NaN   \n",
       "\n",
       "                          id  \n",
       "0   528bf16711d2b7722da6b51c  \n",
       "1   4a4560a7f964a5201aa81fe3  \n",
       "2   4a74a36af964a520fede1fe3  \n",
       "3   4fa862b3e4b0ebff2f749f06  \n",
       "4   4b9d4c67f964a5206ca136e3  \n",
       "5   4e4c4e62bd413c4cc6686059  \n",
       "6   4b269f5af964a520817e24e3  \n",
       "7   4f3feae2e4b0ac9416a72118  \n",
       "8   58dd8ac3a8b75966fda9a547  \n",
       "9   5c893ef0d8096e0039e7363b  \n",
       "10  4f3232e219836c91c7bfde94  \n",
       "11  5400c682498e3831aaada9fc  \n",
       "12  4e4c4d28bd413c4cc66857a5  \n",
       "13  4cf7d538dc40a35d26894f54  \n",
       "14  6065ecdcc85e724bffef8c08  \n",
       "15  51a63ef7498e9eedb94e0c5f  \n",
       "16  4c3b8244def90f478f0ffe2d  \n",
       "17  50de11fde4b0a94f4e13d7cd  \n",
       "18  4f44a2bd19836ed0019571be  \n",
       "19  49fa194ff964a520bb6d1fe3  \n",
       "20  525d7bde498e3a406f590b1d  \n",
       "21  51e245e8498eb19e2e908b76  \n",
       "22  4b047a7bf964a5207f5422e3  \n",
       "23  4bd78b4809ecb7138732477c  \n",
       "24  6043fb2abc35590bd3a32d27  \n",
       "25  3fd66200f964a5209ee81ee3  \n",
       "26  51fbf7a3498e86b46099a568  \n",
       "27  4b6c4ebaf964a520612f2ce3  \n",
       "28  4f779e12e4b08e5a67d80bb4  \n",
       "29  4bbf6b6430c99c74302a5511  "
      ]
     },
     "execution_count": 8,
     "metadata": {},
     "output_type": "execute_result"
    }
   ],
   "source": [
    "# keep only columns that include venue name, and anything that is associated with location\n",
    "filtered_columns = ['name', 'categories'] + [col for col in dataframe.columns if col.startswith('location.')] + ['id']\n",
    "dataframe_filtered = dataframe.loc[:, filtered_columns]\n",
    "\n",
    "# function that extracts the category of the venue\n",
    "def get_category_type(row):\n",
    "    try:\n",
    "        categories_list = row['categories']\n",
    "    except:\n",
    "        categories_list = row['venue.categories']\n",
    "        \n",
    "    if len(categories_list) == 0:\n",
    "        return None\n",
    "    else:\n",
    "        return categories_list[0]['name']\n",
    "\n",
    "# filter the category for each row\n",
    "dataframe_filtered['categories'] = dataframe_filtered.apply(get_category_type, axis=1)\n",
    "\n",
    "# clean column names by keeping only last term\n",
    "dataframe_filtered.columns = [column.split('.')[-1] for column in dataframe_filtered.columns]\n",
    "\n",
    "dataframe_filtered"
   ]
  },
  {
   "cell_type": "markdown",
   "metadata": {
    "button": false,
    "new_sheet": false,
    "run_control": {
     "read_only": false
    }
   },
   "source": [
    "#### Let's visualize the Italian restaurants that are nearby\n"
   ]
  },
  {
   "cell_type": "code",
   "execution_count": 9,
   "metadata": {
    "button": false,
    "collapsed": false,
    "jupyter": {
     "outputs_hidden": false
    },
    "new_sheet": false,
    "run_control": {
     "read_only": false
    }
   },
   "outputs": [],
   "source": [
    "dfx=dataframe_filtered[['name','id']]"
   ]
  },
  {
   "cell_type": "code",
   "execution_count": 10,
   "metadata": {},
   "outputs": [
    {
     "data": {
      "text/html": [
       "<div>\n",
       "<style scoped>\n",
       "    .dataframe tbody tr th:only-of-type {\n",
       "        vertical-align: middle;\n",
       "    }\n",
       "\n",
       "    .dataframe tbody tr th {\n",
       "        vertical-align: top;\n",
       "    }\n",
       "\n",
       "    .dataframe thead th {\n",
       "        text-align: right;\n",
       "    }\n",
       "</style>\n",
       "<table border=\"1\" class=\"dataframe\">\n",
       "  <thead>\n",
       "    <tr style=\"text-align: right;\">\n",
       "      <th></th>\n",
       "      <th>name</th>\n",
       "      <th>id</th>\n",
       "    </tr>\n",
       "  </thead>\n",
       "  <tbody>\n",
       "    <tr>\n",
       "      <th>0</th>\n",
       "      <td>Pisillo Italian Panini</td>\n",
       "      <td>528bf16711d2b7722da6b51c</td>\n",
       "    </tr>\n",
       "    <tr>\n",
       "      <th>1</th>\n",
       "      <td>Harry's Italian Pizza Bar</td>\n",
       "      <td>4a4560a7f964a5201aa81fe3</td>\n",
       "    </tr>\n",
       "    <tr>\n",
       "      <th>2</th>\n",
       "      <td>Faicco's Italian Specialties</td>\n",
       "      <td>4a74a36af964a520fede1fe3</td>\n",
       "    </tr>\n",
       "    <tr>\n",
       "      <th>3</th>\n",
       "      <td>Harry's Italian Pizza Bar</td>\n",
       "      <td>4fa862b3e4b0ebff2f749f06</td>\n",
       "    </tr>\n",
       "    <tr>\n",
       "      <th>4</th>\n",
       "      <td>Italian American Museum Of New York</td>\n",
       "      <td>4b9d4c67f964a5206ca136e3</td>\n",
       "    </tr>\n",
       "    <tr>\n",
       "      <th>5</th>\n",
       "      <td>Carmela's Italian Specialties</td>\n",
       "      <td>4e4c4e62bd413c4cc6686059</td>\n",
       "    </tr>\n",
       "    <tr>\n",
       "      <th>6</th>\n",
       "      <td>Losurdo Brothers / Tony's Italian Bakery &amp; Deli</td>\n",
       "      <td>4b269f5af964a520817e24e3</td>\n",
       "    </tr>\n",
       "    <tr>\n",
       "      <th>7</th>\n",
       "      <td>Benvenuti Italian Specialties</td>\n",
       "      <td>4f3feae2e4b0ac9416a72118</td>\n",
       "    </tr>\n",
       "    <tr>\n",
       "      <th>8</th>\n",
       "      <td>Tableside Italian Cook Shoppe</td>\n",
       "      <td>58dd8ac3a8b75966fda9a547</td>\n",
       "    </tr>\n",
       "    <tr>\n",
       "      <th>9</th>\n",
       "      <td>Pisillo Italian Panini</td>\n",
       "      <td>5c893ef0d8096e0039e7363b</td>\n",
       "    </tr>\n",
       "    <tr>\n",
       "      <th>10</th>\n",
       "      <td>Conca Cucina Italian Restaurant</td>\n",
       "      <td>4f3232e219836c91c7bfde94</td>\n",
       "    </tr>\n",
       "    <tr>\n",
       "      <th>11</th>\n",
       "      <td>Alex's Italian Restaurant &amp; Brick Oven Pizza</td>\n",
       "      <td>5400c682498e3831aaada9fc</td>\n",
       "    </tr>\n",
       "    <tr>\n",
       "      <th>12</th>\n",
       "      <td>Caruso's Italian Restaurant</td>\n",
       "      <td>4e4c4d28bd413c4cc66857a5</td>\n",
       "    </tr>\n",
       "    <tr>\n",
       "      <th>13</th>\n",
       "      <td>Italian Culinary Academy</td>\n",
       "      <td>4cf7d538dc40a35d26894f54</td>\n",
       "    </tr>\n",
       "    <tr>\n",
       "      <th>14</th>\n",
       "      <td>Pisillo Italian Cafe</td>\n",
       "      <td>6065ecdcc85e724bffef8c08</td>\n",
       "    </tr>\n",
       "    <tr>\n",
       "      <th>15</th>\n",
       "      <td>Italian Food Center</td>\n",
       "      <td>51a63ef7498e9eedb94e0c5f</td>\n",
       "    </tr>\n",
       "    <tr>\n",
       "      <th>16</th>\n",
       "      <td>Barber Italian Shop</td>\n",
       "      <td>4c3b8244def90f478f0ffe2d</td>\n",
       "    </tr>\n",
       "    <tr>\n",
       "      <th>17</th>\n",
       "      <td>Italian Bakery 160 Prince</td>\n",
       "      <td>50de11fde4b0a94f4e13d7cd</td>\n",
       "    </tr>\n",
       "    <tr>\n",
       "      <th>18</th>\n",
       "      <td>Mama Mia 44sw Italian Cuisine</td>\n",
       "      <td>4f44a2bd19836ed0019571be</td>\n",
       "    </tr>\n",
       "    <tr>\n",
       "      <th>19</th>\n",
       "      <td>Rita's Italian Ice &amp; Frozen Custard</td>\n",
       "      <td>49fa194ff964a520bb6d1fe3</td>\n",
       "    </tr>\n",
       "    <tr>\n",
       "      <th>20</th>\n",
       "      <td>Davio's North Italian Steakhouse</td>\n",
       "      <td>525d7bde498e3a406f590b1d</td>\n",
       "    </tr>\n",
       "    <tr>\n",
       "      <th>21</th>\n",
       "      <td>Di So's Italian Food Truck</td>\n",
       "      <td>51e245e8498eb19e2e908b76</td>\n",
       "    </tr>\n",
       "    <tr>\n",
       "      <th>22</th>\n",
       "      <td>Italian Wine Merchants</td>\n",
       "      <td>4b047a7bf964a5207f5422e3</td>\n",
       "    </tr>\n",
       "    <tr>\n",
       "      <th>23</th>\n",
       "      <td>Italian Rifle Club</td>\n",
       "      <td>4bd78b4809ecb7138732477c</td>\n",
       "    </tr>\n",
       "    <tr>\n",
       "      <th>24</th>\n",
       "      <td>Rita’s Italian Ice</td>\n",
       "      <td>6043fb2abc35590bd3a32d27</td>\n",
       "    </tr>\n",
       "    <tr>\n",
       "      <th>25</th>\n",
       "      <td>Carmine’s Italian Restaurant</td>\n",
       "      <td>3fd66200f964a5209ee81ee3</td>\n",
       "    </tr>\n",
       "    <tr>\n",
       "      <th>26</th>\n",
       "      <td>Dominics Italian Sausage Truck</td>\n",
       "      <td>51fbf7a3498e86b46099a568</td>\n",
       "    </tr>\n",
       "    <tr>\n",
       "      <th>27</th>\n",
       "      <td>Olive Tree Italian</td>\n",
       "      <td>4b6c4ebaf964a520612f2ce3</td>\n",
       "    </tr>\n",
       "    <tr>\n",
       "      <th>28</th>\n",
       "      <td>Diva italian resturant</td>\n",
       "      <td>4f779e12e4b08e5a67d80bb4</td>\n",
       "    </tr>\n",
       "    <tr>\n",
       "      <th>29</th>\n",
       "      <td>PJ Charlton Italian Restaurant</td>\n",
       "      <td>4bbf6b6430c99c74302a5511</td>\n",
       "    </tr>\n",
       "  </tbody>\n",
       "</table>\n",
       "</div>"
      ],
      "text/plain": [
       "                                               name                        id\n",
       "0                            Pisillo Italian Panini  528bf16711d2b7722da6b51c\n",
       "1                         Harry's Italian Pizza Bar  4a4560a7f964a5201aa81fe3\n",
       "2                      Faicco's Italian Specialties  4a74a36af964a520fede1fe3\n",
       "3                         Harry's Italian Pizza Bar  4fa862b3e4b0ebff2f749f06\n",
       "4               Italian American Museum Of New York  4b9d4c67f964a5206ca136e3\n",
       "5                     Carmela's Italian Specialties  4e4c4e62bd413c4cc6686059\n",
       "6   Losurdo Brothers / Tony's Italian Bakery & Deli  4b269f5af964a520817e24e3\n",
       "7                     Benvenuti Italian Specialties  4f3feae2e4b0ac9416a72118\n",
       "8                     Tableside Italian Cook Shoppe  58dd8ac3a8b75966fda9a547\n",
       "9                            Pisillo Italian Panini  5c893ef0d8096e0039e7363b\n",
       "10                  Conca Cucina Italian Restaurant  4f3232e219836c91c7bfde94\n",
       "11     Alex's Italian Restaurant & Brick Oven Pizza  5400c682498e3831aaada9fc\n",
       "12                      Caruso's Italian Restaurant  4e4c4d28bd413c4cc66857a5\n",
       "13                         Italian Culinary Academy  4cf7d538dc40a35d26894f54\n",
       "14                             Pisillo Italian Cafe  6065ecdcc85e724bffef8c08\n",
       "15                              Italian Food Center  51a63ef7498e9eedb94e0c5f\n",
       "16                              Barber Italian Shop  4c3b8244def90f478f0ffe2d\n",
       "17                        Italian Bakery 160 Prince  50de11fde4b0a94f4e13d7cd\n",
       "18                    Mama Mia 44sw Italian Cuisine  4f44a2bd19836ed0019571be\n",
       "19              Rita's Italian Ice & Frozen Custard  49fa194ff964a520bb6d1fe3\n",
       "20                 Davio's North Italian Steakhouse  525d7bde498e3a406f590b1d\n",
       "21                       Di So's Italian Food Truck  51e245e8498eb19e2e908b76\n",
       "22                           Italian Wine Merchants  4b047a7bf964a5207f5422e3\n",
       "23                               Italian Rifle Club  4bd78b4809ecb7138732477c\n",
       "24                               Rita’s Italian Ice  6043fb2abc35590bd3a32d27\n",
       "25                     Carmine’s Italian Restaurant  3fd66200f964a5209ee81ee3\n",
       "26                   Dominics Italian Sausage Truck  51fbf7a3498e86b46099a568\n",
       "27                               Olive Tree Italian  4b6c4ebaf964a520612f2ce3\n",
       "28                           Diva italian resturant  4f779e12e4b08e5a67d80bb4\n",
       "29                   PJ Charlton Italian Restaurant  4bbf6b6430c99c74302a5511"
      ]
     },
     "execution_count": 10,
     "metadata": {},
     "output_type": "execute_result"
    }
   ],
   "source": [
    "dfx"
   ]
  },
  {
   "cell_type": "code",
   "execution_count": 11,
   "metadata": {
    "button": false,
    "collapsed": false,
    "jupyter": {
     "outputs_hidden": false
    },
    "new_sheet": false,
    "run_control": {
     "read_only": false
    },
    "scrolled": true
   },
   "outputs": [
    {
     "data": {
      "text/html": [
       "<div style=\"width:100%;\"><div style=\"position:relative;width:100%;height:0;padding-bottom:60%;\"><span style=\"color:#565656\">Make this Notebook Trusted to load map: File -> Trust Notebook</span><iframe src=\"about:blank\" style=\"position:absolute;width:100%;height:100%;left:0;top:0;border:none !important;\" data-html=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 onload=\"this.contentDocument.open();this.contentDocument.write(atob(this.getAttribute('data-html')));this.contentDocument.close();\" allowfullscreen webkitallowfullscreen mozallowfullscreen></iframe></div></div>"
      ],
      "text/plain": [
       "<folium.folium.Map at 0x7fe6e7e39940>"
      ]
     },
     "execution_count": 11,
     "metadata": {},
     "output_type": "execute_result"
    }
   ],
   "source": [
    "venues_map = folium.Map(location=[latitude, longitude], zoom_start=13) # generate map centred around the Conrad Hotel\n",
    "\n",
    "# add a red circle marker to represent the Conrad Hotel\n",
    "folium.CircleMarker(\n",
    "    [latitude, longitude],\n",
    "    radius=10,\n",
    "    color='red',\n",
    "    popup='Conrad Hotel',\n",
    "    fill = True,\n",
    "    fill_color = 'red',\n",
    "    fill_opacity = 0.6\n",
    ").add_to(venues_map)\n",
    "\n",
    "# add the Italian restaurants as blue circle markers\n",
    "for lat, lng, label in zip(dataframe_filtered.lat, dataframe_filtered.lng, dataframe_filtered.categories):\n",
    "    folium.CircleMarker(\n",
    "        [lat, lng],\n",
    "        radius=5,\n",
    "        color='blue',\n",
    "        popup=label,\n",
    "        fill = True,\n",
    "        fill_color='blue',\n",
    "        fill_opacity=0.6\n",
    "    ).add_to(venues_map)\n",
    "\n",
    "# display map\n",
    "venues_map"
   ]
  },
  {
   "cell_type": "markdown",
   "metadata": {
    "button": false,
    "new_sheet": false,
    "run_control": {
     "read_only": false
    }
   },
   "source": [
    "\n"
   ]
  },
  {
   "cell_type": "markdown",
   "metadata": {
    "button": false,
    "new_sheet": false,
    "run_control": {
     "read_only": false
    }
   },
   "source": [
    "<a id=\"item2\"></a>\n"
   ]
  },
  {
   "cell_type": "markdown",
   "metadata": {
    "button": false,
    "new_sheet": false,
    "run_control": {
     "read_only": false
    }
   },
   "source": [
    "## 2. Explore a Given Venue\n",
    "\n",
    "> `https://api.foursquare.com/v2/venues/`**VENUE_ID**`?client_id=`**CLIENT_ID**`&client_secret=`**CLIENT_SECRET**`&v=`**VERSION**\n"
   ]
  },
  {
   "cell_type": "markdown",
   "metadata": {
    "button": false,
    "new_sheet": false,
    "run_control": {
     "read_only": false
    }
   },
   "source": [
    "### A. Let's explore the closest Italian restaurant -- _Harry's Italian Pizza Bar_\n"
   ]
  },
  {
   "cell_type": "code",
   "execution_count": 12,
   "metadata": {
    "button": false,
    "collapsed": false,
    "jupyter": {
     "outputs_hidden": false
    },
    "new_sheet": false,
    "run_control": {
     "read_only": false
    }
   },
   "outputs": [
    {
     "data": {
      "text/plain": [
       "'https://api.foursquare.com/v2/venues/4fa862b3e4b0ebff2f749f06?client_id=K0YJE53R5XLTTURZJO2NLV3EXWMPXBMCHXSTIBFRQ4D2VGQR&client_secret=ZQLNWJXXYOHS1OYZAEFAEZDZFNS12WQ0NUWJL4B2HV5BRZFO&oauth_token=5PDSDEMUOKYJ32RR1OIVDF4PZ5KHFQGWJALLZB4WA0HESSUO&v=20180604'"
      ]
     },
     "execution_count": 12,
     "metadata": {},
     "output_type": "execute_result"
    }
   ],
   "source": [
    "venue_id = '4fa862b3e4b0ebff2f749f06' # ID of Harry's Italian Pizza Bar\n",
    "url = 'https://api.foursquare.com/v2/venues/{}?client_id={}&client_secret={}&oauth_token={}&v={}'.format(venue_id, CLIENT_ID, CLIENT_SECRET,ACCESS_TOKEN, VERSION)\n",
    "url"
   ]
  },
  {
   "cell_type": "markdown",
   "metadata": {
    "button": false,
    "new_sheet": false,
    "run_control": {
     "read_only": false
    }
   },
   "source": [
    "#### Send GET request for result\n"
   ]
  },
  {
   "cell_type": "code",
   "execution_count": 13,
   "metadata": {
    "button": false,
    "collapsed": false,
    "jupyter": {
     "outputs_hidden": false
    },
    "new_sheet": false,
    "run_control": {
     "read_only": false
    }
   },
   "outputs": [
    {
     "name": "stdout",
     "output_type": "stream",
     "text": [
      "dict_keys(['id', 'name', 'contact', 'location', 'canonicalUrl', 'categories', 'verified', 'stats', 'url', 'price', 'hasMenu', 'likes', 'like', 'dislike', 'ok', 'rating', 'ratingColor', 'ratingSignals', 'menu', 'allowMenuUrlEdit', 'beenHere', 'specials', 'photos', 'reasons', 'hereNow', 'createdAt', 'tips', 'shortUrl', 'timeZone', 'listed', 'hours', 'popular', 'seasonalHours', 'defaultHours', 'pageUpdates', 'inbox', 'attributes', 'bestPhoto', 'colors'])\n"
     ]
    },
    {
     "data": {
      "text/plain": [
       "{'id': '4fa862b3e4b0ebff2f749f06',\n",
       " 'name': \"Harry's Italian Pizza Bar\",\n",
       " 'contact': {'phone': '+12126081007', 'formattedPhone': '+1 212-608-1007'},\n",
       " 'location': {'address': '225 Murray St',\n",
       "  'lat': 40.71521779064671,\n",
       "  'lng': -74.01473940209351,\n",
       "  'labeledLatLngs': [{'label': 'display',\n",
       "    'lat': 40.71521779064671,\n",
       "    'lng': -74.01473940209351},\n",
       "   {'label': 'entrance', 'lat': 40.715361, 'lng': -74.014975}],\n",
       "  'postalCode': '10282',\n",
       "  'cc': 'US',\n",
       "  'city': 'New York',\n",
       "  'state': 'NY',\n",
       "  'country': 'United States',\n",
       "  'formattedAddress': ['225 Murray St',\n",
       "   'New York, NY 10282',\n",
       "   'United States']},\n",
       " 'canonicalUrl': 'https://foursquare.com/v/harrys-italian-pizza-bar/4fa862b3e4b0ebff2f749f06',\n",
       " 'categories': [{'id': '4bf58dd8d48988d1ca941735',\n",
       "   'name': 'Pizza Place',\n",
       "   'pluralName': 'Pizza Places',\n",
       "   'shortName': 'Pizza',\n",
       "   'icon': {'prefix': 'https://ss3.4sqi.net/img/categories_v2/food/pizza_',\n",
       "    'suffix': '.png'},\n",
       "   'primary': True},\n",
       "  {'id': '4bf58dd8d48988d110941735',\n",
       "   'name': 'Italian Restaurant',\n",
       "   'pluralName': 'Italian Restaurants',\n",
       "   'shortName': 'Italian',\n",
       "   'icon': {'prefix': 'https://ss3.4sqi.net/img/categories_v2/food/italian_',\n",
       "    'suffix': '.png'}}],\n",
       " 'verified': False,\n",
       " 'stats': {'tipCount': 56},\n",
       " 'url': 'http://harrysitalian.com',\n",
       " 'price': {'tier': 2, 'message': 'Moderate', 'currency': '$'},\n",
       " 'hasMenu': True,\n",
       " 'likes': {'count': 120,\n",
       "  'groups': [{'type': 'others', 'count': 120, 'items': []}],\n",
       "  'summary': '120 Likes'},\n",
       " 'like': False,\n",
       " 'dislike': False,\n",
       " 'ok': False,\n",
       " 'rating': 6.8,\n",
       " 'ratingColor': 'FFC800',\n",
       " 'ratingSignals': 211,\n",
       " 'menu': {'type': 'Menu',\n",
       "  'label': 'Menu',\n",
       "  'anchor': 'View Menu',\n",
       "  'url': 'https://foursquare.com/v/harrys-italian-pizza-bar/4fa862b3e4b0ebff2f749f06/menu',\n",
       "  'mobileUrl': 'https://foursquare.com/v/4fa862b3e4b0ebff2f749f06/device_menu'},\n",
       " 'allowMenuUrlEdit': True,\n",
       " 'beenHere': {'count': 0,\n",
       "  'unconfirmedCount': 0,\n",
       "  'marked': False,\n",
       "  'lastCheckinExpiredAt': 0},\n",
       " 'specials': {'count': 0, 'items': []},\n",
       " 'photos': {'count': 143,\n",
       "  'groups': [{'type': 'venue',\n",
       "    'name': 'Venue photos',\n",
       "    'count': 143,\n",
       "    'items': [{'id': '4fad980de4b091b4626c3633',\n",
       "      'createdAt': 1336776717,\n",
       "      'source': {'name': 'Foursquare for Android',\n",
       "       'url': 'https://foursquare.com/download/#/android'},\n",
       "      'prefix': 'https://fastly.4sqi.net/img/general/',\n",
       "      'suffix': '/ya1iQFI7pLjuIJp1PGDKlrZS3OJdHCF7tpILMmjv_2w.jpg',\n",
       "      'width': 480,\n",
       "      'height': 640,\n",
       "      'user': {'id': '13676709',\n",
       "       'firstName': 'Leony',\n",
       "       'lastName': 'Naciri',\n",
       "       'gender': 'none',\n",
       "       'countryCode': 'US',\n",
       "       'photo': {'prefix': 'https://fastly.4sqi.net/img/user/',\n",
       "        'suffix': '/T0ANFNGNMCHUDEUE.jpg'}},\n",
       "      'visibility': 'public'}]}]},\n",
       " 'reasons': {'count': 1,\n",
       "  'items': [{'summary': 'Lots of people like this place',\n",
       "    'type': 'general',\n",
       "    'reasonName': 'rawLikesReason'}]},\n",
       " 'hereNow': {'count': 0, 'summary': 'Nobody here', 'groups': []},\n",
       " 'createdAt': 1336435379,\n",
       " 'tips': {'count': 56,\n",
       "  'groups': [{'type': 'following',\n",
       "    'name': 'Tips from people you follow',\n",
       "    'count': 0,\n",
       "    'items': []},\n",
       "   {'type': 'others',\n",
       "    'name': 'All tips',\n",
       "    'count': 56,\n",
       "    'items': [{'id': '53d27909498e0523841340b6',\n",
       "      'createdAt': 1406302473,\n",
       "      'text': \"Harry's Italian Pizza bar is known for it's amazing pizza, but did you know that the brunches here are amazing too? Try the Nutella French toast and we know you'll be sold.\",\n",
       "      'type': 'user',\n",
       "      'canonicalUrl': 'https://foursquare.com/item/53d27909498e0523841340b6',\n",
       "      'likes': {'count': 4,\n",
       "       'groups': [{'type': 'others',\n",
       "         'count': 4,\n",
       "         'items': [{'id': '87587879',\n",
       "           'firstName': 'Diane',\n",
       "           'lastName': 'Danneels',\n",
       "           'gender': 'female',\n",
       "           'countryCode': 'US',\n",
       "           'photo': {'prefix': 'https://fastly.4sqi.net/img/user/',\n",
       "            'suffix': '/87587879-ESLRSZLQ2CBE2P4W.jpg'}},\n",
       "          {'id': '87591341',\n",
       "           'firstName': 'Tim',\n",
       "           'lastName': 'Sheehan',\n",
       "           'gender': 'male',\n",
       "           'countryCode': 'US',\n",
       "           'photo': {'prefix': 'https://fastly.4sqi.net/img/user/',\n",
       "            'suffix': '/-Z4YK4VKE0JSVXIY1.jpg'}},\n",
       "          {'id': '87473404',\n",
       "           'firstName': 'TenantKing.com',\n",
       "           'gender': 'none',\n",
       "           'countryCode': 'US',\n",
       "           'photo': {'prefix': 'https://fastly.4sqi.net/img/user/',\n",
       "            'suffix': '/87473404-HI5DTBTK0HX401CA.png'},\n",
       "           'type': 'page'}]}],\n",
       "       'summary': '4 likes'},\n",
       "      'like': False,\n",
       "      'logView': True,\n",
       "      'agreeCount': 3,\n",
       "      'disagreeCount': 0,\n",
       "      'todo': {'count': 0},\n",
       "      'user': {'id': '87473404',\n",
       "       'firstName': 'TenantKing.com',\n",
       "       'gender': 'none',\n",
       "       'countryCode': 'US',\n",
       "       'photo': {'prefix': 'https://fastly.4sqi.net/img/user/',\n",
       "        'suffix': '/87473404-HI5DTBTK0HX401CA.png'},\n",
       "       'type': 'page'}}]}]},\n",
       " 'shortUrl': 'http://4sq.com/JNblHV',\n",
       " 'timeZone': 'America/New_York',\n",
       " 'listed': {'count': 54,\n",
       "  'groups': [{'type': 'others',\n",
       "    'name': 'Lists from other people',\n",
       "    'count': 54,\n",
       "    'items': [{'id': '4fa32fd0e4b04193744746b1',\n",
       "      'name': 'Manhattan Haunts',\n",
       "      'description': '',\n",
       "      'type': 'others',\n",
       "      'user': {'id': '24592223',\n",
       "       'firstName': 'Becca',\n",
       "       'lastName': 'McArthur',\n",
       "       'gender': 'female',\n",
       "       'countryCode': 'US',\n",
       "       'photo': {'prefix': 'https://fastly.4sqi.net/img/user/',\n",
       "        'suffix': '/24592223-RAW2UYM0GIB1U40K.jpg'}},\n",
       "      'editable': False,\n",
       "      'public': True,\n",
       "      'collaborative': False,\n",
       "      'url': '/becca_mcarthur/list/manhattan-haunts',\n",
       "      'canonicalUrl': 'https://foursquare.com/becca_mcarthur/list/manhattan-haunts',\n",
       "      'createdAt': 1336094672,\n",
       "      'updatedAt': 1380845377,\n",
       "      'photo': {'id': '4e8cc9461081e3b3544e12e5',\n",
       "       'createdAt': 1317849414,\n",
       "       'prefix': 'https://fastly.4sqi.net/img/general/',\n",
       "       'suffix': '/0NLVU2HC1JF4DXIMKWUFW3QBUT31DC11EFNYYHMJG3NDWAPS.jpg',\n",
       "       'width': 492,\n",
       "       'height': 330,\n",
       "       'user': {'id': '742542',\n",
       "        'firstName': 'Time Out New York',\n",
       "        'gender': 'none',\n",
       "        'countryCode': 'US',\n",
       "        'photo': {'prefix': 'https://fastly.4sqi.net/img/user/',\n",
       "         'suffix': '/XXHKCBSQHBORZNSR.jpg'},\n",
       "        'type': 'page'},\n",
       "       'visibility': 'public'},\n",
       "      'followers': {'count': 22},\n",
       "      'listItems': {'count': 187,\n",
       "       'items': [{'id': 'v4fa862b3e4b0ebff2f749f06',\n",
       "         'createdAt': 1342934485}]}},\n",
       "     {'id': '4fae817be4b085f6b2a74d19',\n",
       "      'name': 'USA NYC MAN FiDi',\n",
       "      'description': 'Where to go for decent eats in the restaurant wasteland of Downtown NYC aka FiDi, along with Tribeca & Battery Park City.',\n",
       "      'type': 'others',\n",
       "      'user': {'id': '12113441',\n",
       "       'firstName': 'Kino',\n",
       "       'gender': 'male',\n",
       "       'countryCode': 'US',\n",
       "       'photo': {'prefix': 'https://fastly.4sqi.net/img/user/',\n",
       "        'suffix': '/12113441-K5HTHFLU2MUCM0CM.jpg'}},\n",
       "      'editable': False,\n",
       "      'public': True,\n",
       "      'collaborative': False,\n",
       "      'url': '/kinosfault/list/usa-nyc-man-fidi',\n",
       "      'canonicalUrl': 'https://foursquare.com/kinosfault/list/usa-nyc-man-fidi',\n",
       "      'createdAt': 1336836475,\n",
       "      'updatedAt': 1556754919,\n",
       "      'photo': {'id': '55984992498e13ba75e353bb',\n",
       "       'createdAt': 1436043666,\n",
       "       'prefix': 'https://fastly.4sqi.net/img/general/',\n",
       "       'suffix': '/12113441_iOa6Uh-Xi8bhj2-gpzkkw8MKiAIs7RmOcz_RM7m8ink.jpg',\n",
       "       'width': 540,\n",
       "       'height': 960,\n",
       "       'user': {'id': '12113441',\n",
       "        'firstName': 'Kino',\n",
       "        'gender': 'male',\n",
       "        'countryCode': 'US',\n",
       "        'photo': {'prefix': 'https://fastly.4sqi.net/img/user/',\n",
       "         'suffix': '/12113441-K5HTHFLU2MUCM0CM.jpg'}},\n",
       "       'visibility': 'public'},\n",
       "      'followers': {'count': 20},\n",
       "      'listItems': {'count': 272,\n",
       "       'items': [{'id': 'v4fa862b3e4b0ebff2f749f06',\n",
       "         'createdAt': 1373909433}]}}]}]},\n",
       " 'hours': {'status': 'Open until 11:00 PM',\n",
       "  'richStatus': {'entities': [], 'text': 'Open until 11:00 PM'},\n",
       "  'isOpen': True,\n",
       "  'isLocalHoliday': False,\n",
       "  'dayData': [],\n",
       "  'timeframes': [{'days': 'Mon–Wed, Sun',\n",
       "    'includesToday': True,\n",
       "    'open': [{'renderedTime': '11:30 AM–11:00 PM'}],\n",
       "    'segments': []},\n",
       "   {'days': 'Thu–Sat',\n",
       "    'open': [{'renderedTime': '11:30 AM–Midnight'}],\n",
       "    'segments': []}]},\n",
       " 'popular': {'status': 'Likely open',\n",
       "  'richStatus': {'entities': [], 'text': 'Likely open'},\n",
       "  'isOpen': True,\n",
       "  'isLocalHoliday': False,\n",
       "  'timeframes': [{'days': 'Today',\n",
       "    'includesToday': True,\n",
       "    'open': [{'renderedTime': 'Noon–2:00 PM'},\n",
       "     {'renderedTime': '6:00 PM–8:00 PM'}],\n",
       "    'segments': []},\n",
       "   {'days': 'Tue–Thu',\n",
       "    'open': [{'renderedTime': 'Noon–2:00 PM'},\n",
       "     {'renderedTime': '5:00 PM–10:00 PM'}],\n",
       "    'segments': []},\n",
       "   {'days': 'Fri',\n",
       "    'open': [{'renderedTime': 'Noon–3:00 PM'},\n",
       "     {'renderedTime': '5:00 PM–11:00 PM'}],\n",
       "    'segments': []},\n",
       "   {'days': 'Sat',\n",
       "    'open': [{'renderedTime': 'Noon–11:00 PM'}],\n",
       "    'segments': []},\n",
       "   {'days': 'Sun',\n",
       "    'open': [{'renderedTime': 'Noon–3:00 PM'},\n",
       "     {'renderedTime': '5:00 PM–8:00 PM'}],\n",
       "    'segments': []}]},\n",
       " 'seasonalHours': [],\n",
       " 'defaultHours': {'status': 'Open until 11:00 PM',\n",
       "  'richStatus': {'entities': [], 'text': 'Open until 11:00 PM'},\n",
       "  'isOpen': True,\n",
       "  'isLocalHoliday': False,\n",
       "  'dayData': [],\n",
       "  'timeframes': [{'days': 'Mon–Wed, Sun',\n",
       "    'includesToday': True,\n",
       "    'open': [{'renderedTime': '11:30 AM–11:00 PM'}],\n",
       "    'segments': []},\n",
       "   {'days': 'Thu–Sat',\n",
       "    'open': [{'renderedTime': '11:30 AM–Midnight'}],\n",
       "    'segments': []}]},\n",
       " 'pageUpdates': {'count': 0, 'items': []},\n",
       " 'inbox': {'count': 0, 'items': []},\n",
       " 'attributes': {'groups': [{'type': 'price',\n",
       "    'name': 'Price',\n",
       "    'summary': '$$',\n",
       "    'count': 1,\n",
       "    'items': [{'displayName': 'Price', 'displayValue': '$$', 'priceTier': 2}]},\n",
       "   {'type': 'payments',\n",
       "    'name': 'Credit Cards',\n",
       "    'summary': 'Credit Cards',\n",
       "    'count': 7,\n",
       "    'items': [{'displayName': 'Credit Cards',\n",
       "      'displayValue': 'Yes (incl. American Express)'}]},\n",
       "   {'type': 'outdoorSeating',\n",
       "    'name': 'Outdoor Seating',\n",
       "    'summary': 'Outdoor Seating',\n",
       "    'count': 1,\n",
       "    'items': [{'displayName': 'Outdoor Seating', 'displayValue': 'Yes'}]},\n",
       "   {'type': 'serves',\n",
       "    'name': 'Menus',\n",
       "    'summary': 'Happy Hour, Brunch & more',\n",
       "    'count': 8,\n",
       "    'items': [{'displayName': 'Brunch', 'displayValue': 'Brunch'},\n",
       "     {'displayName': 'Lunch', 'displayValue': 'Lunch'},\n",
       "     {'displayName': 'Dinner', 'displayValue': 'Dinner'},\n",
       "     {'displayName': 'Happy Hour', 'displayValue': 'Happy Hour'}]},\n",
       "   {'type': 'drinks',\n",
       "    'name': 'Drinks',\n",
       "    'summary': 'Beer, Wine & Cocktails',\n",
       "    'count': 5,\n",
       "    'items': [{'displayName': 'Beer', 'displayValue': 'Beer'},\n",
       "     {'displayName': 'Wine', 'displayValue': 'Wine'},\n",
       "     {'displayName': 'Cocktails', 'displayValue': 'Cocktails'}]}]},\n",
       " 'bestPhoto': {'id': '4fad980de4b091b4626c3633',\n",
       "  'createdAt': 1336776717,\n",
       "  'source': {'name': 'Foursquare for Android',\n",
       "   'url': 'https://foursquare.com/download/#/android'},\n",
       "  'prefix': 'https://fastly.4sqi.net/img/general/',\n",
       "  'suffix': '/ya1iQFI7pLjuIJp1PGDKlrZS3OJdHCF7tpILMmjv_2w.jpg',\n",
       "  'width': 480,\n",
       "  'height': 640,\n",
       "  'visibility': 'public'},\n",
       " 'colors': {'highlightColor': {'photoId': '4fad980de4b091b4626c3633',\n",
       "   'value': -13619152},\n",
       "  'highlightTextColor': {'photoId': '4fad980de4b091b4626c3633', 'value': -1},\n",
       "  'algoVersion': 3}}"
      ]
     },
     "execution_count": 13,
     "metadata": {},
     "output_type": "execute_result"
    }
   ],
   "source": [
    "result = requests.get(url).json()\n",
    "print(result['response']['venue'].keys())\n",
    "result['response']['venue']"
   ]
  },
  {
   "cell_type": "markdown",
   "metadata": {
    "button": false,
    "new_sheet": false,
    "run_control": {
     "read_only": false
    }
   },
   "source": [
    "### B. Get the venue's overall rating\n"
   ]
  },
  {
   "cell_type": "code",
   "execution_count": 14,
   "metadata": {
    "button": false,
    "collapsed": false,
    "jupyter": {
     "outputs_hidden": false
    },
    "new_sheet": false,
    "run_control": {
     "read_only": false
    }
   },
   "outputs": [
    {
     "name": "stdout",
     "output_type": "stream",
     "text": [
      "6.8\n"
     ]
    }
   ],
   "source": [
    "try:\n",
    "    print(result['response']['venue']['rating'])\n",
    "except:\n",
    "    print('This venue has not been rated yet.')"
   ]
  },
  {
   "cell_type": "markdown",
   "metadata": {
    "button": false,
    "new_sheet": false,
    "run_control": {
     "read_only": false
    }
   },
   "source": [
    "That is not a very good rating. Let's check the rating of the second closest Italian restaurant.\n"
   ]
  },
  {
   "cell_type": "code",
   "execution_count": 15,
   "metadata": {
    "button": false,
    "collapsed": false,
    "jupyter": {
     "outputs_hidden": false
    },
    "new_sheet": false,
    "run_control": {
     "read_only": false
    }
   },
   "outputs": [
    {
     "name": "stdout",
     "output_type": "stream",
     "text": [
      "This venue has not been rated yet.\n"
     ]
    }
   ],
   "source": [
    "venue_id = '4f3232e219836c91c7bfde94' # ID of Conca Cucina Italian Restaurant\n",
    "url = 'https://api.foursquare.com/v2/venues/{}?client_id={}&client_secret={}&oauth_token={}&v={}'.format(venue_id, CLIENT_ID, CLIENT_SECRET,ACCESS_TOKEN, VERSION)\n",
    "\n",
    "result = requests.get(url).json()\n",
    "try:\n",
    "    print(result['response']['venue']['rating'])\n",
    "except:\n",
    "    print('This venue has not been rated yet.')"
   ]
  },
  {
   "cell_type": "markdown",
   "metadata": {
    "button": false,
    "new_sheet": false,
    "run_control": {
     "read_only": false
    }
   },
   "source": [
    "Since this restaurant has no ratings, let's check the third restaurant.\n"
   ]
  },
  {
   "cell_type": "code",
   "execution_count": 16,
   "metadata": {
    "button": false,
    "collapsed": false,
    "jupyter": {
     "outputs_hidden": false
    },
    "new_sheet": false,
    "run_control": {
     "read_only": false
    }
   },
   "outputs": [
    {
     "name": "stdout",
     "output_type": "stream",
     "text": [
      "7.3\n"
     ]
    }
   ],
   "source": [
    "venue_id = '3fd66200f964a520f4e41ee3' # ID of Ecco\n",
    "url = 'https://api.foursquare.com/v2/venues/{}?client_id={}&client_secret={}&oauth_token={}&v={}'.format(venue_id, CLIENT_ID, CLIENT_SECRET,ACCESS_TOKEN, VERSION)\n",
    "\n",
    "result = requests.get(url).json()\n",
    "try:\n",
    "    print(result['response']['venue']['rating'])\n",
    "except:\n",
    "    print('This venue has not been rated yet.')"
   ]
  },
  {
   "cell_type": "markdown",
   "metadata": {
    "button": false,
    "new_sheet": false,
    "run_control": {
     "read_only": false
    }
   },
   "source": [
    "Since this restaurant has a slightly better rating, let's explore it further.\n"
   ]
  },
  {
   "cell_type": "markdown",
   "metadata": {
    "button": false,
    "new_sheet": false,
    "run_control": {
     "read_only": false
    }
   },
   "source": [
    "### C. Get the number of tips\n"
   ]
  },
  {
   "cell_type": "code",
   "execution_count": 17,
   "metadata": {
    "button": false,
    "collapsed": false,
    "jupyter": {
     "outputs_hidden": false
    },
    "new_sheet": false,
    "run_control": {
     "read_only": false
    }
   },
   "outputs": [
    {
     "data": {
      "text/plain": [
       "19"
      ]
     },
     "execution_count": 17,
     "metadata": {},
     "output_type": "execute_result"
    }
   ],
   "source": [
    "result['response']['venue']['tips']['count']"
   ]
  },
  {
   "cell_type": "markdown",
   "metadata": {
    "button": false,
    "new_sheet": false,
    "run_control": {
     "read_only": false
    }
   },
   "source": [
    "### D. Get the venue's tips\n",
    "\n",
    "> `https://api.foursquare.com/v2/venues/`**VENUE_ID**`/tips?client_id=`**CLIENT_ID**`&client_secret=`**CLIENT_SECRET**`&v=`**VERSION**`&limit=`**LIMIT**\n"
   ]
  },
  {
   "cell_type": "markdown",
   "metadata": {
    "button": false,
    "new_sheet": false,
    "run_control": {
     "read_only": false
    }
   },
   "source": [
    "#### Create URL and send GET request. Make sure to set limit to get all tips\n"
   ]
  },
  {
   "cell_type": "code",
   "execution_count": 18,
   "metadata": {
    "button": false,
    "collapsed": false,
    "jupyter": {
     "outputs_hidden": false
    },
    "new_sheet": false,
    "run_control": {
     "read_only": false
    }
   },
   "outputs": [
    {
     "data": {
      "text/plain": [
       "{'meta': {'code': 200, 'requestId': '606b387b9a07886de2866d03'},\n",
       " 'notifications': [{'type': 'notificationTray', 'item': {'unreadCount': 0}}],\n",
       " 'response': {'tips': {'count': 18,\n",
       "   'items': [{'id': '5ab1cb46c9a517174651d3fe',\n",
       "     'createdAt': 1521601350,\n",
       "     'text': 'A+ Italian food! Trust me on this: my mom’s side of the family is 100% Italian. I was born and bred to know good pasta when I see it, and Ecco is one of my all-time NYC favorites',\n",
       "     'type': 'user',\n",
       "     'canonicalUrl': 'https://foursquare.com/item/5ab1cb46c9a517174651d3fe',\n",
       "     'likes': {'count': 0, 'groups': []},\n",
       "     'like': False,\n",
       "     'logView': True,\n",
       "     'agreeCount': 4,\n",
       "     'disagreeCount': 0,\n",
       "     'todo': {'count': 0},\n",
       "     'user': {'id': '484542633',\n",
       "      'firstName': 'Nick',\n",
       "      'lastName': 'El-Tawil',\n",
       "      'gender': 'male',\n",
       "      'address': '',\n",
       "      'city': '',\n",
       "      'state': '',\n",
       "      'photo': {'prefix': 'https://fastly.4sqi.net/img/user/',\n",
       "       'suffix': '/484542633_64VpAzxd_1j4zzJ30WhPZsmHMDuV8MDuVX-EkAi2dpa3rHAwENMIZZnAdWajmzXmFL6SegZsB.jpg'}},\n",
       "     'authorInteractionType': 'liked'}]}}}"
      ]
     },
     "execution_count": 18,
     "metadata": {},
     "output_type": "execute_result"
    }
   ],
   "source": [
    "## Ecco Tips\n",
    "limit = 15 # set limit to be greater than or equal to the total number of tips\n",
    "url = 'https://api.foursquare.com/v2/venues/{}/tips?client_id={}&client_secret={}&oauth_token={}&v={}&limit={}'.format(venue_id, CLIENT_ID, CLIENT_SECRET,ACCESS_TOKEN, VERSION, limit)\n",
    "\n",
    "results = requests.get(url).json()\n",
    "results"
   ]
  },
  {
   "cell_type": "markdown",
   "metadata": {
    "button": false,
    "new_sheet": false,
    "run_control": {
     "read_only": false
    }
   },
   "source": [
    "#### Get tips and list of associated features\n"
   ]
  },
  {
   "cell_type": "code",
   "execution_count": 19,
   "metadata": {
    "button": false,
    "collapsed": false,
    "jupyter": {
     "outputs_hidden": false
    },
    "new_sheet": false,
    "run_control": {
     "read_only": false
    }
   },
   "outputs": [
    {
     "data": {
      "text/plain": [
       "dict_keys(['id', 'createdAt', 'text', 'type', 'canonicalUrl', 'likes', 'like', 'logView', 'agreeCount', 'disagreeCount', 'todo', 'user', 'authorInteractionType'])"
      ]
     },
     "execution_count": 19,
     "metadata": {},
     "output_type": "execute_result"
    }
   ],
   "source": [
    "tips = results['response']['tips']['items']\n",
    "\n",
    "tip = results['response']['tips']['items'][0]\n",
    "tip.keys()"
   ]
  },
  {
   "cell_type": "markdown",
   "metadata": {
    "button": false,
    "new_sheet": false,
    "run_control": {
     "read_only": false
    }
   },
   "source": [
    "#### Format column width and display all tips\n"
   ]
  },
  {
   "cell_type": "code",
   "execution_count": 20,
   "metadata": {
    "button": false,
    "collapsed": false,
    "jupyter": {
     "outputs_hidden": false
    },
    "new_sheet": false,
    "run_control": {
     "read_only": false
    }
   },
   "outputs": [
    {
     "name": "stderr",
     "output_type": "stream",
     "text": [
      "/home/jupyterlab/conda/envs/python/lib/python3.6/site-packages/ipykernel_launcher.py:1: FutureWarning: Passing a negative integer is deprecated in version 1.0 and will not be supported in future version. Instead, use None to not limit the column width.\n",
      "  \"\"\"Entry point for launching an IPython kernel.\n",
      "/home/jupyterlab/conda/envs/python/lib/python3.6/site-packages/ipykernel_launcher.py:3: FutureWarning: pandas.io.json.json_normalize is deprecated, use pandas.json_normalize instead\n",
      "  This is separate from the ipykernel package so we can avoid doing imports until\n"
     ]
    },
    {
     "data": {
      "text/html": [
       "<div>\n",
       "<style scoped>\n",
       "    .dataframe tbody tr th:only-of-type {\n",
       "        vertical-align: middle;\n",
       "    }\n",
       "\n",
       "    .dataframe tbody tr th {\n",
       "        vertical-align: top;\n",
       "    }\n",
       "\n",
       "    .dataframe thead th {\n",
       "        text-align: right;\n",
       "    }\n",
       "</style>\n",
       "<table border=\"1\" class=\"dataframe\">\n",
       "  <thead>\n",
       "    <tr style=\"text-align: right;\">\n",
       "      <th></th>\n",
       "      <th>text</th>\n",
       "      <th>agreeCount</th>\n",
       "      <th>disagreeCount</th>\n",
       "      <th>id</th>\n",
       "      <th>user.firstName</th>\n",
       "      <th>user.lastName</th>\n",
       "      <th>user.id</th>\n",
       "    </tr>\n",
       "  </thead>\n",
       "  <tbody>\n",
       "    <tr>\n",
       "      <th>0</th>\n",
       "      <td>A+ Italian food! Trust me on this: my mom’s side of the family is 100% Italian. I was born and bred to know good pasta when I see it, and Ecco is one of my all-time NYC favorites</td>\n",
       "      <td>4</td>\n",
       "      <td>0</td>\n",
       "      <td>5ab1cb46c9a517174651d3fe</td>\n",
       "      <td>Nick</td>\n",
       "      <td>El-Tawil</td>\n",
       "      <td>484542633</td>\n",
       "    </tr>\n",
       "  </tbody>\n",
       "</table>\n",
       "</div>"
      ],
      "text/plain": [
       "                                                                                                                                                                                 text  \\\n",
       "0  A+ Italian food! Trust me on this: my mom’s side of the family is 100% Italian. I was born and bred to know good pasta when I see it, and Ecco is one of my all-time NYC favorites   \n",
       "\n",
       "   agreeCount  disagreeCount                        id user.firstName  \\\n",
       "0  4           0              5ab1cb46c9a517174651d3fe  Nick            \n",
       "\n",
       "  user.lastName    user.id  \n",
       "0  El-Tawil      484542633  "
      ]
     },
     "execution_count": 20,
     "metadata": {},
     "output_type": "execute_result"
    }
   ],
   "source": [
    "pd.set_option('display.max_colwidth', -1)\n",
    "\n",
    "tips_df = json_normalize(tips) # json normalize tips\n",
    "\n",
    "# columns to keep\n",
    "filtered_columns = ['text', 'agreeCount', 'disagreeCount', 'id', 'user.firstName', 'user.lastName', 'user.id']\n",
    "tips_filtered = tips_df.loc[:, filtered_columns]\n",
    "\n",
    "# display tips\n",
    "tips_filtered.reindex()"
   ]
  },
  {
   "cell_type": "markdown",
   "metadata": {
    "button": false,
    "new_sheet": false,
    "run_control": {
     "read_only": false
    }
   },
   "source": [
    "Now remember that because we are using a personal developer account, then we can access only 2 of the restaurant's tips, instead of all 15 tips.\n"
   ]
  },
  {
   "cell_type": "markdown",
   "metadata": {
    "button": false,
    "new_sheet": false,
    "run_control": {
     "read_only": false
    }
   },
   "source": [
    "\n"
   ]
  },
  {
   "cell_type": "markdown",
   "metadata": {
    "button": false,
    "new_sheet": false,
    "run_control": {
     "read_only": false
    }
   },
   "source": [
    "<a id=\"item3\"></a>\n"
   ]
  },
  {
   "cell_type": "markdown",
   "metadata": {
    "button": false,
    "new_sheet": false,
    "run_control": {
     "read_only": false
    }
   },
   "source": [
    "## 3. Search a Foursquare User\n",
    "\n",
    "> `https://api.foursquare.com/v2/users/`**USER_ID**`?client_id=`**CLIENT_ID**`&client_secret=`**CLIENT_SECRET**`&v=`**VERSION**\n"
   ]
  },
  {
   "cell_type": "markdown",
   "metadata": {
    "button": false,
    "new_sheet": false,
    "run_control": {
     "read_only": false
    }
   },
   "source": [
    "### Define URL, send GET request and display features associated with user\n"
   ]
  },
  {
   "cell_type": "code",
   "execution_count": 21,
   "metadata": {},
   "outputs": [
    {
     "name": "stderr",
     "output_type": "stream",
     "text": [
      "/home/jupyterlab/conda/envs/python/lib/python3.6/site-packages/ipykernel_launcher.py:11: FutureWarning: Passing a negative integer is deprecated in version 1.0 and will not be supported in future version. Instead, use None to not limit the column width.\n",
      "  # This is added back by InteractiveShellApp.init_path()\n",
      "/home/jupyterlab/conda/envs/python/lib/python3.6/site-packages/ipykernel_launcher.py:13: FutureWarning: pandas.io.json.json_normalize is deprecated, use pandas.json_normalize instead\n",
      "  del sys.path[0]\n"
     ]
    },
    {
     "data": {
      "text/html": [
       "<div>\n",
       "<style scoped>\n",
       "    .dataframe tbody tr th:only-of-type {\n",
       "        vertical-align: middle;\n",
       "    }\n",
       "\n",
       "    .dataframe tbody tr th {\n",
       "        vertical-align: top;\n",
       "    }\n",
       "\n",
       "    .dataframe thead th {\n",
       "        text-align: right;\n",
       "    }\n",
       "</style>\n",
       "<table border=\"1\" class=\"dataframe\">\n",
       "  <thead>\n",
       "    <tr style=\"text-align: right;\">\n",
       "      <th></th>\n",
       "      <th>id</th>\n",
       "      <th>prefix</th>\n",
       "      <th>suffix</th>\n",
       "      <th>width</th>\n",
       "      <th>height</th>\n",
       "    </tr>\n",
       "  </thead>\n",
       "  <tbody>\n",
       "    <tr>\n",
       "      <th>0</th>\n",
       "      <td>5e41a77864fa070008131752</td>\n",
       "      <td>https://fastly.4sqi.net/img/general/</td>\n",
       "      <td>/484542633_ELnUC1di2LwJTjPi04McysQZNqJHSCCSxS3i_GKGTEY.jpg</td>\n",
       "      <td>1440</td>\n",
       "      <td>1440</td>\n",
       "    </tr>\n",
       "  </tbody>\n",
       "</table>\n",
       "</div>"
      ],
      "text/plain": [
       "                         id                                prefix  \\\n",
       "0  5e41a77864fa070008131752  https://fastly.4sqi.net/img/general/   \n",
       "\n",
       "                                                       suffix  width  height  \n",
       "0  /484542633_ELnUC1di2LwJTjPi04McysQZNqJHSCCSxS3i_GKGTEY.jpg  1440   1440    "
      ]
     },
     "execution_count": 21,
     "metadata": {},
     "output_type": "execute_result"
    }
   ],
   "source": [
    "idnumber = '484542633' # user ID with most agree counts and complete profile\n",
    "\n",
    "url = 'https://api.foursquare.com/v2/users/{}/?client_id={}&client_secret={}&oauth_token={}&v={}'.format(idnumber,CLIENT_ID, CLIENT_SECRET, ACCESS_TOKEN,VERSION) # define URL\n",
    "\n",
    "# send GET request\n",
    "results = requests.get(url).json()\n",
    "\n",
    "user_data=results['response']['user']['photos']['items']\n",
    "\n",
    "#results\n",
    "pd.set_option('display.max_colwidth', -1)\n",
    "\n",
    "users_df = json_normalize(user_data)\n",
    "#This mainly used later to display the photo of the user\n",
    "filtered_columns = ['id','prefix','suffix','width','height']\n",
    "tips_filtered = users_df.loc[:, filtered_columns]\n",
    "#url\n",
    "tips_filtered"
   ]
  },
  {
   "cell_type": "code",
   "execution_count": 22,
   "metadata": {},
   "outputs": [
    {
     "name": "stdout",
     "output_type": "stream",
     "text": [
      "0    First Name: Nick\n",
      "Name: user.firstName, dtype: object\n",
      "0    Last Name: El-Tawil\n",
      "Name: user.lastName, dtype: object\n"
     ]
    }
   ],
   "source": [
    "\n",
    "g=tips_df.loc[tips_df['user.id'] == '484542633']\n",
    "print('First Name: ' + tips_df['user.firstName'])\n",
    "print('Last Name: ' + tips_df['user.lastName'])\n"
   ]
  },
  {
   "cell_type": "markdown",
   "metadata": {},
   "source": [
    "### Retrieve the User's Profile Image\n"
   ]
  },
  {
   "cell_type": "code",
   "execution_count": 23,
   "metadata": {},
   "outputs": [
    {
     "data": {
      "text/html": [
       "<img src=\"https://fastly.4sqi.net/img/general/540x920/484542633_ELnUC1di2LwJTjPi04McysQZNqJHSCCSxS3i_GKGTEY.jpg\"/>"
      ],
      "text/plain": [
       "<IPython.core.display.Image object>"
      ]
     },
     "execution_count": 23,
     "metadata": {},
     "output_type": "execute_result"
    }
   ],
   "source": [
    "# 1. grab prefix of photo \n",
    "# 2. grab suffix of photo\n",
    "# 3. concatenate them using the image size  \n",
    "Image(url='https://fastly.4sqi.net/img/general/540x920/484542633_ELnUC1di2LwJTjPi04McysQZNqJHSCCSxS3i_GKGTEY.jpg')"
   ]
  },
  {
   "cell_type": "markdown",
   "metadata": {
    "button": false,
    "new_sheet": false,
    "run_control": {
     "read_only": false
    }
   },
   "source": [
    "Wow! So it turns out that Nick is a very active Foursquare user, with more than 250 tips.\n"
   ]
  },
  {
   "cell_type": "markdown",
   "metadata": {
    "button": false,
    "new_sheet": false,
    "run_control": {
     "read_only": false
    }
   },
   "source": [
    "### Get User's tips\n"
   ]
  },
  {
   "cell_type": "code",
   "execution_count": 24,
   "metadata": {
    "button": false,
    "collapsed": false,
    "jupyter": {
     "outputs_hidden": false
    },
    "new_sheet": false,
    "run_control": {
     "read_only": false
    }
   },
   "outputs": [
    {
     "name": "stderr",
     "output_type": "stream",
     "text": [
      "/home/jupyterlab/conda/envs/python/lib/python3.6/site-packages/ipykernel_launcher.py:10: FutureWarning: Passing a negative integer is deprecated in version 1.0 and will not be supported in future version. Instead, use None to not limit the column width.\n",
      "  # Remove the CWD from sys.path while we load stuff.\n",
      "/home/jupyterlab/conda/envs/python/lib/python3.6/site-packages/ipykernel_launcher.py:12: FutureWarning: pandas.io.json.json_normalize is deprecated, use pandas.json_normalize instead\n",
      "  if sys.path[0] == '':\n"
     ]
    },
    {
     "data": {
      "text/html": [
       "<div>\n",
       "<style scoped>\n",
       "    .dataframe tbody tr th:only-of-type {\n",
       "        vertical-align: middle;\n",
       "    }\n",
       "\n",
       "    .dataframe tbody tr th {\n",
       "        vertical-align: top;\n",
       "    }\n",
       "\n",
       "    .dataframe thead th {\n",
       "        text-align: right;\n",
       "    }\n",
       "</style>\n",
       "<table border=\"1\" class=\"dataframe\">\n",
       "  <thead>\n",
       "    <tr style=\"text-align: right;\">\n",
       "      <th></th>\n",
       "      <th>text</th>\n",
       "      <th>agreeCount</th>\n",
       "      <th>disagreeCount</th>\n",
       "      <th>id</th>\n",
       "    </tr>\n",
       "  </thead>\n",
       "  <tbody>\n",
       "    <tr>\n",
       "      <th>0</th>\n",
       "      <td>High quality falafel that doesn’t come from a cart on the side of the road?! Yes, it exists, and it exists at Taim. Highly recommended - even if you’re new to falafel.</td>\n",
       "      <td>6</td>\n",
       "      <td>0</td>\n",
       "      <td>5ab2771a7dc9e17930670085</td>\n",
       "    </tr>\n",
       "    <tr>\n",
       "      <th>1</th>\n",
       "      <td>If you are in the West Village and you choose to go to a nationwide chain coffee shop instead of 11th Street Cafe, then you are everything that is wrong with the world. This place is AWESOME!!!</td>\n",
       "      <td>3</td>\n",
       "      <td>0</td>\n",
       "      <td>5ab1daf0da5e5617d1da3c7d</td>\n",
       "    </tr>\n",
       "    <tr>\n",
       "      <th>2</th>\n",
       "      <td>A+! The New Whitney is MUCH more accessible and easier to navigate than the city’s other famous museums like the Met. I’m a big fan. If you’re on a budget: there’s free admission on Friday nights</td>\n",
       "      <td>5</td>\n",
       "      <td>0</td>\n",
       "      <td>5ab1d649464d655c24fc144f</td>\n",
       "    </tr>\n",
       "    <tr>\n",
       "      <th>3</th>\n",
       "      <td>I had the wings and they blew my mind. Plus, Leah (the owner) is pretty awesome, so you should definitely check it out!</td>\n",
       "      <td>1</td>\n",
       "      <td>0</td>\n",
       "      <td>5ab1d0a5c666662673a11799</td>\n",
       "    </tr>\n",
       "    <tr>\n",
       "      <th>4</th>\n",
       "      <td>Everything here is fantastic! I’ve ordered half the menu and never been disappointed. My favorite is the spaghetti &amp; meatballs (only served on Sundays). The spicy sauce takes it to the next level!</td>\n",
       "      <td>6</td>\n",
       "      <td>0</td>\n",
       "      <td>5ab1cbe467f62b57ee6beaa9</td>\n",
       "    </tr>\n",
       "    <tr>\n",
       "      <th>5</th>\n",
       "      <td>A+ Italian food! Trust me on this: my mom’s side of the family is 100% Italian. I was born and bred to know good pasta when I see it, and Ecco is one of my all-time NYC favorites</td>\n",
       "      <td>4</td>\n",
       "      <td>0</td>\n",
       "      <td>5ab1cb46c9a517174651d3fe</td>\n",
       "    </tr>\n",
       "    <tr>\n",
       "      <th>6</th>\n",
       "      <td>THE spot for breakfast in the West Village. I recommend ordering the healthy treat. If you don’t like it, then you have no soul.</td>\n",
       "      <td>5</td>\n",
       "      <td>0</td>\n",
       "      <td>5ab1af48f79faa4bc867de78</td>\n",
       "    </tr>\n",
       "    <tr>\n",
       "      <th>7</th>\n",
       "      <td>Get the vegan peanut butter bar. It’s like sex in your mouth.</td>\n",
       "      <td>1</td>\n",
       "      <td>0</td>\n",
       "      <td>5ab1ad2847f8767a8ca88fc1</td>\n",
       "    </tr>\n",
       "    <tr>\n",
       "      <th>8</th>\n",
       "      <td>My go-to for coffee and a breakfast sandwich in the mornings. That actually undersells this place - EVERYTHING is good. Lunch, pasta, desserts, wine. I’ve never been disappointed here.</td>\n",
       "      <td>2</td>\n",
       "      <td>0</td>\n",
       "      <td>5ab1acbba6ec980645fd7512</td>\n",
       "    </tr>\n",
       "    <tr>\n",
       "      <th>9</th>\n",
       "      <td>This is the real deal. Stuff like this is why I moved to NYC. I bet half of the guys who play here could have gone pro. Do NOT bring your cousin Jimmy (who never played before) unless you like losing!</td>\n",
       "      <td>1</td>\n",
       "      <td>0</td>\n",
       "      <td>5ab1a316a8eb606122a3b755</td>\n",
       "    </tr>\n",
       "    <tr>\n",
       "      <th>10</th>\n",
       "      <td>The High Line is pretty cool. The only thing not to like is that it’s so good that everyone comes here and it gets too crowded. Check it out on a weekday morning or at night to dodge the crowds.</td>\n",
       "      <td>10</td>\n",
       "      <td>0</td>\n",
       "      <td>5ab19f6849281477a8be2dab</td>\n",
       "    </tr>\n",
       "    <tr>\n",
       "      <th>11</th>\n",
       "      <td>The best running path in the city, hands down. It’s never too crowded (like Central Park can be) and you can run for miles without needing to stop for a traffic light. Way better than a treadmill!</td>\n",
       "      <td>2</td>\n",
       "      <td>0</td>\n",
       "      <td>5ab19e9dd0336060277b2c5e</td>\n",
       "    </tr>\n",
       "    <tr>\n",
       "      <th>12</th>\n",
       "      <td>I never thought to go to Brooklyn when I visited NY years ago, but after moving here and spending time in every borough, I developed a serious appreciation for Kings County. Make this your first stop!</td>\n",
       "      <td>2</td>\n",
       "      <td>0</td>\n",
       "      <td>5ab19d73a30619795f3f1204</td>\n",
       "    </tr>\n",
       "  </tbody>\n",
       "</table>\n",
       "</div>"
      ],
      "text/plain": [
       "                                                                                                                                                                                                        text  \\\n",
       "0   High quality falafel that doesn’t come from a cart on the side of the road?! Yes, it exists, and it exists at Taim. Highly recommended - even if you’re new to falafel.                                    \n",
       "1   If you are in the West Village and you choose to go to a nationwide chain coffee shop instead of 11th Street Cafe, then you are everything that is wrong with the world. This place is AWESOME!!!          \n",
       "2   A+! The New Whitney is MUCH more accessible and easier to navigate than the city’s other famous museums like the Met. I’m a big fan. If you’re on a budget: there’s free admission on Friday nights        \n",
       "3   I had the wings and they blew my mind. Plus, Leah (the owner) is pretty awesome, so you should definitely check it out!                                                                                    \n",
       "4   Everything here is fantastic! I’ve ordered half the menu and never been disappointed. My favorite is the spaghetti & meatballs (only served on Sundays). The spicy sauce takes it to the next level!       \n",
       "5   A+ Italian food! Trust me on this: my mom’s side of the family is 100% Italian. I was born and bred to know good pasta when I see it, and Ecco is one of my all-time NYC favorites                         \n",
       "6   THE spot for breakfast in the West Village. I recommend ordering the healthy treat. If you don’t like it, then you have no soul.                                                                           \n",
       "7   Get the vegan peanut butter bar. It’s like sex in your mouth.                                                                                                                                              \n",
       "8   My go-to for coffee and a breakfast sandwich in the mornings. That actually undersells this place - EVERYTHING is good. Lunch, pasta, desserts, wine. I’ve never been disappointed here.                   \n",
       "9   This is the real deal. Stuff like this is why I moved to NYC. I bet half of the guys who play here could have gone pro. Do NOT bring your cousin Jimmy (who never played before) unless you like losing!   \n",
       "10  The High Line is pretty cool. The only thing not to like is that it’s so good that everyone comes here and it gets too crowded. Check it out on a weekday morning or at night to dodge the crowds.         \n",
       "11  The best running path in the city, hands down. It’s never too crowded (like Central Park can be) and you can run for miles without needing to stop for a traffic light. Way better than a treadmill!       \n",
       "12  I never thought to go to Brooklyn when I visited NY years ago, but after moving here and spending time in every borough, I developed a serious appreciation for Kings County. Make this your first stop!   \n",
       "\n",
       "    agreeCount  disagreeCount                        id  \n",
       "0   6           0              5ab2771a7dc9e17930670085  \n",
       "1   3           0              5ab1daf0da5e5617d1da3c7d  \n",
       "2   5           0              5ab1d649464d655c24fc144f  \n",
       "3   1           0              5ab1d0a5c666662673a11799  \n",
       "4   6           0              5ab1cbe467f62b57ee6beaa9  \n",
       "5   4           0              5ab1cb46c9a517174651d3fe  \n",
       "6   5           0              5ab1af48f79faa4bc867de78  \n",
       "7   1           0              5ab1ad2847f8767a8ca88fc1  \n",
       "8   2           0              5ab1acbba6ec980645fd7512  \n",
       "9   1           0              5ab1a316a8eb606122a3b755  \n",
       "10  10          0              5ab19f6849281477a8be2dab  \n",
       "11  2           0              5ab19e9dd0336060277b2c5e  \n",
       "12  2           0              5ab19d73a30619795f3f1204  "
      ]
     },
     "execution_count": 24,
     "metadata": {},
     "output_type": "execute_result"
    }
   ],
   "source": [
    "# define tips URL\n",
    "user_id='484542633'\n",
    "url = 'https://api.foursquare.com/v2/users/{}/tips?client_id={}&client_secret={}&oauth_token={}&v={}&limit={}'.format(user_id, CLIENT_ID, CLIENT_SECRET,ACCESS_TOKEN,VERSION, limit)\n",
    "\n",
    "# send GET request and get user's tips\n",
    "results = requests.get(url).json()\n",
    "tips = results['response']['tips']['items']\n",
    "\n",
    "# format column width\n",
    "pd.set_option('display.max_colwidth', -1)\n",
    "\n",
    "tips_df = json_normalize(tips)\n",
    "\n",
    "# filter columns\n",
    "filtered_columns = ['text', 'agreeCount', 'disagreeCount', 'id']\n",
    "tips_filtered = tips_df.loc[:, filtered_columns]\n",
    "\n",
    "# display user's tips\n",
    "tips_filtered"
   ]
  },
  {
   "cell_type": "markdown",
   "metadata": {
    "button": false,
    "new_sheet": false,
    "run_control": {
     "read_only": false
    }
   },
   "source": [
    "#### Let's get the venue for the tip with the greatest number of agree counts\n"
   ]
  },
  {
   "cell_type": "code",
   "execution_count": 25,
   "metadata": {
    "button": false,
    "collapsed": false,
    "jupyter": {
     "outputs_hidden": false
    },
    "new_sheet": false,
    "run_control": {
     "read_only": false
    }
   },
   "outputs": [
    {
     "name": "stdout",
     "output_type": "stream",
     "text": [
      "Taïm\n",
      "{'address': '222 Waverly Pl', 'crossStreet': 'btwn Perry & W 11th St', 'lat': 40.735970102491926, 'lng': -74.00194019079207, 'labeledLatLngs': [{'label': 'display', 'lat': 40.735970102491926, 'lng': -74.00194019079207}, {'label': 'entrance', 'lat': 40.735887, 'lng': -74.001873}], 'postalCode': '10014', 'cc': 'US', 'neighborhood': 'West Village', 'city': 'New York', 'state': 'NY', 'country': 'United States', 'formattedAddress': ['222 Waverly Pl (btwn Perry & W 11th St)', 'New York, NY 10014', 'United States']}\n"
     ]
    }
   ],
   "source": [
    "tip_id = '5ab19f6849281477a8be2dab' # tip id\n",
    "#tip_id = '5ab5575d73fe2516ad8f363b' # tip id\n",
    "# define URL\n",
    "url = 'https://api.foursquare.com/v2/users/{}/tips?client_id={}&client_secret={}&oauth_token={}&v={}'.format(idnumber, CLIENT_ID, CLIENT_SECRET,ACCESS_TOKEN, VERSION) # define URL\n",
    "\n",
    "\n",
    "# send GET Request and examine results\n",
    "result = requests.get(url).json()\n",
    "print(result['response']['tips']['items'][0]['venue']['name'])\n",
    "print(result['response']['tips']['items'][0]['venue']['location'])"
   ]
  },
  {
   "cell_type": "markdown",
   "metadata": {
    "button": false,
    "new_sheet": false,
    "run_control": {
     "read_only": false
    }
   },
   "source": [
    "## 4. Explore a location\n",
    "\n",
    "> `https://api.foursquare.com/v2/venues/`**explore**`?client_id=`**CLIENT_ID**`&client_secret=`**CLIENT_SECRET**`&ll=`**LATITUDE**`,`**LONGITUDE**`&v=`**VERSION**`&limit=`**LIMIT**\n"
   ]
  },
  {
   "cell_type": "markdown",
   "metadata": {
    "button": false,
    "new_sheet": false,
    "run_control": {
     "read_only": false
    }
   },
   "source": [
    "#### So, you just finished your gourmet dish at Ecco, and are just curious about the popular spots around the restaurant. In order to explore the area, let's start by getting the latitude and longitude values of Ecco Restaurant.\n"
   ]
  },
  {
   "cell_type": "code",
   "execution_count": 26,
   "metadata": {
    "button": false,
    "new_sheet": false,
    "run_control": {
     "read_only": false
    }
   },
   "outputs": [],
   "source": [
    "latitude = 40.715337\n",
    "longitude = -74.008848"
   ]
  },
  {
   "cell_type": "markdown",
   "metadata": {
    "button": false,
    "new_sheet": false,
    "run_control": {
     "read_only": false
    }
   },
   "source": [
    "#### Define URL\n"
   ]
  },
  {
   "cell_type": "code",
   "execution_count": 27,
   "metadata": {
    "button": false,
    "collapsed": false,
    "jupyter": {
     "outputs_hidden": false
    },
    "new_sheet": false,
    "run_control": {
     "read_only": false
    }
   },
   "outputs": [
    {
     "data": {
      "text/plain": [
       "'https://api.foursquare.com/v2/venues/explore?client_id=K0YJE53R5XLTTURZJO2NLV3EXWMPXBMCHXSTIBFRQ4D2VGQR&client_secret=ZQLNWJXXYOHS1OYZAEFAEZDZFNS12WQ0NUWJL4B2HV5BRZFO&ll=40.715337,-74.008848&v=20180604&radius=5000&limit=30'"
      ]
     },
     "execution_count": 27,
     "metadata": {},
     "output_type": "execute_result"
    }
   ],
   "source": [
    "url = 'https://api.foursquare.com/v2/venues/explore?client_id={}&client_secret={}&ll={},{}&v={}&radius={}&limit={}'.format(CLIENT_ID, CLIENT_SECRET, latitude, longitude, VERSION, radius, LIMIT)\n",
    "url"
   ]
  },
  {
   "cell_type": "markdown",
   "metadata": {
    "button": false,
    "new_sheet": false,
    "run_control": {
     "read_only": false
    }
   },
   "source": [
    "#### Send GET request and examine results\n"
   ]
  },
  {
   "cell_type": "code",
   "execution_count": 28,
   "metadata": {
    "button": false,
    "new_sheet": false,
    "run_control": {
     "read_only": false
    }
   },
   "outputs": [],
   "source": [
    "import requests"
   ]
  },
  {
   "cell_type": "code",
   "execution_count": 29,
   "metadata": {
    "button": false,
    "collapsed": false,
    "jupyter": {
     "outputs_hidden": false
    },
    "new_sheet": false,
    "run_control": {
     "read_only": false
    }
   },
   "outputs": [
    {
     "data": {
      "text/plain": [
       "'There are 30 around Ecco restaurant.'"
      ]
     },
     "execution_count": 29,
     "metadata": {},
     "output_type": "execute_result"
    }
   ],
   "source": [
    "results = requests.get(url).json()\n",
    "'There are {} around Ecco restaurant.'.format(len(results['response']['groups'][0]['items']))"
   ]
  },
  {
   "cell_type": "markdown",
   "metadata": {
    "button": false,
    "new_sheet": false,
    "run_control": {
     "read_only": false
    }
   },
   "source": [
    "#### Get relevant part of JSON\n"
   ]
  },
  {
   "cell_type": "code",
   "execution_count": 30,
   "metadata": {
    "button": false,
    "collapsed": false,
    "jupyter": {
     "outputs_hidden": false
    },
    "new_sheet": false,
    "run_control": {
     "read_only": false
    }
   },
   "outputs": [
    {
     "data": {
      "text/plain": [
       "{'reasons': {'count': 0,\n",
       "  'items': [{'summary': 'This spot is popular',\n",
       "    'type': 'general',\n",
       "    'reasonName': 'globalInteractionReason'}]},\n",
       " 'venue': {'id': '4af5d65ff964a52091fd21e3',\n",
       "  'name': 'Korin',\n",
       "  'location': {'address': '57 Warren St',\n",
       "   'crossStreet': 'Church St',\n",
       "   'lat': 40.71482437714839,\n",
       "   'lng': -74.00940425461492,\n",
       "   'labeledLatLngs': [{'label': 'display',\n",
       "     'lat': 40.71482437714839,\n",
       "     'lng': -74.00940425461492},\n",
       "    {'label': 'entrance', 'lat': 40.714727, 'lng': -74.009399}],\n",
       "   'distance': 73,\n",
       "   'postalCode': '10007',\n",
       "   'cc': 'US',\n",
       "   'neighborhood': 'Tribeca',\n",
       "   'city': 'New York',\n",
       "   'state': 'NY',\n",
       "   'country': 'United States',\n",
       "   'formattedAddress': ['57 Warren St (Church St)',\n",
       "    'New York, NY 10007',\n",
       "    'United States']},\n",
       "  'categories': [{'id': '4bf58dd8d48988d1f8941735',\n",
       "    'name': 'Furniture / Home Store',\n",
       "    'pluralName': 'Furniture / Home Stores',\n",
       "    'shortName': 'Furniture / Home',\n",
       "    'icon': {'prefix': 'https://ss3.4sqi.net/img/categories_v2/shops/furniture_',\n",
       "     'suffix': '.png'},\n",
       "    'primary': True}],\n",
       "  'photos': {'count': 0, 'groups': []},\n",
       "  'venuePage': {'id': '33104775'}},\n",
       " 'referralId': 'e-0-4af5d65ff964a52091fd21e3-0'}"
      ]
     },
     "execution_count": 30,
     "metadata": {},
     "output_type": "execute_result"
    }
   ],
   "source": [
    "items = results['response']['groups'][0]['items']\n",
    "items[0]"
   ]
  },
  {
   "cell_type": "markdown",
   "metadata": {
    "button": false,
    "new_sheet": false,
    "run_control": {
     "read_only": false
    }
   },
   "source": [
    "#### Process JSON and convert it to a clean dataframe\n"
   ]
  },
  {
   "cell_type": "code",
   "execution_count": 31,
   "metadata": {
    "button": false,
    "collapsed": false,
    "jupyter": {
     "outputs_hidden": false
    },
    "new_sheet": false,
    "run_control": {
     "read_only": false
    }
   },
   "outputs": [
    {
     "name": "stderr",
     "output_type": "stream",
     "text": [
      "/home/jupyterlab/conda/envs/python/lib/python3.6/site-packages/ipykernel_launcher.py:1: FutureWarning: pandas.io.json.json_normalize is deprecated, use pandas.json_normalize instead\n",
      "  \"\"\"Entry point for launching an IPython kernel.\n"
     ]
    },
    {
     "data": {
      "text/html": [
       "<div>\n",
       "<style scoped>\n",
       "    .dataframe tbody tr th:only-of-type {\n",
       "        vertical-align: middle;\n",
       "    }\n",
       "\n",
       "    .dataframe tbody tr th {\n",
       "        vertical-align: top;\n",
       "    }\n",
       "\n",
       "    .dataframe thead th {\n",
       "        text-align: right;\n",
       "    }\n",
       "</style>\n",
       "<table border=\"1\" class=\"dataframe\">\n",
       "  <thead>\n",
       "    <tr style=\"text-align: right;\">\n",
       "      <th></th>\n",
       "      <th>name</th>\n",
       "      <th>categories</th>\n",
       "      <th>address</th>\n",
       "      <th>crossStreet</th>\n",
       "      <th>lat</th>\n",
       "      <th>lng</th>\n",
       "      <th>labeledLatLngs</th>\n",
       "      <th>distance</th>\n",
       "      <th>postalCode</th>\n",
       "      <th>cc</th>\n",
       "      <th>neighborhood</th>\n",
       "      <th>city</th>\n",
       "      <th>state</th>\n",
       "      <th>country</th>\n",
       "      <th>formattedAddress</th>\n",
       "      <th>id</th>\n",
       "    </tr>\n",
       "  </thead>\n",
       "  <tbody>\n",
       "    <tr>\n",
       "      <th>0</th>\n",
       "      <td>Korin</td>\n",
       "      <td>Furniture / Home Store</td>\n",
       "      <td>57 Warren St</td>\n",
       "      <td>Church St</td>\n",
       "      <td>40.714824</td>\n",
       "      <td>-74.009404</td>\n",
       "      <td>[{'label': 'display', 'lat': 40.71482437714839, 'lng': -74.00940425461492}, {'label': 'entrance', 'lat': 40.714727, 'lng': -74.009399}]</td>\n",
       "      <td>73</td>\n",
       "      <td>10007</td>\n",
       "      <td>US</td>\n",
       "      <td>Tribeca</td>\n",
       "      <td>New York</td>\n",
       "      <td>NY</td>\n",
       "      <td>United States</td>\n",
       "      <td>[57 Warren St (Church St), New York, NY 10007, United States]</td>\n",
       "      <td>4af5d65ff964a52091fd21e3</td>\n",
       "    </tr>\n",
       "    <tr>\n",
       "      <th>1</th>\n",
       "      <td>Washington Market Park</td>\n",
       "      <td>Playground</td>\n",
       "      <td>Greenwich St</td>\n",
       "      <td>at Reade St</td>\n",
       "      <td>40.717046</td>\n",
       "      <td>-74.011095</td>\n",
       "      <td>[{'label': 'display', 'lat': 40.71704598853704, 'lng': -74.01109457015991}]</td>\n",
       "      <td>268</td>\n",
       "      <td>NaN</td>\n",
       "      <td>US</td>\n",
       "      <td>NaN</td>\n",
       "      <td>New York</td>\n",
       "      <td>NY</td>\n",
       "      <td>United States</td>\n",
       "      <td>[Greenwich St (at Reade St), New York, NY, United States]</td>\n",
       "      <td>4a9bcc2ff964a5203b3520e3</td>\n",
       "    </tr>\n",
       "    <tr>\n",
       "      <th>2</th>\n",
       "      <td>Four Seasons Hotel New York Downtown</td>\n",
       "      <td>Hotel</td>\n",
       "      <td>27 Barclay St</td>\n",
       "      <td>Broadway</td>\n",
       "      <td>40.712612</td>\n",
       "      <td>-74.009380</td>\n",
       "      <td>[{'label': 'display', 'lat': 40.71261246501983, 'lng': -74.00938032087628}]</td>\n",
       "      <td>306</td>\n",
       "      <td>10007</td>\n",
       "      <td>US</td>\n",
       "      <td>NaN</td>\n",
       "      <td>New York</td>\n",
       "      <td>NY</td>\n",
       "      <td>United States</td>\n",
       "      <td>[27 Barclay St (Broadway), New York, NY 10007, United States]</td>\n",
       "      <td>57c640ad498e74977f98372f</td>\n",
       "    </tr>\n",
       "    <tr>\n",
       "      <th>3</th>\n",
       "      <td>Aire Ancient Baths</td>\n",
       "      <td>Spa</td>\n",
       "      <td>88 Franklin St</td>\n",
       "      <td>at Church St</td>\n",
       "      <td>40.718141</td>\n",
       "      <td>-74.004941</td>\n",
       "      <td>[{'label': 'display', 'lat': 40.718141411641234, 'lng': -74.00494121234846}, {'label': 'entrance', 'lat': 40.718134, 'lng': -74.004846}]</td>\n",
       "      <td>453</td>\n",
       "      <td>10013</td>\n",
       "      <td>US</td>\n",
       "      <td>NaN</td>\n",
       "      <td>New York</td>\n",
       "      <td>NY</td>\n",
       "      <td>United States</td>\n",
       "      <td>[88 Franklin St (at Church St), New York, NY 10013, United States]</td>\n",
       "      <td>4fbbd9ede4b0756c0d4c2364</td>\n",
       "    </tr>\n",
       "    <tr>\n",
       "      <th>4</th>\n",
       "      <td>The Bar Room at Temple Court</td>\n",
       "      <td>Hotel Bar</td>\n",
       "      <td>123 Nassau St</td>\n",
       "      <td>NaN</td>\n",
       "      <td>40.711448</td>\n",
       "      <td>-74.006802</td>\n",
       "      <td>[{'label': 'display', 'lat': 40.7114477287544, 'lng': -74.00680157032005}]</td>\n",
       "      <td>466</td>\n",
       "      <td>10038</td>\n",
       "      <td>US</td>\n",
       "      <td>Financial District</td>\n",
       "      <td>New York</td>\n",
       "      <td>NY</td>\n",
       "      <td>United States</td>\n",
       "      <td>[123 Nassau St, New York, NY 10038, United States]</td>\n",
       "      <td>57f0689d498e7d49d9189369</td>\n",
       "    </tr>\n",
       "    <tr>\n",
       "      <th>5</th>\n",
       "      <td>9/11 Memorial North Pool</td>\n",
       "      <td>Memorial Site</td>\n",
       "      <td>West St</td>\n",
       "      <td>at Fulton St</td>\n",
       "      <td>40.712077</td>\n",
       "      <td>-74.013187</td>\n",
       "      <td>[{'label': 'display', 'lat': 40.71207726282092, 'lng': -74.01318669319153}]</td>\n",
       "      <td>515</td>\n",
       "      <td>NaN</td>\n",
       "      <td>US</td>\n",
       "      <td>NaN</td>\n",
       "      <td>New York</td>\n",
       "      <td>NY</td>\n",
       "      <td>United States</td>\n",
       "      <td>[West St (at Fulton St), New York, NY, United States]</td>\n",
       "      <td>58801864cc5b6a14dedce689</td>\n",
       "    </tr>\n",
       "    <tr>\n",
       "      <th>6</th>\n",
       "      <td>Pier 25 - Hudson River Park</td>\n",
       "      <td>Park</td>\n",
       "      <td>West Side Highway</td>\n",
       "      <td>at N Moore St</td>\n",
       "      <td>40.720193</td>\n",
       "      <td>-74.012950</td>\n",
       "      <td>[{'label': 'display', 'lat': 40.72019260471762, 'lng': -74.01295032920208}]</td>\n",
       "      <td>641</td>\n",
       "      <td>10013</td>\n",
       "      <td>US</td>\n",
       "      <td>NaN</td>\n",
       "      <td>New York</td>\n",
       "      <td>NY</td>\n",
       "      <td>United States</td>\n",
       "      <td>[West Side Highway (at N Moore St), New York, NY 10013, United States]</td>\n",
       "      <td>4ba0e4e3f964a520498537e3</td>\n",
       "    </tr>\n",
       "    <tr>\n",
       "      <th>7</th>\n",
       "      <td>9/11 Memorial South Pool</td>\n",
       "      <td>Memorial Site</td>\n",
       "      <td>West St</td>\n",
       "      <td>at Liberty St</td>\n",
       "      <td>40.711039</td>\n",
       "      <td>-74.013082</td>\n",
       "      <td>[{'label': 'display', 'lat': 40.711039, 'lng': -74.013082}]</td>\n",
       "      <td>597</td>\n",
       "      <td>10007</td>\n",
       "      <td>US</td>\n",
       "      <td>NaN</td>\n",
       "      <td>New York</td>\n",
       "      <td>NY</td>\n",
       "      <td>United States</td>\n",
       "      <td>[West St (at Liberty St), New York, NY 10007, United States]</td>\n",
       "      <td>587ffcc3ea29b80cdce3468d</td>\n",
       "    </tr>\n",
       "    <tr>\n",
       "      <th>8</th>\n",
       "      <td>Nelson A. Rockefeller Park</td>\n",
       "      <td>Park</td>\n",
       "      <td>North end of Battery Park City &amp; West of River Terrace</td>\n",
       "      <td>at Warren  St</td>\n",
       "      <td>40.717095</td>\n",
       "      <td>-74.016716</td>\n",
       "      <td>[{'label': 'display', 'lat': 40.717094779422354, 'lng': -74.01671648025513}]</td>\n",
       "      <td>692</td>\n",
       "      <td>10280</td>\n",
       "      <td>US</td>\n",
       "      <td>NaN</td>\n",
       "      <td>New York</td>\n",
       "      <td>NY</td>\n",
       "      <td>United States</td>\n",
       "      <td>[North end of Battery Park City &amp; West of River Terrace (at Warren  St), New York, NY 10280, United States]</td>\n",
       "      <td>4b929790f964a5209a0734e3</td>\n",
       "    </tr>\n",
       "    <tr>\n",
       "      <th>9</th>\n",
       "      <td>Pier 26 - Hudson River Park</td>\n",
       "      <td>Park</td>\n",
       "      <td>West St</td>\n",
       "      <td>at Beach St</td>\n",
       "      <td>40.720947</td>\n",
       "      <td>-74.012948</td>\n",
       "      <td>[{'label': 'display', 'lat': 40.72094711352765, 'lng': -74.0129479765892}]</td>\n",
       "      <td>713</td>\n",
       "      <td>10013</td>\n",
       "      <td>US</td>\n",
       "      <td>NaN</td>\n",
       "      <td>New York</td>\n",
       "      <td>NY</td>\n",
       "      <td>United States</td>\n",
       "      <td>[West St (at Beach St), New York, NY 10013, United States]</td>\n",
       "      <td>4ba0e528f964a5205c8537e3</td>\n",
       "    </tr>\n",
       "  </tbody>\n",
       "</table>\n",
       "</div>"
      ],
      "text/plain": [
       "                                   name              categories  \\\n",
       "0  Korin                                 Furniture / Home Store   \n",
       "1  Washington Market Park                Playground               \n",
       "2  Four Seasons Hotel New York Downtown  Hotel                    \n",
       "3  Aire Ancient Baths                    Spa                      \n",
       "4  The Bar Room at Temple Court          Hotel Bar                \n",
       "5  9/11 Memorial North Pool              Memorial Site            \n",
       "6  Pier 25 - Hudson River Park           Park                     \n",
       "7  9/11 Memorial South Pool              Memorial Site            \n",
       "8  Nelson A. Rockefeller Park            Park                     \n",
       "9  Pier 26 - Hudson River Park           Park                     \n",
       "\n",
       "                                                  address    crossStreet  \\\n",
       "0  57 Warren St                                            Church St       \n",
       "1  Greenwich St                                            at Reade St     \n",
       "2  27 Barclay St                                           Broadway        \n",
       "3  88 Franklin St                                          at Church St    \n",
       "4  123 Nassau St                                           NaN             \n",
       "5  West St                                                 at Fulton St    \n",
       "6  West Side Highway                                       at N Moore St   \n",
       "7  West St                                                 at Liberty St   \n",
       "8  North end of Battery Park City & West of River Terrace  at Warren  St   \n",
       "9  West St                                                 at Beach St     \n",
       "\n",
       "         lat        lng  \\\n",
       "0  40.714824 -74.009404   \n",
       "1  40.717046 -74.011095   \n",
       "2  40.712612 -74.009380   \n",
       "3  40.718141 -74.004941   \n",
       "4  40.711448 -74.006802   \n",
       "5  40.712077 -74.013187   \n",
       "6  40.720193 -74.012950   \n",
       "7  40.711039 -74.013082   \n",
       "8  40.717095 -74.016716   \n",
       "9  40.720947 -74.012948   \n",
       "\n",
       "                                                                                                                             labeledLatLngs  \\\n",
       "0  [{'label': 'display', 'lat': 40.71482437714839, 'lng': -74.00940425461492}, {'label': 'entrance', 'lat': 40.714727, 'lng': -74.009399}]    \n",
       "1  [{'label': 'display', 'lat': 40.71704598853704, 'lng': -74.01109457015991}]                                                                \n",
       "2  [{'label': 'display', 'lat': 40.71261246501983, 'lng': -74.00938032087628}]                                                                \n",
       "3  [{'label': 'display', 'lat': 40.718141411641234, 'lng': -74.00494121234846}, {'label': 'entrance', 'lat': 40.718134, 'lng': -74.004846}]   \n",
       "4  [{'label': 'display', 'lat': 40.7114477287544, 'lng': -74.00680157032005}]                                                                 \n",
       "5  [{'label': 'display', 'lat': 40.71207726282092, 'lng': -74.01318669319153}]                                                                \n",
       "6  [{'label': 'display', 'lat': 40.72019260471762, 'lng': -74.01295032920208}]                                                                \n",
       "7  [{'label': 'display', 'lat': 40.711039, 'lng': -74.013082}]                                                                                \n",
       "8  [{'label': 'display', 'lat': 40.717094779422354, 'lng': -74.01671648025513}]                                                               \n",
       "9  [{'label': 'display', 'lat': 40.72094711352765, 'lng': -74.0129479765892}]                                                                 \n",
       "\n",
       "   distance postalCode  cc        neighborhood      city state        country  \\\n",
       "0  73        10007      US  Tribeca             New York  NY    United States   \n",
       "1  268       NaN        US  NaN                 New York  NY    United States   \n",
       "2  306       10007      US  NaN                 New York  NY    United States   \n",
       "3  453       10013      US  NaN                 New York  NY    United States   \n",
       "4  466       10038      US  Financial District  New York  NY    United States   \n",
       "5  515       NaN        US  NaN                 New York  NY    United States   \n",
       "6  641       10013      US  NaN                 New York  NY    United States   \n",
       "7  597       10007      US  NaN                 New York  NY    United States   \n",
       "8  692       10280      US  NaN                 New York  NY    United States   \n",
       "9  713       10013      US  NaN                 New York  NY    United States   \n",
       "\n",
       "                                                                                              formattedAddress  \\\n",
       "0  [57 Warren St (Church St), New York, NY 10007, United States]                                                 \n",
       "1  [Greenwich St (at Reade St), New York, NY, United States]                                                     \n",
       "2  [27 Barclay St (Broadway), New York, NY 10007, United States]                                                 \n",
       "3  [88 Franklin St (at Church St), New York, NY 10013, United States]                                            \n",
       "4  [123 Nassau St, New York, NY 10038, United States]                                                            \n",
       "5  [West St (at Fulton St), New York, NY, United States]                                                         \n",
       "6  [West Side Highway (at N Moore St), New York, NY 10013, United States]                                        \n",
       "7  [West St (at Liberty St), New York, NY 10007, United States]                                                  \n",
       "8  [North end of Battery Park City & West of River Terrace (at Warren  St), New York, NY 10280, United States]   \n",
       "9  [West St (at Beach St), New York, NY 10013, United States]                                                    \n",
       "\n",
       "                         id  \n",
       "0  4af5d65ff964a52091fd21e3  \n",
       "1  4a9bcc2ff964a5203b3520e3  \n",
       "2  57c640ad498e74977f98372f  \n",
       "3  4fbbd9ede4b0756c0d4c2364  \n",
       "4  57f0689d498e7d49d9189369  \n",
       "5  58801864cc5b6a14dedce689  \n",
       "6  4ba0e4e3f964a520498537e3  \n",
       "7  587ffcc3ea29b80cdce3468d  \n",
       "8  4b929790f964a5209a0734e3  \n",
       "9  4ba0e528f964a5205c8537e3  "
      ]
     },
     "execution_count": 31,
     "metadata": {},
     "output_type": "execute_result"
    }
   ],
   "source": [
    "dataframe = json_normalize(items) # flatten JSON\n",
    "\n",
    "# filter columns\n",
    "filtered_columns = ['venue.name', 'venue.categories'] + [col for col in dataframe.columns if col.startswith('venue.location.')] + ['venue.id']\n",
    "dataframe_filtered = dataframe.loc[:, filtered_columns]\n",
    "\n",
    "# filter the category for each row\n",
    "dataframe_filtered['venue.categories'] = dataframe_filtered.apply(get_category_type, axis=1)\n",
    "\n",
    "# clean columns\n",
    "dataframe_filtered.columns = [col.split('.')[-1] for col in dataframe_filtered.columns]\n",
    "\n",
    "dataframe_filtered.head(10)"
   ]
  },
  {
   "cell_type": "markdown",
   "metadata": {
    "button": false,
    "new_sheet": false,
    "run_control": {
     "read_only": false
    }
   },
   "source": [
    "#### Let's visualize these items on the map around our location\n"
   ]
  },
  {
   "cell_type": "code",
   "execution_count": 32,
   "metadata": {
    "button": false,
    "collapsed": false,
    "jupyter": {
     "outputs_hidden": false
    },
    "new_sheet": false,
    "run_control": {
     "read_only": false
    },
    "scrolled": true
   },
   "outputs": [
    {
     "data": {
      "text/html": [
       "<div style=\"width:100%;\"><div style=\"position:relative;width:100%;height:0;padding-bottom:60%;\"><span style=\"color:#565656\">Make this Notebook Trusted to load map: File -> Trust Notebook</span><iframe src=\"about:blank\" style=\"position:absolute;width:100%;height:100%;left:0;top:0;border:none !important;\" data-html=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 onload=\"this.contentDocument.open();this.contentDocument.write(atob(this.getAttribute('data-html')));this.contentDocument.close();\" allowfullscreen webkitallowfullscreen mozallowfullscreen></iframe></div></div>"
      ],
      "text/plain": [
       "<folium.folium.Map at 0x7fe6e7bb5e80>"
      ]
     },
     "execution_count": 32,
     "metadata": {},
     "output_type": "execute_result"
    }
   ],
   "source": [
    "venues_map = folium.Map(location=[latitude, longitude], zoom_start=15) # generate map centred around Ecco\n",
    "\n",
    "\n",
    "# add Ecco as a red circle mark\n",
    "folium.CircleMarker(\n",
    "    [latitude, longitude],\n",
    "    radius=10,\n",
    "    popup='Ecco',\n",
    "    fill=True,\n",
    "    color='red',\n",
    "    fill_color='red',\n",
    "    fill_opacity=0.6\n",
    "    ).add_to(venues_map)\n",
    "\n",
    "\n",
    "# add popular spots to the map as blue circle markers\n",
    "for lat, lng, label in zip(dataframe_filtered.lat, dataframe_filtered.lng, dataframe_filtered.categories):\n",
    "    folium.CircleMarker(\n",
    "        [lat, lng],\n",
    "        radius=5,\n",
    "        popup=label,\n",
    "        fill=True,\n",
    "        color='blue',\n",
    "        fill_color='blue',\n",
    "        fill_opacity=0.6\n",
    "        ).add_to(venues_map)\n",
    "\n",
    "# display map\n",
    "venues_map"
   ]
  },
  {
   "cell_type": "markdown",
   "metadata": {
    "button": false,
    "new_sheet": false,
    "run_control": {
     "read_only": false
    }
   },
   "source": [
    "\n"
   ]
  },
  {
   "cell_type": "markdown",
   "metadata": {
    "button": false,
    "new_sheet": false,
    "run_control": {
     "read_only": false
    }
   },
   "source": [
    "<a id=\"item5\"></a>\n"
   ]
  },
  {
   "cell_type": "markdown",
   "metadata": {
    "button": false,
    "new_sheet": false,
    "run_control": {
     "read_only": false
    }
   },
   "source": [
    "## 5. Explore Trending Venues\n",
    "\n",
    "> `https://api.foursquare.com/v2/venues/`**trending**`?client_id=`**CLIENT_ID**`&client_secret=`**CLIENT_SECRET**`&ll=`**LATITUDE**`,`**LONGITUDE**`&v=`**VERSION**\n"
   ]
  },
  {
   "cell_type": "markdown",
   "metadata": {
    "button": false,
    "new_sheet": false,
    "run_control": {
     "read_only": false
    }
   },
   "source": [
    "#### Now, instead of simply exploring the area around Ecco, you are interested in knowing the venues that are trending at the time you are done with your lunch, meaning the places with the highest foot traffic. So let's do that and get the trending venues around Ecco.\n"
   ]
  },
  {
   "cell_type": "code",
   "execution_count": 33,
   "metadata": {
    "button": false,
    "collapsed": false,
    "jupyter": {
     "outputs_hidden": false
    },
    "new_sheet": false,
    "run_control": {
     "read_only": false
    }
   },
   "outputs": [
    {
     "data": {
      "text/plain": [
       "{'meta': {'code': 200, 'requestId': '606b387f749e75020fb3524c'},\n",
       " 'response': {'venues': []}}"
      ]
     },
     "execution_count": 33,
     "metadata": {},
     "output_type": "execute_result"
    }
   ],
   "source": [
    "# define URL\n",
    "url = 'https://api.foursquare.com/v2/venues/trending?client_id={}&client_secret={}&ll={},{}&v={}'.format(CLIENT_ID, CLIENT_SECRET, latitude, longitude, VERSION)\n",
    "\n",
    "# send GET request and get trending venues\n",
    "results = requests.get(url).json()\n",
    "results"
   ]
  },
  {
   "cell_type": "markdown",
   "metadata": {
    "button": false,
    "new_sheet": false,
    "run_control": {
     "read_only": false
    }
   },
   "source": [
    "### Check if any venues are trending at this time\n"
   ]
  },
  {
   "cell_type": "code",
   "execution_count": 34,
   "metadata": {
    "button": false,
    "new_sheet": false,
    "run_control": {
     "read_only": false
    }
   },
   "outputs": [],
   "source": [
    "if len(results['response']['venues']) == 0:\n",
    "    trending_venues_df = 'No trending venues are available at the moment!'\n",
    "    \n",
    "else:\n",
    "    trending_venues = results['response']['venues']\n",
    "    trending_venues_df = json_normalize(trending_venues)\n",
    "\n",
    "    # filter columns\n",
    "    columns_filtered = ['name', 'categories'] + ['location.distance', 'location.city', 'location.postalCode', 'location.state', 'location.country', 'location.lat', 'location.lng']\n",
    "    trending_venues_df = trending_venues_df.loc[:, columns_filtered]\n",
    "\n",
    "    # filter the category for each row\n",
    "    trending_venues_df['categories'] = trending_venues_df.apply(get_category_type, axis=1)"
   ]
  },
  {
   "cell_type": "code",
   "execution_count": 35,
   "metadata": {
    "button": false,
    "collapsed": false,
    "jupyter": {
     "outputs_hidden": false
    },
    "new_sheet": false,
    "run_control": {
     "read_only": false
    }
   },
   "outputs": [
    {
     "data": {
      "text/plain": [
       "'No trending venues are available at the moment!'"
      ]
     },
     "execution_count": 35,
     "metadata": {},
     "output_type": "execute_result"
    }
   ],
   "source": [
    "# display trending venues\n",
    "trending_venues_df"
   ]
  },
  {
   "cell_type": "markdown",
   "metadata": {
    "button": false,
    "new_sheet": false,
    "run_control": {
     "read_only": false
    }
   },
   "source": [
    "Now, depending on when you run the above code, you might get different venues since the venues with the highest foot traffic are fetched live. \n"
   ]
  },
  {
   "cell_type": "markdown",
   "metadata": {
    "button": false,
    "new_sheet": false,
    "run_control": {
     "read_only": false
    }
   },
   "source": [
    "### Visualize trending venues\n"
   ]
  },
  {
   "cell_type": "code",
   "execution_count": 36,
   "metadata": {
    "button": false,
    "collapsed": false,
    "jupyter": {
     "outputs_hidden": false
    },
    "new_sheet": false,
    "run_control": {
     "read_only": false
    }
   },
   "outputs": [],
   "source": [
    "if len(results['response']['venues']) == 0:\n",
    "    venues_map = 'Cannot generate visual as no trending venues are available at the moment!'\n",
    "\n",
    "else:\n",
    "    venues_map = folium.Map(location=[latitude, longitude], zoom_start=15) # generate map centred around Ecco\n",
    "\n",
    "\n",
    "    # add Ecco as a red circle mark\n",
    "    folium.CircleMarker(\n",
    "        [latitude, longitude],\n",
    "        radius=10,\n",
    "        popup='Ecco',\n",
    "        fill=True,\n",
    "        color='red',\n",
    "        fill_color='red',\n",
    "        fill_opacity=0.6\n",
    "    ).add_to(venues_map)\n",
    "\n",
    "\n",
    "    # add the trending venues as blue circle markers\n",
    "    for lat, lng, label in zip(trending_venues_df['location.lat'], trending_venues_df['location.lng'], trending_venues_df['name']):\n",
    "        folium.CircleMarker(\n",
    "            [lat, lng],\n",
    "            radius=5,\n",
    "            poup=label,\n",
    "            fill=True,\n",
    "            color='blue',\n",
    "            fill_color='blue',\n",
    "            fill_opacity=0.6\n",
    "        ).add_to(venues_map)"
   ]
  },
  {
   "cell_type": "code",
   "execution_count": 37,
   "metadata": {
    "button": false,
    "collapsed": false,
    "jupyter": {
     "outputs_hidden": false
    },
    "new_sheet": false,
    "run_control": {
     "read_only": false
    },
    "scrolled": true
   },
   "outputs": [
    {
     "data": {
      "text/plain": [
       "'Cannot generate visual as no trending venues are available at the moment!'"
      ]
     },
     "execution_count": 37,
     "metadata": {},
     "output_type": "execute_result"
    }
   ],
   "source": [
    "# display map\n",
    "venues_map"
   ]
  },
  {
   "cell_type": "markdown",
   "metadata": {
    "button": false,
    "new_sheet": false,
    "run_control": {
     "read_only": false
    }
   },
   "source": [
    "<a id=\"item6\"></a>\n"
   ]
  },
  {
   "cell_type": "markdown",
   "metadata": {
    "button": false,
    "new_sheet": false,
    "run_control": {
     "read_only": false
    }
   },
   "source": [
    "\n"
   ]
  },
  {
   "cell_type": "markdown",
   "metadata": {
    "button": false,
    "new_sheet": false,
    "run_control": {
     "read_only": false
    }
   },
   "source": [
    "### Thank you for completing this lab!\n",
    "\n",
    "This notebook was created by [Alex Aklson](https://www.linkedin.com/in/aklson?cm_mmc=Email_Newsletter-_-Developer_Ed%2BTech-_-WW_WW-_-SkillsNetwork-Courses-IBMDeveloperSkillsNetwork-DS0701EN-SkillsNetwork-21253531&cm_mmca1=000026UJ&cm_mmca2=10006555&cm_mmca3=M12345678&cvosrc=email.Newsletter.M12345678&cvo_campaign=000026UJ&cm_mmc=Email_Newsletter-_-Developer_Ed%2BTech-_-WW_WW-_-SkillsNetwork-Courses-IBMDeveloperSkillsNetwork-DS0701EN-SkillsNetwork-21253531&cm_mmca1=000026UJ&cm_mmca2=10006555&cm_mmca3=M12345678&cvosrc=email.Newsletter.M12345678&cvo_campaign=000026UJ). I hope you found this lab interesting and educational. Feel free to contact me if you have any questions!\n",
    "\n",
    "This notebook modified by Nayef Abou Tayoun ([https://www.linkedin.com/in/nayefaboutayoun/](https://www.linkedin.com/in/nayefaboutayoun?cm_mmc=Email_Newsletter-_-Developer_Ed%2BTech-_-WW_WW-_-SkillsNetwork-Courses-IBMDeveloperSkillsNetwork-DS0701EN-SkillsNetwork-21253531&cm_mmca1=000026UJ&cm_mmca2=10006555&cm_mmca3=M12345678&cvosrc=email.Newsletter.M12345678&cvo_campaign=000026UJ))\n"
   ]
  },
  {
   "cell_type": "markdown",
   "metadata": {
    "button": false,
    "new_sheet": false,
    "run_control": {
     "read_only": false
    }
   },
   "source": [
    "This notebook is part of a course on **Coursera** called _Applied Data Science Capstone_. If you accessed this notebook outside the course, you can take this course online by clicking [here](http://cocl.us/DP0701EN_Coursera_Week2_LAB1).\n"
   ]
  },
  {
   "cell_type": "markdown",
   "metadata": {
    "button": false,
    "new_sheet": false,
    "run_control": {
     "read_only": false
    }
   },
   "source": [
    "## Change Log\n",
    "\n",
    "| Date (YYYY-MM-DD) | Version | Changed By    | Change Description                           |\n",
    "| ----------------- | ------- | ------------- | -------------------------------------------- |\n",
    "| 2021-03-17        | 2.1     | Lakshmi Holla | Changed the code for retreiving user profile |\n",
    "| 2020-11-26        | 2.0     | Lakshmi Holla | Updated the markdown cells                   |\n",
    "|                   |         |               |                                              |\n",
    "|                   |         |               |                                              |\n",
    "\n",
    "## <h3 align=\"center\"> © IBM Corporation 2020. All rights reserved. <h3/>\n"
   ]
  }
 ],
 "metadata": {
  "kernelspec": {
   "display_name": "Python",
   "language": "python",
   "name": "conda-env-python-py"
  },
  "language_info": {
   "codemirror_mode": {
    "name": "ipython",
    "version": 3
   },
   "file_extension": ".py",
   "mimetype": "text/x-python",
   "name": "python",
   "nbconvert_exporter": "python",
   "pygments_lexer": "ipython3",
   "version": "3.6.12"
  },
  "widgets": {
   "state": {},
   "version": "1.1.2"
  }
 },
 "nbformat": 4,
 "nbformat_minor": 4
}
