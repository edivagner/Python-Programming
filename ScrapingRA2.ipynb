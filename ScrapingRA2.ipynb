{
 "cells": [
  {
   "cell_type": "code",
   "execution_count": 1,
   "metadata": {},
   "outputs": [],
   "source": [
    "# !pip install pandas\n",
    "# !pip install requests\n",
    "# !pip install bs4\n",
    "# !pip install plotly"
   ]
  },
  {
   "cell_type": "code",
   "execution_count": 2,
   "metadata": {
    "pycharm": {
     "name": "#%%\n"
    }
   },
   "outputs": [],
   "source": [
    "import re\n",
    "import pandas as pd\n",
    "import requests\n",
    "from bs4 import BeautifulSoup"
   ]
  },
  {
   "cell_type": "code",
   "execution_count": 3,
   "metadata": {
    "pycharm": {
     "name": "#%% Using Webscraping to Extract  Data Use the requests library to download the webpage\n"
    }
   },
   "outputs": [],
   "source": [
    "HEADERS = ({'User-Agent':\n",
    "            'Mozilla/5.0 (X11; Linux x86_64) AppleWebKit/537.36 (KHTML, like Gecko) Chrome/44.0.2403.157 Safari/537.36',\n",
    "            'Accept-Language': 'en-US, en;q=0.5'})\n",
    "\n",
    "URL = \"https://www.reclameaqui.com.br/empresa/norton/lista-reclamacoes/?pagina=31\"\n",
    "\n",
    "# URL = \"https://www.reclameaqui.com.br/empresa/norton/lista-reclamacoes/?pagina=1&status=EVALUATED\"\n",
    "# URL = \"https://www.reclameaqui.com.br/empresa/norton/lista-reclamacoes/?pagina=2&status=EVALUATED\"\n",
    "# URL = \"https://www.reclameaqui.com.br/empresa/norton/lista-reclamacoes/?pagina=3&status=EVALUATED\"\n",
    "\n",
    "html_data = requests.get(URL, headers=HEADERS)"
   ]
  },
  {
   "cell_type": "code",
   "execution_count": 4,
   "metadata": {
    "pycharm": {
     "name": "#%% Parse the html data using beautiful_soup.\n"
    }
   },
   "outputs": [],
   "source": [
    "beautiful_soup = BeautifulSoup(html_data.content, 'html.parser')\n",
    "# print(beautiful_soup.prettify())"
   ]
  },
  {
   "cell_type": "code",
   "execution_count": 5,
   "metadata": {
    "pycharm": {
     "name": "#%%\n"
    }
   },
   "outputs": [
    {
     "data": {
      "text/plain": "<title>Todas as reclamações  - Norton - Reclame Aqui</title>"
     },
     "execution_count": 5,
     "metadata": {},
     "output_type": "execute_result"
    }
   ],
   "source": [
    "beautiful_soup.title\n",
    "\n",
    "\n",
    "\n"
   ]
  },
  {
   "cell_type": "code",
   "execution_count": 6,
   "metadata": {
    "pycharm": {
     "name": "#%%\n"
    }
   },
   "outputs": [
    {
     "name": "stdout",
     "output_type": "stream",
     "text": [
      "Falha na tentativa de reembolso \n",
      "COBRANÇA RENOVAÇÃO ABUSIVA\n",
      "Cobrança indevida\n",
      "Cobrança indevida\n",
      "Dificuldade para cancelar renovação automatica\n",
      "Cobrança indevida \n",
      "Cobrança indevida\n",
      "Renovação\n",
      "Pagamento indevido \n",
      "norton antivirus debitou automatico da minha conta e nao extorna o valor\n",
      "10\n"
     ]
    }
   ],
   "source": [
    "linksList = []\n",
    "\n",
    "dataLink = beautiful_soup.findAll('div',attrs={'class':'sc-1pe7b5t-0 bJdtis'})\n",
    "# dataTitle = beautiful_soup.findAll('h4',attrs={'class':'sc-1pe7b5t-1 fTrwHU'})\n",
    "\n",
    "for div in dataLink:\n",
    "    links = div.findAll('a')\n",
    "    dataTitle = div.find('h4').getText()\n",
    "    print(dataTitle)\n",
    "    for a in links:\n",
    "        # print(a['href'] )\n",
    "        # print(dataTitle['title'] )\n",
    "\n",
    "        linksList.append(a['href'])\n",
    "\n",
    "print(len(linksList))"
   ]
  },
  {
   "cell_type": "code",
   "execution_count": 12,
   "outputs": [
    {
     "name": "stderr",
     "output_type": "stream",
     "text": [
      "C:\\Users\\ediva\\AppData\\Local\\Temp\\ipykernel_18156\\672629917.py:44: FutureWarning: The frame.append method is deprecated and will be removed from pandas in a future version. Use pandas.concat instead.\n",
      "  RA_df = RA_df.append({\"CaseID\":complaintIDnumber[1],\n",
      "C:\\Users\\ediva\\AppData\\Local\\Temp\\ipykernel_18156\\672629917.py:44: FutureWarning: The frame.append method is deprecated and will be removed from pandas in a future version. Use pandas.concat instead.\n",
      "  RA_df = RA_df.append({\"CaseID\":complaintIDnumber[1],\n",
      "C:\\Users\\ediva\\AppData\\Local\\Temp\\ipykernel_18156\\672629917.py:44: FutureWarning: The frame.append method is deprecated and will be removed from pandas in a future version. Use pandas.concat instead.\n",
      "  RA_df = RA_df.append({\"CaseID\":complaintIDnumber[1],\n",
      "C:\\Users\\ediva\\AppData\\Local\\Temp\\ipykernel_18156\\672629917.py:44: FutureWarning: The frame.append method is deprecated and will be removed from pandas in a future version. Use pandas.concat instead.\n",
      "  RA_df = RA_df.append({\"CaseID\":complaintIDnumber[1],\n",
      "C:\\Users\\ediva\\AppData\\Local\\Temp\\ipykernel_18156\\672629917.py:44: FutureWarning: The frame.append method is deprecated and will be removed from pandas in a future version. Use pandas.concat instead.\n",
      "  RA_df = RA_df.append({\"CaseID\":complaintIDnumber[1],\n",
      "C:\\Users\\ediva\\AppData\\Local\\Temp\\ipykernel_18156\\672629917.py:44: FutureWarning: The frame.append method is deprecated and will be removed from pandas in a future version. Use pandas.concat instead.\n",
      "  RA_df = RA_df.append({\"CaseID\":complaintIDnumber[1],\n",
      "C:\\Users\\ediva\\AppData\\Local\\Temp\\ipykernel_18156\\672629917.py:44: FutureWarning: The frame.append method is deprecated and will be removed from pandas in a future version. Use pandas.concat instead.\n",
      "  RA_df = RA_df.append({\"CaseID\":complaintIDnumber[1],\n",
      "C:\\Users\\ediva\\AppData\\Local\\Temp\\ipykernel_18156\\672629917.py:44: FutureWarning: The frame.append method is deprecated and will be removed from pandas in a future version. Use pandas.concat instead.\n",
      "  RA_df = RA_df.append({\"CaseID\":complaintIDnumber[1],\n",
      "C:\\Users\\ediva\\AppData\\Local\\Temp\\ipykernel_18156\\672629917.py:44: FutureWarning: The frame.append method is deprecated and will be removed from pandas in a future version. Use pandas.concat instead.\n",
      "  RA_df = RA_df.append({\"CaseID\":complaintIDnumber[1],\n",
      "C:\\Users\\ediva\\AppData\\Local\\Temp\\ipykernel_18156\\672629917.py:44: FutureWarning: The frame.append method is deprecated and will be removed from pandas in a future version. Use pandas.concat instead.\n",
      "  RA_df = RA_df.append({\"CaseID\":complaintIDnumber[1],\n"
     ]
    }
   ],
   "source": [
    "# dataframe from our list\n",
    "\n",
    "RA_df = pd.DataFrame(columns=[\"CaseID\", \"Date\", \"Time\", \"LocationCity\", \"LocationState\", \"Status\", \"dealAgain\", \"Rate\", \"Links\"])\n",
    "\n",
    "for i  in range(len(linksList)):\n",
    "\n",
    "    intoURL = \"https://www.reclameaqui.com.br\" + linksList[i]\n",
    "\n",
    "    html_data_RA = requests.get(intoURL, headers=HEADERS)\n",
    "\n",
    "    beautiful_soup_RA = BeautifulSoup(html_data_RA.content, 'html.parser')\n",
    "    # print(beautiful_soup_RA.title)\n",
    "\n",
    "    # data_RA = beautiful_soup_RA.findAll('div')\n",
    "\n",
    "    # complaintID = beautiful_soup_RA.find('div',attrs={'data-testid':'complaint-id'}).getText()\n",
    "    # complaintIDnumber = complaintID.split()\n",
    "    #\n",
    "    # complaintCreationDate = beautiful_soup_RA.find('div',attrs={'class':'lzlu7c-6 lzlu7c-8 dLWUvV ePqLRr'}).getText()\n",
    "    # complaintCreation = complaintCreationDate.split()\n",
    "    #\n",
    "    # complaintLocation = beautiful_soup_RA.find('div',attrs={'class':'lzlu7c-6 lzlu7c-7 dLWUvV erEgDU'}).getText()\n",
    "    # complaintLocation = complaintLocation.split(\"-\")\n",
    "\n",
    "    complaint = beautiful_soup_RA.find('div',attrs={'class':'lzlu7c-10 fYCrvq'})\n",
    "    # print(complaint)\n",
    "    complaintID = complaint.find('span',attrs={'data-testid':'complaint-id'}).getText()\n",
    "    complaintIDnumber = (complaintID.split())\n",
    "    complaintCreationDate = complaint.find('span',attrs={'data-testid':'complaint-creation-date'}).getText()\n",
    "    complaintCreation = (complaintCreationDate.split())\n",
    "    complaintLocation = complaint.find('span',attrs={'data-testid':'complaint-location'}).getText()\n",
    "    complaintLocation = (complaintLocation.split(\"-\"))\n",
    "\n",
    "    complaintStatus = beautiful_soup_RA.find('div',attrs={'data-testid':'complaint-status'}).getText()\n",
    "\n",
    "    if complaintStatus == \"Respondida\" or \"Em réplica\":\n",
    "        dealAgainStatus = \"NaN\"\n",
    "        valueRate = \"NaN\"\n",
    "    if complaintStatus == \"Resolvido\" :\n",
    "        dealAgainStatus = beautiful_soup_RA.find('div',attrs={'data-testid':'complaint-deal-again'}).getText()\n",
    "        valueRate = beautiful_soup_RA.find('div',attrs={'class':'uh4o7z-3 ceUcTc'}).getText()\n",
    "\n",
    "\n",
    "    RA_df = RA_df.append({\"CaseID\":complaintIDnumber[1],\n",
    "                          \"Date\":complaintCreation[0],\n",
    "                          \"Time\":complaintCreation[2],\n",
    "                          \"LocationCity\":complaintLocation[0],\n",
    "                          \"LocationState\":complaintLocation[1],\n",
    "                          \"Status\":complaintStatus,\n",
    "                          \"dealAgain\":dealAgainStatus,\n",
    "                          \"Rate\":valueRate,\n",
    "                          \"Links\":linksList[i]}, ignore_index=True)\n",
    "\n"
   ],
   "metadata": {
    "collapsed": false,
    "pycharm": {
     "name": "#%% internal message\n"
    }
   }
  },
  {
   "cell_type": "code",
   "execution_count": 13,
   "outputs": [
    {
     "data": {
      "text/plain": "      CaseID        Date   Time          LocationCity LocationState  \\\n0  148212687  09/08/2022  17:36       Rio de Janeiro             RJ   \n1  148191909  09/08/2022  13:23            São Paulo             SP   \n2  148165221  09/08/2022  08:03            São Paulo             SP   \n3  148146293  08/08/2022  19:30       Belo Horizonte             MG   \n4  148142421  08/08/2022  18:33  São José dos Campos             SP   \n5  148126479  08/08/2022  15:15              Itupeva             SP   \n6  148121105  08/08/2022  14:14    Bragança Paulista             SP   \n7  148097049  08/08/2022  09:45             Campinas             SP   \n8  148088787  08/08/2022  00:45        Florianópolis             SC   \n9  148066865  07/08/2022  10:30         Porto Alegre             RS   \n\n       Status dealAgain Rate  \\\n0  Em réplica       NaN  NaN   \n1   Resolvido       Sim    9   \n2  Respondida       NaN  NaN   \n3   Resolvido       Sim   10   \n4  Respondida       NaN  NaN   \n5  Em réplica       NaN  NaN   \n6   Resolvido       Sim    8   \n7  Respondida       NaN  NaN   \n8  Respondida       NaN  NaN   \n9   Resolvido       Sim    8   \n\n                                               Links  \n0  /norton/falha-na-tentativa-de-reembolso_O5eMCk...  \n1  /norton/cobranca-renovacao-abusiva_fLjhBkZIyNd...  \n2         /norton/cobranca-indevida_ccUq2UxK7sqwfD5E  \n3         /norton/cobranca-indevida_SqrrNpVvHTcrhtV8  \n4  /norton/dificuldade-para-cancelar-renovacao-au...  \n5         /norton/cobranca-indevida_d84k3hh2Wm90QPVH  \n6         /norton/cobranca-indevida_BC6i6wdTjCfVU5Cp  \n7                 /norton/renovacao_KSgBiKslBFyJO0R4  \n8        /norton/pagamento-indevido_23ygBFHhO92RNl80  \n9  /norton/norton-antivirus-debitou-automatico-da...  ",
      "text/html": "<div>\n<style scoped>\n    .dataframe tbody tr th:only-of-type {\n        vertical-align: middle;\n    }\n\n    .dataframe tbody tr th {\n        vertical-align: top;\n    }\n\n    .dataframe thead th {\n        text-align: right;\n    }\n</style>\n<table border=\"1\" class=\"dataframe\">\n  <thead>\n    <tr style=\"text-align: right;\">\n      <th></th>\n      <th>CaseID</th>\n      <th>Date</th>\n      <th>Time</th>\n      <th>LocationCity</th>\n      <th>LocationState</th>\n      <th>Status</th>\n      <th>dealAgain</th>\n      <th>Rate</th>\n      <th>Links</th>\n    </tr>\n  </thead>\n  <tbody>\n    <tr>\n      <th>0</th>\n      <td>148212687</td>\n      <td>09/08/2022</td>\n      <td>17:36</td>\n      <td>Rio de Janeiro</td>\n      <td>RJ</td>\n      <td>Em réplica</td>\n      <td>NaN</td>\n      <td>NaN</td>\n      <td>/norton/falha-na-tentativa-de-reembolso_O5eMCk...</td>\n    </tr>\n    <tr>\n      <th>1</th>\n      <td>148191909</td>\n      <td>09/08/2022</td>\n      <td>13:23</td>\n      <td>São Paulo</td>\n      <td>SP</td>\n      <td>Resolvido</td>\n      <td>Sim</td>\n      <td>9</td>\n      <td>/norton/cobranca-renovacao-abusiva_fLjhBkZIyNd...</td>\n    </tr>\n    <tr>\n      <th>2</th>\n      <td>148165221</td>\n      <td>09/08/2022</td>\n      <td>08:03</td>\n      <td>São Paulo</td>\n      <td>SP</td>\n      <td>Respondida</td>\n      <td>NaN</td>\n      <td>NaN</td>\n      <td>/norton/cobranca-indevida_ccUq2UxK7sqwfD5E</td>\n    </tr>\n    <tr>\n      <th>3</th>\n      <td>148146293</td>\n      <td>08/08/2022</td>\n      <td>19:30</td>\n      <td>Belo Horizonte</td>\n      <td>MG</td>\n      <td>Resolvido</td>\n      <td>Sim</td>\n      <td>10</td>\n      <td>/norton/cobranca-indevida_SqrrNpVvHTcrhtV8</td>\n    </tr>\n    <tr>\n      <th>4</th>\n      <td>148142421</td>\n      <td>08/08/2022</td>\n      <td>18:33</td>\n      <td>São José dos Campos</td>\n      <td>SP</td>\n      <td>Respondida</td>\n      <td>NaN</td>\n      <td>NaN</td>\n      <td>/norton/dificuldade-para-cancelar-renovacao-au...</td>\n    </tr>\n    <tr>\n      <th>5</th>\n      <td>148126479</td>\n      <td>08/08/2022</td>\n      <td>15:15</td>\n      <td>Itupeva</td>\n      <td>SP</td>\n      <td>Em réplica</td>\n      <td>NaN</td>\n      <td>NaN</td>\n      <td>/norton/cobranca-indevida_d84k3hh2Wm90QPVH</td>\n    </tr>\n    <tr>\n      <th>6</th>\n      <td>148121105</td>\n      <td>08/08/2022</td>\n      <td>14:14</td>\n      <td>Bragança Paulista</td>\n      <td>SP</td>\n      <td>Resolvido</td>\n      <td>Sim</td>\n      <td>8</td>\n      <td>/norton/cobranca-indevida_BC6i6wdTjCfVU5Cp</td>\n    </tr>\n    <tr>\n      <th>7</th>\n      <td>148097049</td>\n      <td>08/08/2022</td>\n      <td>09:45</td>\n      <td>Campinas</td>\n      <td>SP</td>\n      <td>Respondida</td>\n      <td>NaN</td>\n      <td>NaN</td>\n      <td>/norton/renovacao_KSgBiKslBFyJO0R4</td>\n    </tr>\n    <tr>\n      <th>8</th>\n      <td>148088787</td>\n      <td>08/08/2022</td>\n      <td>00:45</td>\n      <td>Florianópolis</td>\n      <td>SC</td>\n      <td>Respondida</td>\n      <td>NaN</td>\n      <td>NaN</td>\n      <td>/norton/pagamento-indevido_23ygBFHhO92RNl80</td>\n    </tr>\n    <tr>\n      <th>9</th>\n      <td>148066865</td>\n      <td>07/08/2022</td>\n      <td>10:30</td>\n      <td>Porto Alegre</td>\n      <td>RS</td>\n      <td>Resolvido</td>\n      <td>Sim</td>\n      <td>8</td>\n      <td>/norton/norton-antivirus-debitou-automatico-da...</td>\n    </tr>\n  </tbody>\n</table>\n</div>"
     },
     "execution_count": 13,
     "metadata": {},
     "output_type": "execute_result"
    }
   ],
   "source": [
    "RA_df.head(10)\n"
   ],
   "metadata": {
    "collapsed": false,
    "pycharm": {
     "name": "#%%\n"
    }
   }
  },
  {
   "cell_type": "code",
   "execution_count": 9,
   "outputs": [],
   "source": [
    "def getLinks(urlLink):\n",
    "    html_data = requests.get(urlLink, headers=HEADERS)\n",
    "    beautiful_soup = BeautifulSoup(html_data.content, 'html.parser')\n",
    "    linksList = []\n",
    "    dataLink = beautiful_soup.findAll('div',attrs={'class':'sc-1pe7b5t-0 bJdtis'})\n",
    "    for div in dataLink:\n",
    "        links = div.findAll('a')\n",
    "        dataTitle = div.find('h4').getText()\n",
    "        print(dataTitle)\n",
    "        for a in links:\n",
    "            print(a['href'] )\n",
    "            linksList.append(a['href'])\n"
   ],
   "metadata": {
    "collapsed": false,
    "pycharm": {
     "name": "#%% Function to extract links from webpage\n"
    }
   }
  },
  {
   "cell_type": "code",
   "execution_count": 10,
   "outputs": [
    {
     "name": "stdout",
     "output_type": "stream",
     "text": [
      "Falha na tentativa de reembolso \n",
      "/norton/falha-na-tentativa-de-reembolso_O5eMCkI5eGUZghuc\n",
      "COBRANÇA RENOVAÇÃO ABUSIVA\n",
      "/norton/cobranca-renovacao-abusiva_fLjhBkZIyNdOBsxF\n",
      "Cobrança indevida\n",
      "/norton/cobranca-indevida_ccUq2UxK7sqwfD5E\n",
      "Cobrança indevida\n",
      "/norton/cobranca-indevida_SqrrNpVvHTcrhtV8\n",
      "Dificuldade para cancelar renovação automatica\n",
      "/norton/dificuldade-para-cancelar-renovacao-automatica_bPTJdrsq54F5qOob\n",
      "Cobrança indevida \n",
      "/norton/cobranca-indevida_d84k3hh2Wm90QPVH\n",
      "Cobrança indevida\n",
      "/norton/cobranca-indevida_BC6i6wdTjCfVU5Cp\n",
      "Renovação\n",
      "/norton/renovacao_KSgBiKslBFyJO0R4\n",
      "Pagamento indevido \n",
      "/norton/pagamento-indevido_23ygBFHhO92RNl80\n",
      "norton antivirus debitou automatico da minha conta e nao extorna o valor\n",
      "/norton/norton-antivirus-debitou-automatico-da-minha-conta-e-nao-extorna-o-valor_khj3YqbKDtzdrCfc\n",
      "None\n"
     ]
    }
   ],
   "source": [
    "HEADERS = ({'User-Agent':\n",
    "            'Mozilla/5.0 (X11; Linux x86_64) AppleWebKit/537.36 (KHTML, like Gecko) Chrome/44.0.2403.157 Safari/537.36',\n",
    "            'Accept-Language': 'en-US, en;q=0.5'})\n",
    "\n",
    "URL = \"https://www.reclameaqui.com.br/empresa/norton/lista-reclamacoes/?pagina=31\"\n",
    "\n",
    "print( getLinks(URL) )"
   ],
   "metadata": {
    "collapsed": false,
    "pycharm": {
     "name": "#%%\n"
    }
   }
  },
  {
   "cell_type": "code",
   "execution_count": 11,
   "outputs": [
    {
     "name": "stdout",
     "output_type": "stream",
     "text": [
      "<div class=\"lzlu7c-10 fYCrvq\"><div class=\"lzlu7c-6 lzlu7c-7 dLWUvV erEgDU\"><svg aria-hidden=\"true\" class=\"MuiSvgIcon-root\" focusable=\"false\" viewbox=\"0 0 24 24\"><path d=\"M12,11.5A2.5,2.5 0 0,1 9.5,9A2.5,2.5 0 0,1 12,6.5A2.5,2.5 0 0,1 14.5,9A2.5,2.5 0 0,1 12,11.5M12,2A7,7 0 0,0 5,9C5,14.25 12,22 12,22C12,22 19,14.25 19,9A7,7 0 0,0 12,2Z\"></path></svg><span data-testid=\"complaint-location\">Porto Alegre - RS</span></div><div class=\"lzlu7c-6 lzlu7c-8 dLWUvV ePqLRr\"><svg aria-hidden=\"true\" class=\"MuiSvgIcon-root\" focusable=\"false\" viewbox=\"0 0 24 24\"><path d=\"M19,19H5V8H19M16,1V3H8V1H6V3H5C3.89,3 3,3.89 3,5V19A2,2 0 0,0 5,21H19A2,2 0 0,0 21,19V5C21,3.89 20.1,3 19,3H18V1\"></path></svg><span data-testid=\"complaint-creation-date\">07/08/2022 às 10:30</span></div><div class=\"lzlu7c-6 lzlu7c-9 dLWUvV fuXXZq\"><span class=\"lzlu7c-12 joySdk\" data-testid=\"complaint-id\"><b>ID:</b> 148066865</span></div></div>\n"
     ]
    },
    {
     "ename": "TypeError",
     "evalue": "expected string or bytes-like object",
     "output_type": "error",
     "traceback": [
      "\u001B[1;31m---------------------------------------------------------------------------\u001B[0m",
      "\u001B[1;31mTypeError\u001B[0m                                 Traceback (most recent call last)",
      "Input \u001B[1;32mIn [11]\u001B[0m, in \u001B[0;36m<cell line: 2>\u001B[1;34m()\u001B[0m\n\u001B[0;32m      1\u001B[0m \u001B[38;5;28mprint\u001B[39m(complaint)\n\u001B[1;32m----> 2\u001B[0m \u001B[38;5;28mprint\u001B[39m(\u001B[43mre\u001B[49m\u001B[38;5;241;43m.\u001B[39;49m\u001B[43msplit\u001B[49m\u001B[43m(\u001B[49m\u001B[38;5;124;43m'\u001B[39;49m\u001B[38;5;124;43m-| \u001B[39;49m\u001B[38;5;124;43m'\u001B[39;49m\u001B[43m,\u001B[49m\u001B[43m \u001B[49m\u001B[43mcomplaint\u001B[49m\u001B[43m)\u001B[49m)\n",
      "File \u001B[1;32mc:\\programdata\\anaconda3\\envs\\pythonproject\\lib\\re.py:231\u001B[0m, in \u001B[0;36msplit\u001B[1;34m(pattern, string, maxsplit, flags)\u001B[0m\n\u001B[0;32m    223\u001B[0m \u001B[38;5;28;01mdef\u001B[39;00m \u001B[38;5;21msplit\u001B[39m(pattern, string, maxsplit\u001B[38;5;241m=\u001B[39m\u001B[38;5;241m0\u001B[39m, flags\u001B[38;5;241m=\u001B[39m\u001B[38;5;241m0\u001B[39m):\n\u001B[0;32m    224\u001B[0m     \u001B[38;5;124;03m\"\"\"Split the source string by the occurrences of the pattern,\u001B[39;00m\n\u001B[0;32m    225\u001B[0m \u001B[38;5;124;03m    returning a list containing the resulting substrings.  If\u001B[39;00m\n\u001B[0;32m    226\u001B[0m \u001B[38;5;124;03m    capturing parentheses are used in pattern, then the text of all\u001B[39;00m\n\u001B[1;32m   (...)\u001B[0m\n\u001B[0;32m    229\u001B[0m \u001B[38;5;124;03m    and the remainder of the string is returned as the final element\u001B[39;00m\n\u001B[0;32m    230\u001B[0m \u001B[38;5;124;03m    of the list.\"\"\"\u001B[39;00m\n\u001B[1;32m--> 231\u001B[0m     \u001B[38;5;28;01mreturn\u001B[39;00m \u001B[43m_compile\u001B[49m\u001B[43m(\u001B[49m\u001B[43mpattern\u001B[49m\u001B[43m,\u001B[49m\u001B[43m \u001B[49m\u001B[43mflags\u001B[49m\u001B[43m)\u001B[49m\u001B[38;5;241;43m.\u001B[39;49m\u001B[43msplit\u001B[49m\u001B[43m(\u001B[49m\u001B[43mstring\u001B[49m\u001B[43m,\u001B[49m\u001B[43m \u001B[49m\u001B[43mmaxsplit\u001B[49m\u001B[43m)\u001B[49m\n",
      "\u001B[1;31mTypeError\u001B[0m: expected string or bytes-like object"
     ]
    }
   ],
   "source": [
    "print(complaint)\n",
    "print(re.split('-| ', complaint))"
   ],
   "metadata": {
    "collapsed": false,
    "pycharm": {
     "name": "#%%\n"
    }
   }
  }
 ],
 "metadata": {
  "kernelspec": {
   "display_name": "Python 3",
   "language": "python",
   "name": "python3"
  },
  "language_info": {
   "codemirror_mode": {
    "name": "ipython",
    "version": 3
   },
   "file_extension": ".py",
   "mimetype": "text/x-python",
   "name": "python",
   "nbconvert_exporter": "python",
   "pygments_lexer": "ipython3",
   "version": "3.8.13"
  },
  "varInspector": {
   "cols": {
    "lenName": 16,
    "lenType": 16,
    "lenVar": 40
   },
   "kernels_config": {
    "python": {
     "delete_cmd_postfix": "",
     "delete_cmd_prefix": "del ",
     "library": "var_list.py",
     "varRefreshCmd": "print(var_dic_list())"
    },
    "r": {
     "delete_cmd_postfix": ") ",
     "delete_cmd_prefix": "rm(",
     "library": "var_list.r",
     "varRefreshCmd": "cat(var_dic_list()) "
    }
   },
   "types_to_exclude": [
    "module",
    "function",
    "builtin_function_or_method",
    "instance",
    "_Feature"
   ],
   "window_display": false
  }
 },
 "nbformat": 4,
 "nbformat_minor": 1
}